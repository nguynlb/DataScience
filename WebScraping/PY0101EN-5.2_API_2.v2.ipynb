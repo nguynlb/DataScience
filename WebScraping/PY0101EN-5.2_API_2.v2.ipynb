{
 "cells": [
  {
   "cell_type": "markdown",
   "id": "68061a86-d3cb-445d-841e-1ebaae3d7d67",
   "metadata": {},
   "source": [
    "<center>\n",
    "    <img src=\"https://cf-courses-data.s3.us.cloud-object-storage.appdomain.cloud/assets/logos/SN_web_lightmode.png\" width=\"300\" alt=\"cognitiveclass.ai logo\">\n",
    "</center>\n",
    "\n",
    "# Simple APIs \n",
    "## Random User and Fruitvice API Examples\n",
    "\n",
    "\n",
    "Estimated time needed: **25** minutes\n",
    "\n",
    "## Objectives\n",
    "\n",
    "After completing this lab you will be able to:\n",
    "\n",
    "*   Load and use RandomUser API, using `RandomUser()` Python library\n",
    "*   Load and use Fruitvice API, using `requests` Python library\n",
    "\n"
   ]
  },
  {
   "cell_type": "markdown",
   "id": "c857de9b-119a-48bd-b429-686ca34037e7",
   "metadata": {},
   "source": [
    "The purpose of this notebook is to provide more examples on how to use simple APIs. As you have already learned from previous videos and notebooks, API stands for Application Programming Interface and is a software intermediary that allows two applications to talk to each other. \n",
    "\n",
    "The advantages of using APIs:\n",
    " *   **Automation**. Less human effort is required and workflows can be easily updated to become faster and more      \n",
    "     productive.\n",
    " *   **Efficiency**. It allows to use the capabilities of one of the already developed APIs than to try to \n",
    "     independently implement some functionality from scratch.\n",
    " \n",
    "The disadvantage of using APIs:\n",
    " *   **Secirity**. If the API is poorly integrated, it means it will be vulnerable to attacks, resulting in data    \n",
    "     breeches or losses having financial or reputation implications.\n",
    "\n",
    "One of the applications we will use in this notebook is Random User Generator. RandomUser is an open-source, free API providing developers with randomly generated users to be used as placeholders for testing purposes. This makes the tool similar to Lorem Ipsum, but is a placeholder for people instead of text. The API can return multiple results, as well as specify generated user details such as gender, email, image, username, address, title, first and last name, and more. More information on [RandomUser](https://randomuser.me/documentation?utm_medium=Exinfluencer&utm_source=Exinfluencer&utm_content=000026UJ&utm_term=10006555&utm_id=NA-SkillsNetwork-Channel-SkillsNetworkCoursesIBMDeveloperSkillsNetworkPY0101ENSkillsNetwork1005-2022-01-01#intro) can be found here.\n",
    "\n",
    "Another example of simple API we will use in this notebook is Fruitvice application. The Fruitvice API webservice which provides data for all kinds of fruit! You can use Fruityvice to find out interesting information about fruit and educate yourself. The webservice is completely free to use and contribute to.\n"
   ]
  },
  {
   "cell_type": "markdown",
   "id": "53a2f0f5-7b34-4241-9ea7-f2775cb4f630",
   "metadata": {},
   "source": [
    "## Example 1: RandomUser API\n",
    "Bellow are Get Methods parameters that we can generate. For more information on the parameters, please visit this [documentation](https://randomuser.me/documentation?utm_medium=Exinfluencer&utm_source=Exinfluencer&utm_content=000026UJ&utm_term=10006555&utm_id=NA-SkillsNetwork-Channel-SkillsNetworkCoursesIBMDeveloperSkillsNetworkPY0101ENSkillsNetwork1005-2022-01-01) page.\n"
   ]
  },
  {
   "cell_type": "markdown",
   "id": "730efcd0-5ae8-4bf3-8aaf-4359d617e4f6",
   "metadata": {},
   "source": [
    "## **Get Methods**\n",
    "\n",
    "- get_cell()\n",
    "- get_city()\n",
    "- get_dob()\n",
    "- get_email()\n",
    "- get_first_name()\n",
    "- get_full_name()\n",
    "- get_gender()\n",
    "- get_id()\n",
    "- get_id_number()\n",
    "- get_id_type()\n",
    "- get_info()\n",
    "- get_last_name()\n",
    "- get_login_md5()\n",
    "- get_login_salt()\n",
    "- get_login_sha1()\n",
    "- get_login_sha256()\n",
    "- get_nat()\n",
    "- get_password()\n",
    "- get_phone()\n",
    "- get_picture()\n",
    "- get_postcode()\n",
    "- get_registered()\n",
    "- get_state()\n",
    "- get_street()\n",
    "- get_username()\n",
    "- get_zipcode()\n"
   ]
  },
  {
   "cell_type": "markdown",
   "id": "2d02ae93-26eb-44b4-afb4-8a0b0d0f746b",
   "metadata": {},
   "source": [
    "To start using the API you can install the `randomuser` library running the `pip install` command.\n"
   ]
  },
  {
   "cell_type": "code",
   "execution_count": 1,
   "id": "188dc0c6-2251-494b-9e60-d6a18a1964ad",
   "metadata": {},
   "outputs": [
    {
     "name": "stdout",
     "output_type": "stream",
     "text": [
      "Collecting randomuser\n",
      "  Downloading randomuser-1.6.tar.gz (5.0 kB)\n",
      "  Preparing metadata (setup.py): started\n",
      "  Preparing metadata (setup.py): finished with status 'done'\n",
      "Building wheels for collected packages: randomuser\n",
      "  Building wheel for randomuser (setup.py): started\n",
      "  Building wheel for randomuser (setup.py): finished with status 'done'\n",
      "  Created wheel for randomuser: filename=randomuser-1.6-py3-none-any.whl size=5092 sha256=27ecdc02ad32e48915d911a9a4e7290b2488c97ff273ecea7061e5993dfbdb54\n",
      "  Stored in directory: c:\\users\\admin\\appdata\\local\\pip\\cache\\wheels\\41\\6f\\23\\878c103a235dc2d4e85a3965c124aae8a28470c541b81aa2ba\n",
      "Successfully built randomuser\n",
      "Installing collected packages: randomuser\n",
      "Successfully installed randomuser-1.6\n"
     ]
    }
   ],
   "source": [
    "!pip install randomuser"
   ]
  },
  {
   "cell_type": "markdown",
   "id": "6ece13c1-bb2f-40ee-af2b-7f9bbdea015f",
   "metadata": {},
   "source": [
    "Then, we will load the necessary libraries.\n"
   ]
  },
  {
   "cell_type": "code",
   "execution_count": 3,
   "id": "0191d6b6-debe-4f55-b1e5-e2a3cb0289fa",
   "metadata": {},
   "outputs": [],
   "source": [
    "from randomuser import RandomUser\n",
    "import pandas as pd"
   ]
  },
  {
   "cell_type": "markdown",
   "id": "94f04cfa-54c6-492d-bf0a-0b82f575bd07",
   "metadata": {},
   "source": [
    "First, we will create a random user object, r.\n"
   ]
  },
  {
   "cell_type": "code",
   "execution_count": null,
   "id": "e526f9d5-9565-4297-8908-3ac03244cd13",
   "metadata": {},
   "outputs": [],
   "source": [
    "r = RandomUser()"
   ]
  },
  {
   "cell_type": "markdown",
   "id": "994dc83a-0051-4bcf-86c5-53b765dcb05f",
   "metadata": {},
   "source": [
    "Then, using `generate_users()` function, we get a list of random 10 users.\n"
   ]
  },
  {
   "cell_type": "code",
   "execution_count": null,
   "id": "17e5140d-b1a6-4748-be8d-d61d13d5d07e",
   "metadata": {},
   "outputs": [],
   "source": [
    "some_list = r.generate_users(10)"
   ]
  },
  {
   "cell_type": "code",
   "execution_count": null,
   "id": "c7ca4ba2-4de9-45cb-9fa0-8dcaf4f87cad",
   "metadata": {},
   "outputs": [],
   "source": [
    "some_list"
   ]
  },
  {
   "cell_type": "markdown",
   "id": "ce8d25df-829d-405e-875f-2f1bcd412659",
   "metadata": {},
   "source": [
    "The **\"Get Methods\"** functions mentioned at the beginning of this notebook, can generate the required parameters to construct a dataset. For example, to get full name, we call `get_full_name()` function.\n"
   ]
  },
  {
   "cell_type": "code",
   "execution_count": null,
   "id": "0cae3f5b-c3b8-44a8-ac5e-b7c260afdb98",
   "metadata": {},
   "outputs": [],
   "source": [
    "name = r.get_full_name()"
   ]
  },
  {
   "cell_type": "markdown",
   "id": "d6a1a909-186c-46f9-820b-af9c411f8552",
   "metadata": {},
   "source": [
    "Let's say we only need 10 users with full names and their email addresses. We can write a \"for-loop\" to print these 10 users.\n"
   ]
  },
  {
   "cell_type": "code",
   "execution_count": null,
   "id": "511a1f2b-e237-4aaf-9d3f-d078288adbe3",
   "metadata": {},
   "outputs": [],
   "source": [
    "for user in some_list:\n",
    "    print (user.get_full_name(),\" \",user.get_email())"
   ]
  },
  {
   "cell_type": "markdown",
   "id": "84997b46-aea6-44ff-938f-09e9374ad2fe",
   "metadata": {},
   "source": [
    "## Exercise 1\n",
    "In this Exercise, generate photos of the random 5 users.\n"
   ]
  },
  {
   "cell_type": "code",
   "execution_count": 16,
   "id": "67546a3c-1a8a-496a-a2aa-7c587e27466f",
   "metadata": {},
   "outputs": [
    {
     "name": "stdout",
     "output_type": "stream",
     "text": [
      "Alex Davies\n",
      "Eli Taylor\n",
      "Alex Moreno\n",
      "امیر محمدخان\n",
      "William Bonnet\n"
     ]
    }
   ],
   "source": [
    "## Write your code here\n",
    "r = RandomUser()\n",
    "for user in r.generate_users(5):\n",
    "    print(user.get_full_name())"
   ]
  },
  {
   "cell_type": "markdown",
   "id": "6616c7d9-27e8-4ae6-b400-b4def95992f1",
   "metadata": {},
   "source": [
    "<details><summary>Click here for the solution</summary>\n",
    "\n",
    "```python\n",
    "for user in some_list:\n",
    "    print (user.get_picture())\n",
    "```\n",
    "\n",
    "</details>\n"
   ]
  },
  {
   "cell_type": "markdown",
   "id": "4548d75a-0f45-4f59-839d-430b12931b36",
   "metadata": {},
   "source": [
    "To generate a table with information about the users, we can write a function containing all desirable parameters. For example, name, gender, city, etc. The parameters will depend on the requirements of the test to be performed. We call the Get Methods, listed at the beginning of this notebook. Then, we return pandas dataframe with the users.\n"
   ]
  },
  {
   "cell_type": "code",
   "execution_count": 25,
   "id": "477110c5-679e-4105-ba27-b521b6c34823",
   "metadata": {},
   "outputs": [],
   "source": [
    "def get_users():\n",
    "    list_user = []\n",
    "    for user in r.generate_users(10):\n",
    "        user_info = {\"Name\": user.get_full_name(), \"Gender\": user.get_gender(), \"City\": user.get_city(), \"State\": user.get_state(), \"Email\": user.get_email(), \"DOB\": user.get_dob(), \"Picture\": user.get_picture()}\n",
    "        \n",
    "        list_user.append(user_info)\n",
    "        \n",
    "    return pd.DataFrame(list_user)"
   ]
  },
  {
   "cell_type": "code",
   "execution_count": 28,
   "id": "9e67509b-adf8-482a-95d4-d7d69ac83a5f",
   "metadata": {},
   "outputs": [
    {
     "data": {
      "text/html": [
       "<div>\n",
       "<style scoped>\n",
       "    .dataframe tbody tr th:only-of-type {\n",
       "        vertical-align: middle;\n",
       "    }\n",
       "\n",
       "    .dataframe tbody tr th {\n",
       "        vertical-align: top;\n",
       "    }\n",
       "\n",
       "    .dataframe thead th {\n",
       "        text-align: right;\n",
       "    }\n",
       "</style>\n",
       "<table border=\"1\" class=\"dataframe\">\n",
       "  <thead>\n",
       "    <tr style=\"text-align: right;\">\n",
       "      <th></th>\n",
       "      <th>Name</th>\n",
       "      <th>Gender</th>\n",
       "      <th>City</th>\n",
       "      <th>State</th>\n",
       "      <th>Email</th>\n",
       "      <th>DOB</th>\n",
       "      <th>Picture</th>\n",
       "    </tr>\n",
       "  </thead>\n",
       "  <tbody>\n",
       "    <tr>\n",
       "      <th>0</th>\n",
       "      <td>Ayşe Kunter</td>\n",
       "      <td>female</td>\n",
       "      <td>Erzincan</td>\n",
       "      <td>Sivas</td>\n",
       "      <td>ayse.kunter@example.com</td>\n",
       "      <td>1968-09-12T16:08:07.362Z</td>\n",
       "      <td>https://randomuser.me/api/portraits/women/67.jpg</td>\n",
       "    </tr>\n",
       "    <tr>\n",
       "      <th>1</th>\n",
       "      <td>Maria Singh</td>\n",
       "      <td>female</td>\n",
       "      <td>Hamilton</td>\n",
       "      <td>Hawke'S Bay</td>\n",
       "      <td>maria.singh@example.com</td>\n",
       "      <td>1973-03-01T12:56:49.785Z</td>\n",
       "      <td>https://randomuser.me/api/portraits/women/36.jpg</td>\n",
       "    </tr>\n",
       "    <tr>\n",
       "      <th>2</th>\n",
       "      <td>Amaury Dumont</td>\n",
       "      <td>male</td>\n",
       "      <td>Montpellier</td>\n",
       "      <td>Ardèche</td>\n",
       "      <td>amaury.dumont@example.com</td>\n",
       "      <td>1948-02-07T16:30:50.988Z</td>\n",
       "      <td>https://randomuser.me/api/portraits/men/98.jpg</td>\n",
       "    </tr>\n",
       "    <tr>\n",
       "      <th>3</th>\n",
       "      <td>Juliette Patel</td>\n",
       "      <td>female</td>\n",
       "      <td>Cumberland</td>\n",
       "      <td>Ontario</td>\n",
       "      <td>juliette.patel@example.com</td>\n",
       "      <td>1971-03-20T16:34:00.719Z</td>\n",
       "      <td>https://randomuser.me/api/portraits/women/20.jpg</td>\n",
       "    </tr>\n",
       "    <tr>\n",
       "      <th>4</th>\n",
       "      <td>Julia Nicolas</td>\n",
       "      <td>female</td>\n",
       "      <td>Clermont-Ferrand</td>\n",
       "      <td>Lozère</td>\n",
       "      <td>julia.nicolas@example.com</td>\n",
       "      <td>1973-02-08T11:50:12.324Z</td>\n",
       "      <td>https://randomuser.me/api/portraits/women/70.jpg</td>\n",
       "    </tr>\n",
       "    <tr>\n",
       "      <th>5</th>\n",
       "      <td>Maxime Slawa</td>\n",
       "      <td>male</td>\n",
       "      <td>Souris</td>\n",
       "      <td>Saskatchewan</td>\n",
       "      <td>maxime.slawa@example.com</td>\n",
       "      <td>1985-11-15T17:34:42.085Z</td>\n",
       "      <td>https://randomuser.me/api/portraits/men/57.jpg</td>\n",
       "    </tr>\n",
       "    <tr>\n",
       "      <th>6</th>\n",
       "      <td>Johan Simon</td>\n",
       "      <td>male</td>\n",
       "      <td>Créteil</td>\n",
       "      <td>Dordogne</td>\n",
       "      <td>johan.simon@example.com</td>\n",
       "      <td>1945-11-23T12:28:38.556Z</td>\n",
       "      <td>https://randomuser.me/api/portraits/men/60.jpg</td>\n",
       "    </tr>\n",
       "    <tr>\n",
       "      <th>7</th>\n",
       "      <td>Jolanthe Gottwald</td>\n",
       "      <td>female</td>\n",
       "      <td>Weingarten</td>\n",
       "      <td>Saarland</td>\n",
       "      <td>jolanthe.gottwald@example.com</td>\n",
       "      <td>1973-05-01T04:04:41.949Z</td>\n",
       "      <td>https://randomuser.me/api/portraits/women/10.jpg</td>\n",
       "    </tr>\n",
       "    <tr>\n",
       "      <th>8</th>\n",
       "      <td>Sara Chambers</td>\n",
       "      <td>female</td>\n",
       "      <td>Newcastle West</td>\n",
       "      <td>Wicklow</td>\n",
       "      <td>sara.chambers@example.com</td>\n",
       "      <td>1976-09-01T18:48:45.350Z</td>\n",
       "      <td>https://randomuser.me/api/portraits/women/89.jpg</td>\n",
       "    </tr>\n",
       "    <tr>\n",
       "      <th>9</th>\n",
       "      <td>Johnni Wilson</td>\n",
       "      <td>male</td>\n",
       "      <td>Clonakilty</td>\n",
       "      <td>Dún Laoghaire–Rathdown</td>\n",
       "      <td>johnni.wilson@example.com</td>\n",
       "      <td>1955-04-29T02:46:20.331Z</td>\n",
       "      <td>https://randomuser.me/api/portraits/men/90.jpg</td>\n",
       "    </tr>\n",
       "  </tbody>\n",
       "</table>\n",
       "</div>"
      ],
      "text/plain": [
       "                Name  Gender              City                   State   \n",
       "0        Ayşe Kunter  female          Erzincan                   Sivas  \\\n",
       "1        Maria Singh  female          Hamilton             Hawke'S Bay   \n",
       "2      Amaury Dumont    male       Montpellier                 Ardèche   \n",
       "3     Juliette Patel  female        Cumberland                 Ontario   \n",
       "4      Julia Nicolas  female  Clermont-Ferrand                  Lozère   \n",
       "5       Maxime Slawa    male            Souris            Saskatchewan   \n",
       "6        Johan Simon    male           Créteil                Dordogne   \n",
       "7  Jolanthe Gottwald  female        Weingarten                Saarland   \n",
       "8      Sara Chambers  female    Newcastle West                 Wicklow   \n",
       "9      Johnni Wilson    male        Clonakilty  Dún Laoghaire–Rathdown   \n",
       "\n",
       "                           Email                       DOB   \n",
       "0        ayse.kunter@example.com  1968-09-12T16:08:07.362Z  \\\n",
       "1        maria.singh@example.com  1973-03-01T12:56:49.785Z   \n",
       "2      amaury.dumont@example.com  1948-02-07T16:30:50.988Z   \n",
       "3     juliette.patel@example.com  1971-03-20T16:34:00.719Z   \n",
       "4      julia.nicolas@example.com  1973-02-08T11:50:12.324Z   \n",
       "5       maxime.slawa@example.com  1985-11-15T17:34:42.085Z   \n",
       "6        johan.simon@example.com  1945-11-23T12:28:38.556Z   \n",
       "7  jolanthe.gottwald@example.com  1973-05-01T04:04:41.949Z   \n",
       "8      sara.chambers@example.com  1976-09-01T18:48:45.350Z   \n",
       "9      johnni.wilson@example.com  1955-04-29T02:46:20.331Z   \n",
       "\n",
       "                                            Picture  \n",
       "0  https://randomuser.me/api/portraits/women/67.jpg  \n",
       "1  https://randomuser.me/api/portraits/women/36.jpg  \n",
       "2    https://randomuser.me/api/portraits/men/98.jpg  \n",
       "3  https://randomuser.me/api/portraits/women/20.jpg  \n",
       "4  https://randomuser.me/api/portraits/women/70.jpg  \n",
       "5    https://randomuser.me/api/portraits/men/57.jpg  \n",
       "6    https://randomuser.me/api/portraits/men/60.jpg  \n",
       "7  https://randomuser.me/api/portraits/women/10.jpg  \n",
       "8  https://randomuser.me/api/portraits/women/89.jpg  \n",
       "9    https://randomuser.me/api/portraits/men/90.jpg  "
      ]
     },
     "execution_count": 28,
     "metadata": {},
     "output_type": "execute_result"
    }
   ],
   "source": [
    "get_users()"
   ]
  },
  {
   "cell_type": "code",
   "execution_count": 29,
   "id": "ab31564b-0fd0-4544-a99d-4161f3bec77f",
   "metadata": {},
   "outputs": [],
   "source": [
    "df1 = pd.DataFrame(get_users())  "
   ]
  },
  {
   "cell_type": "markdown",
   "id": "89433f7b-02e0-4b13-a164-8d312a2afc83",
   "metadata": {},
   "source": [
    "Now we have a *pandas* dataframe that can be used for any testing purposes that the tester might have.\n"
   ]
  },
  {
   "cell_type": "markdown",
   "id": "abcd19d7-680b-4212-abf1-21940a4339bd",
   "metadata": {},
   "source": [
    "## Example 2: Fruitvice API\n",
    "\n",
    "Another, more common way to use APIs, is through `requests` library. The next lab, Requests and HTTP, will contain more information about requests.\n",
    "\n",
    "We will start by importing all required libraries.\n"
   ]
  },
  {
   "cell_type": "code",
   "execution_count": 31,
   "id": "45ca6b41-99b4-4c8d-a0bb-2c9ad6752ebc",
   "metadata": {},
   "outputs": [],
   "source": [
    "import requests\n",
    "import json"
   ]
  },
  {
   "cell_type": "markdown",
   "id": "9aba8ae3-548b-4dc7-b4a9-3016a61a4cb0",
   "metadata": {},
   "source": [
    "We will obtain the [fruitvice](https://www.fruityvice.com/?utm_medium=Exinfluencer&utm_source=Exinfluencer&utm_content=000026UJ&utm_term=10006555&utm_id=NA-SkillsNetwork-Channel-SkillsNetworkCoursesIBMDeveloperSkillsNetworkPY0101ENSkillsNetwork1005-2022-01-01) API data using `requests.get(\"url\")` function. The data is in a json format.\n"
   ]
  },
  {
   "cell_type": "code",
   "execution_count": 32,
   "id": "e5ef936d-0b63-4eb0-a12c-e52702188a0a",
   "metadata": {},
   "outputs": [],
   "source": [
    "data = requests.get(\"https://fruityvice.com/api/fruit/all\")"
   ]
  },
  {
   "cell_type": "markdown",
   "id": "b7b0c8ce-14e9-4ed1-b8b1-a6b136eb3aba",
   "metadata": {},
   "source": [
    "We will retrieve results using `json.loads()` function.\n"
   ]
  },
  {
   "cell_type": "code",
   "execution_count": 33,
   "id": "218efc03-2a3b-4b5b-b545-4026e0219397",
   "metadata": {},
   "outputs": [],
   "source": [
    "results = json.loads(data.text)"
   ]
  },
  {
   "cell_type": "markdown",
   "id": "00e04f1d-d3ef-4071-b814-9c0987d52782",
   "metadata": {},
   "source": [
    "We will convert our json data into *pandas* data frame. \n"
   ]
  },
  {
   "cell_type": "code",
   "execution_count": 35,
   "id": "43c52e89-3f6b-4995-8191-f3f9725af047",
   "metadata": {},
   "outputs": [
    {
     "data": {
      "text/html": [
       "<div>\n",
       "<style scoped>\n",
       "    .dataframe tbody tr th:only-of-type {\n",
       "        vertical-align: middle;\n",
       "    }\n",
       "\n",
       "    .dataframe tbody tr th {\n",
       "        vertical-align: top;\n",
       "    }\n",
       "\n",
       "    .dataframe thead th {\n",
       "        text-align: right;\n",
       "    }\n",
       "</style>\n",
       "<table border=\"1\" class=\"dataframe\">\n",
       "  <thead>\n",
       "    <tr style=\"text-align: right;\">\n",
       "      <th></th>\n",
       "      <th>name</th>\n",
       "      <th>id</th>\n",
       "      <th>family</th>\n",
       "      <th>order</th>\n",
       "      <th>genus</th>\n",
       "      <th>nutritions</th>\n",
       "    </tr>\n",
       "  </thead>\n",
       "  <tbody>\n",
       "    <tr>\n",
       "      <th>0</th>\n",
       "      <td>Persimmon</td>\n",
       "      <td>52</td>\n",
       "      <td>Ebenaceae</td>\n",
       "      <td>Rosales</td>\n",
       "      <td>Diospyros</td>\n",
       "      <td>{'calories': 81, 'fat': 0.0, 'sugar': 18.0, 'c...</td>\n",
       "    </tr>\n",
       "    <tr>\n",
       "      <th>1</th>\n",
       "      <td>Strawberry</td>\n",
       "      <td>3</td>\n",
       "      <td>Rosaceae</td>\n",
       "      <td>Rosales</td>\n",
       "      <td>Fragaria</td>\n",
       "      <td>{'calories': 29, 'fat': 0.4, 'sugar': 5.4, 'ca...</td>\n",
       "    </tr>\n",
       "    <tr>\n",
       "      <th>2</th>\n",
       "      <td>Banana</td>\n",
       "      <td>1</td>\n",
       "      <td>Musaceae</td>\n",
       "      <td>Zingiberales</td>\n",
       "      <td>Musa</td>\n",
       "      <td>{'calories': 96, 'fat': 0.2, 'sugar': 17.2, 'c...</td>\n",
       "    </tr>\n",
       "    <tr>\n",
       "      <th>3</th>\n",
       "      <td>Tomato</td>\n",
       "      <td>5</td>\n",
       "      <td>Solanaceae</td>\n",
       "      <td>Solanales</td>\n",
       "      <td>Solanum</td>\n",
       "      <td>{'calories': 74, 'fat': 0.2, 'sugar': 2.6, 'ca...</td>\n",
       "    </tr>\n",
       "    <tr>\n",
       "      <th>4</th>\n",
       "      <td>Pear</td>\n",
       "      <td>4</td>\n",
       "      <td>Rosaceae</td>\n",
       "      <td>Rosales</td>\n",
       "      <td>Pyrus</td>\n",
       "      <td>{'calories': 57, 'fat': 0.1, 'sugar': 10.0, 'c...</td>\n",
       "    </tr>\n",
       "  </tbody>\n",
       "</table>\n",
       "</div>"
      ],
      "text/plain": [
       "         name  id      family         order      genus   \n",
       "0   Persimmon  52   Ebenaceae       Rosales  Diospyros  \\\n",
       "1  Strawberry   3    Rosaceae       Rosales   Fragaria   \n",
       "2      Banana   1    Musaceae  Zingiberales       Musa   \n",
       "3      Tomato   5  Solanaceae     Solanales    Solanum   \n",
       "4        Pear   4    Rosaceae       Rosales      Pyrus   \n",
       "\n",
       "                                          nutritions  \n",
       "0  {'calories': 81, 'fat': 0.0, 'sugar': 18.0, 'c...  \n",
       "1  {'calories': 29, 'fat': 0.4, 'sugar': 5.4, 'ca...  \n",
       "2  {'calories': 96, 'fat': 0.2, 'sugar': 17.2, 'c...  \n",
       "3  {'calories': 74, 'fat': 0.2, 'sugar': 2.6, 'ca...  \n",
       "4  {'calories': 57, 'fat': 0.1, 'sugar': 10.0, 'c...  "
      ]
     },
     "execution_count": 35,
     "metadata": {},
     "output_type": "execute_result"
    }
   ],
   "source": [
    "pd.DataFrame(results).head()"
   ]
  },
  {
   "cell_type": "markdown",
   "id": "4fa97e43-edd2-45ae-953f-f1d0cbaa7303",
   "metadata": {},
   "source": [
    "The result is in a nested json format. The 'nutrition' column contains multiple subcolumns, so the data needs to be 'flattened' or normalized.\n"
   ]
  },
  {
   "cell_type": "code",
   "execution_count": 36,
   "id": "b6877a5b-4038-485a-93fd-cc8c10157935",
   "metadata": {},
   "outputs": [],
   "source": [
    "df2 = pd.json_normalize(results)"
   ]
  },
  {
   "cell_type": "code",
   "execution_count": 37,
   "id": "ceef953c-c348-41b3-91af-b6755ddf91b0",
   "metadata": {},
   "outputs": [
    {
     "data": {
      "text/html": [
       "<div>\n",
       "<style scoped>\n",
       "    .dataframe tbody tr th:only-of-type {\n",
       "        vertical-align: middle;\n",
       "    }\n",
       "\n",
       "    .dataframe tbody tr th {\n",
       "        vertical-align: top;\n",
       "    }\n",
       "\n",
       "    .dataframe thead th {\n",
       "        text-align: right;\n",
       "    }\n",
       "</style>\n",
       "<table border=\"1\" class=\"dataframe\">\n",
       "  <thead>\n",
       "    <tr style=\"text-align: right;\">\n",
       "      <th></th>\n",
       "      <th>name</th>\n",
       "      <th>id</th>\n",
       "      <th>family</th>\n",
       "      <th>order</th>\n",
       "      <th>genus</th>\n",
       "      <th>nutritions.calories</th>\n",
       "      <th>nutritions.fat</th>\n",
       "      <th>nutritions.sugar</th>\n",
       "      <th>nutritions.carbohydrates</th>\n",
       "      <th>nutritions.protein</th>\n",
       "    </tr>\n",
       "  </thead>\n",
       "  <tbody>\n",
       "    <tr>\n",
       "      <th>0</th>\n",
       "      <td>Persimmon</td>\n",
       "      <td>52</td>\n",
       "      <td>Ebenaceae</td>\n",
       "      <td>Rosales</td>\n",
       "      <td>Diospyros</td>\n",
       "      <td>81</td>\n",
       "      <td>0.0</td>\n",
       "      <td>18.0</td>\n",
       "      <td>18.0</td>\n",
       "      <td>0.0</td>\n",
       "    </tr>\n",
       "    <tr>\n",
       "      <th>1</th>\n",
       "      <td>Strawberry</td>\n",
       "      <td>3</td>\n",
       "      <td>Rosaceae</td>\n",
       "      <td>Rosales</td>\n",
       "      <td>Fragaria</td>\n",
       "      <td>29</td>\n",
       "      <td>0.4</td>\n",
       "      <td>5.4</td>\n",
       "      <td>5.5</td>\n",
       "      <td>0.8</td>\n",
       "    </tr>\n",
       "    <tr>\n",
       "      <th>2</th>\n",
       "      <td>Banana</td>\n",
       "      <td>1</td>\n",
       "      <td>Musaceae</td>\n",
       "      <td>Zingiberales</td>\n",
       "      <td>Musa</td>\n",
       "      <td>96</td>\n",
       "      <td>0.2</td>\n",
       "      <td>17.2</td>\n",
       "      <td>22.0</td>\n",
       "      <td>1.0</td>\n",
       "    </tr>\n",
       "    <tr>\n",
       "      <th>3</th>\n",
       "      <td>Tomato</td>\n",
       "      <td>5</td>\n",
       "      <td>Solanaceae</td>\n",
       "      <td>Solanales</td>\n",
       "      <td>Solanum</td>\n",
       "      <td>74</td>\n",
       "      <td>0.2</td>\n",
       "      <td>2.6</td>\n",
       "      <td>3.9</td>\n",
       "      <td>0.9</td>\n",
       "    </tr>\n",
       "    <tr>\n",
       "      <th>4</th>\n",
       "      <td>Pear</td>\n",
       "      <td>4</td>\n",
       "      <td>Rosaceae</td>\n",
       "      <td>Rosales</td>\n",
       "      <td>Pyrus</td>\n",
       "      <td>57</td>\n",
       "      <td>0.1</td>\n",
       "      <td>10.0</td>\n",
       "      <td>15.0</td>\n",
       "      <td>0.4</td>\n",
       "    </tr>\n",
       "  </tbody>\n",
       "</table>\n",
       "</div>"
      ],
      "text/plain": [
       "         name  id      family         order      genus  nutritions.calories   \n",
       "0   Persimmon  52   Ebenaceae       Rosales  Diospyros                   81  \\\n",
       "1  Strawberry   3    Rosaceae       Rosales   Fragaria                   29   \n",
       "2      Banana   1    Musaceae  Zingiberales       Musa                   96   \n",
       "3      Tomato   5  Solanaceae     Solanales    Solanum                   74   \n",
       "4        Pear   4    Rosaceae       Rosales      Pyrus                   57   \n",
       "\n",
       "   nutritions.fat  nutritions.sugar  nutritions.carbohydrates   \n",
       "0             0.0              18.0                      18.0  \\\n",
       "1             0.4               5.4                       5.5   \n",
       "2             0.2              17.2                      22.0   \n",
       "3             0.2               2.6                       3.9   \n",
       "4             0.1              10.0                      15.0   \n",
       "\n",
       "   nutritions.protein  \n",
       "0                 0.0  \n",
       "1                 0.8  \n",
       "2                 1.0  \n",
       "3                 0.9  \n",
       "4                 0.4  "
      ]
     },
     "execution_count": 37,
     "metadata": {},
     "output_type": "execute_result"
    }
   ],
   "source": [
    "df2.head()"
   ]
  },
  {
   "cell_type": "markdown",
   "id": "f82aa0b1-6c76-4a4c-b49a-06b547f83ebc",
   "metadata": {},
   "source": [
    "Let's see if we can extract some information from this dataframe. Perhaps, we need to know the family and genus of a cherry.\n"
   ]
  },
  {
   "cell_type": "code",
   "execution_count": 38,
   "id": "78deb6ca-20be-4914-8000-8883ad03b150",
   "metadata": {},
   "outputs": [
    {
     "data": {
      "text/plain": [
       "('Rosaceae', 'Prunus')"
      ]
     },
     "execution_count": 38,
     "metadata": {},
     "output_type": "execute_result"
    }
   ],
   "source": [
    "cherry = df2.loc[df2[\"name\"] == 'Cherry']\n",
    "(cherry.iloc[0]['family']) , (cherry.iloc[0]['genus'])"
   ]
  },
  {
   "cell_type": "markdown",
   "id": "32320f22-ad28-48b4-8f19-15c6a041629c",
   "metadata": {},
   "source": [
    "## Exercise 2\n",
    "In this Exercise, find out how many calories are contained in a banana.\n"
   ]
  },
  {
   "cell_type": "code",
   "execution_count": 40,
   "id": "c0cd0153-2ed6-49c8-8819-da39793957bb",
   "metadata": {},
   "outputs": [
    {
     "data": {
      "text/plain": [
       "96"
      ]
     },
     "execution_count": 40,
     "metadata": {},
     "output_type": "execute_result"
    }
   ],
   "source": [
    "# Write your code here\n",
    "df2[df2[\"name\"] == 'Banana'][\"nutritions.calories\"].sum()"
   ]
  },
  {
   "cell_type": "markdown",
   "id": "a43a05ce-c461-4868-a73a-f43e3691c6d3",
   "metadata": {},
   "source": [
    "<details><summary>Click here for the solution</summary>\n",
    "\n",
    "```python\n",
    "cal_banana = df2.loc[df2[\"name\"] == 'Banana']\n",
    "cal_banana.iloc[0]['nutritions.calories']\n",
    "```\n",
    "\n",
    "</details>\n"
   ]
  },
  {
   "cell_type": "markdown",
   "id": "7045ef7f-20eb-45bd-84b6-7d9f5925e05c",
   "metadata": {},
   "source": [
    "## Exercise 3\n",
    "\n",
    "This [page](https://github.com/public-apis/public-apis#animals) contains a list of free public APIs. Choose any API of your interest and use it to load/extract some information, as shown in the example above.\n",
    "1. Using `requests.get(\"url\")` function, load your data.\n"
   ]
  },
  {
   "cell_type": "code",
   "execution_count": 47,
   "id": "fbdc70c7-b027-4297-b263-a282e2bbdfa5",
   "metadata": {},
   "outputs": [
    {
     "data": {
      "text/html": [
       "<div>\n",
       "<style scoped>\n",
       "    .dataframe tbody tr th:only-of-type {\n",
       "        vertical-align: middle;\n",
       "    }\n",
       "\n",
       "    .dataframe tbody tr th {\n",
       "        vertical-align: top;\n",
       "    }\n",
       "\n",
       "    .dataframe thead th {\n",
       "        text-align: right;\n",
       "    }\n",
       "</style>\n",
       "<table border=\"1\" class=\"dataframe\">\n",
       "  <thead>\n",
       "    <tr style=\"text-align: right;\">\n",
       "      <th></th>\n",
       "      <th>id</th>\n",
       "      <th>email</th>\n",
       "      <th>first_name</th>\n",
       "      <th>last_name</th>\n",
       "      <th>avatar</th>\n",
       "    </tr>\n",
       "  </thead>\n",
       "  <tbody>\n",
       "    <tr>\n",
       "      <th>0</th>\n",
       "      <td>7</td>\n",
       "      <td>michael.lawson@reqres.in</td>\n",
       "      <td>Michael</td>\n",
       "      <td>Lawson</td>\n",
       "      <td>https://reqres.in/img/faces/7-image.jpg</td>\n",
       "    </tr>\n",
       "    <tr>\n",
       "      <th>1</th>\n",
       "      <td>8</td>\n",
       "      <td>lindsay.ferguson@reqres.in</td>\n",
       "      <td>Lindsay</td>\n",
       "      <td>Ferguson</td>\n",
       "      <td>https://reqres.in/img/faces/8-image.jpg</td>\n",
       "    </tr>\n",
       "    <tr>\n",
       "      <th>2</th>\n",
       "      <td>9</td>\n",
       "      <td>tobias.funke@reqres.in</td>\n",
       "      <td>Tobias</td>\n",
       "      <td>Funke</td>\n",
       "      <td>https://reqres.in/img/faces/9-image.jpg</td>\n",
       "    </tr>\n",
       "    <tr>\n",
       "      <th>3</th>\n",
       "      <td>10</td>\n",
       "      <td>byron.fields@reqres.in</td>\n",
       "      <td>Byron</td>\n",
       "      <td>Fields</td>\n",
       "      <td>https://reqres.in/img/faces/10-image.jpg</td>\n",
       "    </tr>\n",
       "    <tr>\n",
       "      <th>4</th>\n",
       "      <td>11</td>\n",
       "      <td>george.edwards@reqres.in</td>\n",
       "      <td>George</td>\n",
       "      <td>Edwards</td>\n",
       "      <td>https://reqres.in/img/faces/11-image.jpg</td>\n",
       "    </tr>\n",
       "    <tr>\n",
       "      <th>5</th>\n",
       "      <td>12</td>\n",
       "      <td>rachel.howell@reqres.in</td>\n",
       "      <td>Rachel</td>\n",
       "      <td>Howell</td>\n",
       "      <td>https://reqres.in/img/faces/12-image.jpg</td>\n",
       "    </tr>\n",
       "  </tbody>\n",
       "</table>\n",
       "</div>"
      ],
      "text/plain": [
       "   id                       email first_name last_name   \n",
       "0   7    michael.lawson@reqres.in    Michael    Lawson  \\\n",
       "1   8  lindsay.ferguson@reqres.in    Lindsay  Ferguson   \n",
       "2   9      tobias.funke@reqres.in     Tobias     Funke   \n",
       "3  10      byron.fields@reqres.in      Byron    Fields   \n",
       "4  11    george.edwards@reqres.in     George   Edwards   \n",
       "5  12     rachel.howell@reqres.in     Rachel    Howell   \n",
       "\n",
       "                                     avatar  \n",
       "0   https://reqres.in/img/faces/7-image.jpg  \n",
       "1   https://reqres.in/img/faces/8-image.jpg  \n",
       "2   https://reqres.in/img/faces/9-image.jpg  \n",
       "3  https://reqres.in/img/faces/10-image.jpg  \n",
       "4  https://reqres.in/img/faces/11-image.jpg  \n",
       "5  https://reqres.in/img/faces/12-image.jpg  "
      ]
     },
     "execution_count": 47,
     "metadata": {},
     "output_type": "execute_result"
    }
   ],
   "source": [
    "# Write your code here\n",
    "df = pd.DataFrame(requests.get(\"https://reqres.in/api/users?page=2\").json()['data'])\n",
    "df"
   ]
  },
  {
   "cell_type": "markdown",
   "id": "82eea4e9-ee9b-436e-ac58-de21fd4c415d",
   "metadata": {},
   "source": [
    "<details><summary>Click here for the solution</summary>\n",
    "\n",
    "```python\n",
    "data2 = requests.get(\"https://www.fishwatch.gov/api/species\")\n",
    "```\n",
    "\n",
    "</details>\n"
   ]
  },
  {
   "cell_type": "markdown",
   "id": "26402128-5ba6-4e31-b054-3f03c12f858a",
   "metadata": {},
   "source": [
    "2. Retrieve results using `json.loads()` function.\n"
   ]
  },
  {
   "cell_type": "code",
   "execution_count": null,
   "id": "b1ddcc5e-95e2-4556-b658-31f4c830f8f5",
   "metadata": {},
   "outputs": [],
   "source": [
    "# Write your code here\n"
   ]
  },
  {
   "cell_type": "markdown",
   "id": "530e34e6-404a-4b1c-9e43-6b0ffd9473e9",
   "metadata": {},
   "source": [
    "<details><summary>Click here for the solution</summary>\n",
    "\n",
    "```python\n",
    "results2 = json.loads(data2.text)\n",
    "```\n",
    "\n",
    "</details>\n"
   ]
  },
  {
   "cell_type": "markdown",
   "id": "0badf8e9-f6dd-46cf-84e4-c995ec458c2c",
   "metadata": {},
   "source": [
    "3. Convert json data into *pandas* data frame. \n"
   ]
  },
  {
   "cell_type": "code",
   "execution_count": null,
   "id": "8b3eba5d-0e15-4315-ae45-0697766a4f55",
   "metadata": {},
   "outputs": [],
   "source": [
    "# Write your code here\n"
   ]
  },
  {
   "cell_type": "markdown",
   "id": "a9477c7c-f2ed-4e86-9cab-1a3ab2294064",
   "metadata": {},
   "source": [
    "<details><summary>Click here for the solution</summary>\n",
    "\n",
    "```python\n",
    "df3 = pd.DataFrame(results2)\n",
    "df3\n",
    "```\n",
    "\n",
    "</details>\n"
   ]
  },
  {
   "cell_type": "markdown",
   "id": "67bd64cf-3599-46b4-802b-8cce9b8c0f4e",
   "metadata": {},
   "source": [
    "# Congratulations! - You have completed the lab\n"
   ]
  },
  {
   "cell_type": "markdown",
   "id": "2ddf053e-8a6d-4847-b3ed-9b955c811516",
   "metadata": {},
   "source": [
    "## Author\n",
    "[Svitlana Kramar](www.linkedin.com/in/svitlana-kramar)\n",
    "\n",
    "\n",
    "Svitlana is a master’s degree Data Science and Analytics student at University of Calgary, who enjoys travelling, learning new languages and cultures and loves spreading her passion for Data Science.\n"
   ]
  },
  {
   "cell_type": "markdown",
   "id": "b2c62b85-95fe-4fc2-b76f-db32a9308104",
   "metadata": {},
   "source": [
    "                                Copyright © 2020 IBM Corporation. All rights reserved.\n"
   ]
  }
 ],
 "metadata": {
  "kernelspec": {
   "display_name": "Python 3 (ipykernel)",
   "language": "python",
   "name": "python3"
  },
  "language_info": {
   "codemirror_mode": {
    "name": "ipython",
    "version": 3
   },
   "file_extension": ".py",
   "mimetype": "text/x-python",
   "name": "python",
   "nbconvert_exporter": "python",
   "pygments_lexer": "ipython3",
   "version": "3.9.16"
  }
 },
 "nbformat": 4,
 "nbformat_minor": 4
}
