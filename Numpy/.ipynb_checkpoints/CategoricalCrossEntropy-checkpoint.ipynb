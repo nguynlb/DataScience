{
 "cells": [
  {
   "cell_type": "markdown",
   "id": "78c62f95",
   "metadata": {},
   "source": [
    "## Cross Entropy "
   ]
  },
  {
   "cell_type": "code",
   "execution_count": 1,
   "id": "c2be0370",
   "metadata": {},
   "outputs": [],
   "source": [
    "import numpy as np\n",
    "import pandas as pd\n",
    "import matplotlib.pyplot as plt"
   ]
  },
  {
   "cell_type": "markdown",
   "id": "ff2fa672",
   "metadata": {},
   "source": [
    "### Softmax Function"
   ]
  },
  {
   "cell_type": "markdown",
   "id": "bdad7ce1",
   "metadata": {},
   "source": [
    "$$Softmax(x_i) = \\frac{e^{x_i}}{\\sum_{j=1}^{c}{e^{x_j}}$$"
   ]
  },
  {
   "cell_type": "code",
   "execution_count": 2,
   "id": "5ebdd7c6",
   "metadata": {},
   "outputs": [],
   "source": [
    "x = np.array([5,2,1,3])"
   ]
  },
  {
   "cell_type": "code",
   "execution_count": 4,
   "id": "f37023d7",
   "metadata": {},
   "outputs": [],
   "source": [
    "def softmax(x):\n",
    "    return np.exp(x) / np.sum(np.exp(x), axis=0)"
   ]
  },
  {
   "cell_type": "code",
   "execution_count": 5,
   "id": "dc61ab9f",
   "metadata": {},
   "outputs": [
    {
     "data": {
      "text/plain": [
       "array([0.83095266, 0.0413707 , 0.01521943, 0.11245721])"
      ]
     },
     "execution_count": 5,
     "metadata": {},
     "output_type": "execute_result"
    }
   ],
   "source": [
    "softmax(x)"
   ]
  },
  {
   "cell_type": "code",
   "execution_count": null,
   "id": "018fbcef",
   "metadata": {},
   "outputs": [],
   "source": []
  }
 ],
 "metadata": {
  "kernelspec": {
   "display_name": "Python 3 (ipykernel)",
   "language": "python",
   "name": "python3"
  },
  "language_info": {
   "codemirror_mode": {
    "name": "ipython",
    "version": 3
   },
   "file_extension": ".py",
   "mimetype": "text/x-python",
   "name": "python",
   "nbconvert_exporter": "python",
   "pygments_lexer": "ipython3",
   "version": "3.9.16"
  }
 },
 "nbformat": 4,
 "nbformat_minor": 5
}
