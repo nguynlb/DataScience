{
 "cells": [
  {
   "cell_type": "markdown",
   "id": "041f6719",
   "metadata": {},
   "source": [
    "## Cross Entropy "
   ]
  },
  {
   "cell_type": "code",
   "execution_count": 1,
   "id": "b5ea0c96",
   "metadata": {},
   "outputs": [],
   "source": [
    "import numpy as np\n",
    "import pandas as pd\n",
    "import matplotlib.pyplot as plt"
   ]
  },
  {
   "cell_type": "markdown",
   "id": "4fc5d1b6",
   "metadata": {},
   "source": [
    "### Softmax Function"
   ]
  },
  {
   "cell_type": "markdown",
   "id": "b80507bf",
   "metadata": {},
   "source": [
    "$$ Softmax = \\frac{e^x}{\\sum_{t = 1}^{c}{e^x}} $$"
   ]
  },
  {
   "cell_type": "code",
   "execution_count": 2,
   "id": "8b26aacc",
   "metadata": {},
   "outputs": [],
   "source": [
    "x = np.array([5,2,1,3])"
   ]
  },
  {
   "cell_type": "code",
   "execution_count": 4,
   "id": "c3b17fb9",
   "metadata": {},
   "outputs": [],
   "source": [
    "def softmax(x):\n",
    "    return np.exp(x) / np.sum(np.exp(x), axis=0)"
   ]
  },
  {
   "cell_type": "code",
   "execution_count": 5,
   "id": "a33a7a86",
   "metadata": {},
   "outputs": [
    {
     "data": {
      "text/plain": [
       "array([0.83095266, 0.0413707 , 0.01521943, 0.11245721])"
      ]
     },
     "execution_count": 5,
     "metadata": {},
     "output_type": "execute_result"
    }
   ],
   "source": [
    "softmax(x)"
   ]
  },
  {
   "cell_type": "markdown",
   "id": "ad59478f",
   "metadata": {},
   "source": [
    "## Likelihood"
   ]
  },
  {
   "cell_type": "markdown",
   "id": "fca16178",
   "metadata": {},
   "source": [
    "$$    L(\\theta) = \\prod_{i = 1}^{m}{\\prod_{k = 1}^{c}{P(Y_i \\| X_i, \\theta_i)}} = \\prod_{i = 1}^{m}{\\prod_{i = 1}^{c}{h_{\\theta_i}^{1\\{Y = X_i\\}}}}    $$"
   ]
  },
  {
   "cell_type": "markdown",
   "id": "be103d3a",
   "metadata": {},
   "source": [
    "$$LL(\\theta) = \\sum_{i = 1}^{c}{1\\{Y = X_i\\}log(h_{\\theta_i})}$$"
   ]
  },
  {
   "cell_type": "markdown",
   "id": "b911bb71",
   "metadata": {},
   "source": [
    "### Change to one hot vector => Categorical Cross Entropy\n",
    "$$ LL(\\theta) = \\sum_{i = 1}^{c}{\\textbf{yi} \\dot log(\\textbf{h_{\\theta_i}})} $$"
   ]
  },
  {
   "cell_type": "code",
   "execution_count": 8,
   "id": "5ea75491",
   "metadata": {},
   "outputs": [
    {
     "data": {
      "text/plain": [
       "array([0.25499017, 0.03450917, 0.00467031, 0.69313514, 0.01269521])"
      ]
     },
     "execution_count": 8,
     "metadata": {},
     "output_type": "execute_result"
    }
   ],
   "source": [
    "o1 = np.array([5,3,1,6,2])\n",
    "\n",
    "y_one_hot1 = np.array([0,0,0,1,0])\n",
    "y_hat1 = softmax(o1)\n",
    "y_hat1"
   ]
  },
  {
   "cell_type": "code",
   "execution_count": 9,
   "id": "930bd99b",
   "metadata": {},
   "outputs": [
    {
     "data": {
      "text/plain": [
       "array([0.92822982, 0.01700112, 0.00625436, 0.00230085, 0.04621384])"
      ]
     },
     "execution_count": 9,
     "metadata": {},
     "output_type": "execute_result"
    }
   ],
   "source": [
    "o2 = np.array([7,3,2,1,4])\n",
    "\n",
    "y_one_hot2 = np.array([1,0,0,0,0])\n",
    "y_hat2 = softmax(o2)\n",
    "y_hat2"
   ]
  },
  {
   "cell_type": "code",
   "execution_count": 16,
   "id": "4da7380f",
   "metadata": {},
   "outputs": [
    {
     "data": {
      "text/plain": [
       "0.4410062116228437"
      ]
     },
     "execution_count": 16,
     "metadata": {},
     "output_type": "execute_result"
    }
   ],
   "source": [
    "# loss function = sum(y_i * log(y^hat)) == y_i : one-hot vector\n",
    "Loss = - (np.dot(y_one_hot1, np.log(y_hat1)) + np.dot(y_one_hot2, np.log(y_hat2)))\n",
    "Loss"
   ]
  },
  {
   "cell_type": "code",
   "execution_count": 11,
   "id": "a052cd8d",
   "metadata": {},
   "outputs": [
    {
     "data": {
      "text/plain": [
       "array([0.92822982, 0.        , 0.        , 0.69313514, 0.        ])"
      ]
     },
     "execution_count": 11,
     "metadata": {},
     "output_type": "execute_result"
    }
   ],
   "source": [
    "Loss"
   ]
  },
  {
   "cell_type": "code",
   "execution_count": null,
   "id": "0782bb7c",
   "metadata": {},
   "outputs": [],
   "source": []
  }
 ],
 "metadata": {
  "kernelspec": {
   "display_name": "Python 3 (ipykernel)",
   "language": "python",
   "name": "python3"
  },
  "language_info": {
   "codemirror_mode": {
    "name": "ipython",
    "version": 3
   },
   "file_extension": ".py",
   "mimetype": "text/x-python",
   "name": "python",
   "nbconvert_exporter": "python",
   "pygments_lexer": "ipython3",
   "version": "3.9.16"
  }
 },
 "nbformat": 4,
 "nbformat_minor": 5
}
