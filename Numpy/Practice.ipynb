{
 "cells": [
  {
   "cell_type": "markdown",
   "id": "9850ee21",
   "metadata": {},
   "source": [
    "<h1 style=\"text-align: center\">Numpy </ h3>\n",
    "\n",
    "### 1. Write a NumPy program to print the NumPy version on your system."
   ]
  },
  {
   "cell_type": "code",
   "execution_count": 1,
   "id": "8dacdcee",
   "metadata": {},
   "outputs": [],
   "source": [
    "import numpy as np"
   ]
  },
  {
   "cell_type": "code",
   "execution_count": 2,
   "id": "4b55ab85",
   "metadata": {},
   "outputs": [
    {
     "data": {
      "text/plain": [
       "'1.21.5'"
      ]
     },
     "execution_count": 2,
     "metadata": {},
     "output_type": "execute_result"
    }
   ],
   "source": [
    "np.version.version"
   ]
  },
  {
   "cell_type": "markdown",
   "id": "900511ec",
   "metadata": {},
   "source": [
    "### 2. Write a NumPy program to convert a list of numeric values into a one-dimensional NumPy array."
   ]
  },
  {
   "cell_type": "code",
   "execution_count": 3,
   "id": "c8bb7ffb",
   "metadata": {},
   "outputs": [
    {
     "data": {
      "text/plain": [
       "array([1, 2, 5, 7, 2])"
      ]
     },
     "execution_count": 3,
     "metadata": {},
     "output_type": "execute_result"
    }
   ],
   "source": [
    "my_list = [1,2,5,7,2]\n",
    "np_list = np.array(my_list)\n",
    "np_list"
   ]
  },
  {
   "cell_type": "markdown",
   "id": "85391613",
   "metadata": {},
   "source": [
    "### 3. Write a NumPy program to create a 3x3 matrix with values ranging from 2 to 10."
   ]
  },
  {
   "cell_type": "code",
   "execution_count": 10,
   "id": "0275487a",
   "metadata": {},
   "outputs": [
    {
     "data": {
      "text/plain": [
       "array([[ 2,  3,  4],\n",
       "       [ 5,  6,  7],\n",
       "       [ 8,  9, 10]])"
      ]
     },
     "execution_count": 10,
     "metadata": {},
     "output_type": "execute_result"
    }
   ],
   "source": [
    "np.arange(2, 11).reshape(3,3)"
   ]
  },
  {
   "cell_type": "markdown",
   "id": "fd31cd56",
   "metadata": {},
   "source": [
    "### 4. Write a NumPy program to create a null vector of size 10 and update the sixth value to 11."
   ]
  },
  {
   "cell_type": "code",
   "execution_count": 17,
   "id": "3c1823ca",
   "metadata": {},
   "outputs": [],
   "source": [
    "x = np.zeros(10, dtype=int)\n",
    "x[6] = 11"
   ]
  },
  {
   "cell_type": "code",
   "execution_count": 18,
   "id": "5f5306f5",
   "metadata": {},
   "outputs": [
    {
     "data": {
      "text/plain": [
       "array([ 0,  0,  0,  0,  0,  0, 11,  0,  0,  0])"
      ]
     },
     "execution_count": 18,
     "metadata": {},
     "output_type": "execute_result"
    }
   ],
   "source": [
    "x"
   ]
  },
  {
   "cell_type": "markdown",
   "id": "9af01e44",
   "metadata": {},
   "source": [
    "### 5. Write a NumPy program to create an array with values ranging from 12 to 38."
   ]
  },
  {
   "cell_type": "code",
   "execution_count": 43,
   "id": "cbee3300",
   "metadata": {},
   "outputs": [],
   "source": [
    "def RangeValue(x: int, y: int) -> np.ndarray:\n",
    "    if x > y:\n",
    "        raise RuntimeError(\"x must be less than y\")\n",
    "    return np.arange(x, y)"
   ]
  },
  {
   "cell_type": "code",
   "execution_count": 44,
   "id": "86456b9a",
   "metadata": {},
   "outputs": [
    {
     "data": {
      "text/plain": [
       "array([3])"
      ]
     },
     "execution_count": 44,
     "metadata": {},
     "output_type": "execute_result"
    }
   ],
   "source": [
    "RangeValue(3,4)"
   ]
  },
  {
   "cell_type": "code",
   "execution_count": 45,
   "id": "26194529",
   "metadata": {},
   "outputs": [
    {
     "data": {
      "text/plain": [
       "array([], dtype=int32)"
      ]
     },
     "execution_count": 45,
     "metadata": {},
     "output_type": "execute_result"
    }
   ],
   "source": [
    "RangeValue(3,3)"
   ]
  },
  {
   "cell_type": "code",
   "execution_count": 46,
   "id": "0eec19e7",
   "metadata": {},
   "outputs": [
    {
     "ename": "RuntimeError",
     "evalue": "x must be less than y",
     "output_type": "error",
     "traceback": [
      "\u001b[1;31m---------------------------------------------------------------------------\u001b[0m",
      "\u001b[1;31mRuntimeError\u001b[0m                              Traceback (most recent call last)",
      "\u001b[1;32m~\\AppData\\Local\\Temp\\ipykernel_23760\\425498954.py\u001b[0m in \u001b[0;36m<module>\u001b[1;34m\u001b[0m\n\u001b[1;32m----> 1\u001b[1;33m \u001b[0mRangeValue\u001b[0m\u001b[1;33m(\u001b[0m\u001b[1;36m3\u001b[0m\u001b[1;33m,\u001b[0m \u001b[1;36m2\u001b[0m\u001b[1;33m)\u001b[0m\u001b[1;33m\u001b[0m\u001b[1;33m\u001b[0m\u001b[0m\n\u001b[0m",
      "\u001b[1;32m~\\AppData\\Local\\Temp\\ipykernel_23760\\1503463945.py\u001b[0m in \u001b[0;36mRangeValue\u001b[1;34m(x, y)\u001b[0m\n\u001b[0;32m      1\u001b[0m \u001b[1;32mdef\u001b[0m \u001b[0mRangeValue\u001b[0m\u001b[1;33m(\u001b[0m\u001b[0mx\u001b[0m\u001b[1;33m:\u001b[0m \u001b[0mint\u001b[0m\u001b[1;33m,\u001b[0m \u001b[0my\u001b[0m\u001b[1;33m:\u001b[0m \u001b[0mint\u001b[0m\u001b[1;33m)\u001b[0m \u001b[1;33m->\u001b[0m \u001b[0mnp\u001b[0m\u001b[1;33m.\u001b[0m\u001b[0mndarray\u001b[0m\u001b[1;33m:\u001b[0m\u001b[1;33m\u001b[0m\u001b[1;33m\u001b[0m\u001b[0m\n\u001b[0;32m      2\u001b[0m     \u001b[1;32mif\u001b[0m \u001b[0mx\u001b[0m \u001b[1;33m>\u001b[0m \u001b[0my\u001b[0m\u001b[1;33m:\u001b[0m\u001b[1;33m\u001b[0m\u001b[1;33m\u001b[0m\u001b[0m\n\u001b[1;32m----> 3\u001b[1;33m         \u001b[1;32mraise\u001b[0m \u001b[0mRuntimeError\u001b[0m\u001b[1;33m(\u001b[0m\u001b[1;34m\"x must be less than y\"\u001b[0m\u001b[1;33m)\u001b[0m\u001b[1;33m\u001b[0m\u001b[1;33m\u001b[0m\u001b[0m\n\u001b[0m\u001b[0;32m      4\u001b[0m     \u001b[1;32mreturn\u001b[0m \u001b[0mnp\u001b[0m\u001b[1;33m.\u001b[0m\u001b[0marange\u001b[0m\u001b[1;33m(\u001b[0m\u001b[0mx\u001b[0m\u001b[1;33m,\u001b[0m \u001b[0my\u001b[0m\u001b[1;33m)\u001b[0m\u001b[1;33m\u001b[0m\u001b[1;33m\u001b[0m\u001b[0m\n",
      "\u001b[1;31mRuntimeError\u001b[0m: x must be less than y"
     ]
    }
   ],
   "source": [
    "RangeValue(3, 2)"
   ]
  },
  {
   "cell_type": "markdown",
   "id": "a5e6a0b3",
   "metadata": {},
   "source": [
    "### 6. Write a NumPy program to reverse an array (the first element becomes the last)."
   ]
  },
  {
   "cell_type": "code",
   "execution_count": 41,
   "id": "8580f5ca",
   "metadata": {},
   "outputs": [
    {
     "data": {
      "text/plain": [
       "array([1, 2, 5, 7, 2])"
      ]
     },
     "execution_count": 41,
     "metadata": {},
     "output_type": "execute_result"
    }
   ],
   "source": [
    "np_list"
   ]
  },
  {
   "cell_type": "code",
   "execution_count": 48,
   "id": "c77108e7",
   "metadata": {},
   "outputs": [
    {
     "data": {
      "text/plain": [
       "array([2, 7, 5, 2, 1])"
      ]
     },
     "execution_count": 48,
     "metadata": {},
     "output_type": "execute_result"
    }
   ],
   "source": [
    "np.flip(np_list)"
   ]
  },
  {
   "cell_type": "markdown",
   "id": "ffceeba9",
   "metadata": {},
   "source": [
    "### 7.  Write a NumPy program to convert an array to a floating type."
   ]
  },
  {
   "cell_type": "code",
   "execution_count": 49,
   "id": "a9c0e006",
   "metadata": {},
   "outputs": [
    {
     "data": {
      "text/plain": [
       "array([1., 2., 5., 7., 2.])"
      ]
     },
     "execution_count": 49,
     "metadata": {},
     "output_type": "execute_result"
    }
   ],
   "source": [
    "np_list.astype(float)"
   ]
  },
  {
   "cell_type": "markdown",
   "id": "aeafdb85",
   "metadata": {},
   "source": [
    "### 8. Write a NumPy program to create a 2D array with 1 on the border and 0 inside."
   ]
  },
  {
   "cell_type": "code",
   "execution_count": 80,
   "id": "b7687f35",
   "metadata": {},
   "outputs": [],
   "source": [
    "def Custom2DArray(x: int, y: int) -> np.ndarray:\n",
    "    custom_array = np.zeros(x * y).reshape(x, y)\n",
    "    custom_array[0] = np.ones(y)\n",
    "    custom_array[-1] = np.ones(y)\n",
    "    \n",
    "    for index in range(1, x - 1):\n",
    "        custom_array[index][0] = 1\n",
    "        custom_array[index][-1] = 1\n",
    "        \n",
    "    return custom_array"
   ]
  },
  {
   "cell_type": "code",
   "execution_count": 82,
   "id": "bda97c4a",
   "metadata": {},
   "outputs": [
    {
     "data": {
      "text/plain": [
       "array([[1., 1., 1., 1.]])"
      ]
     },
     "execution_count": 82,
     "metadata": {},
     "output_type": "execute_result"
    }
   ],
   "source": [
    "Custom2DArray(1, 4)"
   ]
  },
  {
   "cell_type": "markdown",
   "id": "595c0c90",
   "metadata": {},
   "source": [
    "### 9. Write a NumPy program to add a border (filled with 0's) around an existing array."
   ]
  },
  {
   "cell_type": "code",
   "execution_count": 120,
   "id": "01967242",
   "metadata": {},
   "outputs": [],
   "source": [
    "def Padding(arr: np.ndarray) -> np.ndarray:\n",
    "    x, y = arr.shape\n",
    "    x, y = x + 2, y + 2\n",
    "    padding_array = np.zeros(x * y).reshape(x, y)\n",
    "    \n",
    "    for i in range(1, y - 1):\n",
    "        padding_array[i][1:-1] = arr[i - 1]\n",
    "        \n",
    "    return padding_array"
   ]
  },
  {
   "cell_type": "code",
   "execution_count": 124,
   "id": "dc43cf82",
   "metadata": {},
   "outputs": [
    {
     "data": {
      "text/plain": [
       "array([[0., 0., 0., 0., 0.],\n",
       "       [0., 0., 1., 2., 0.],\n",
       "       [0., 3., 4., 5., 0.],\n",
       "       [0., 6., 7., 8., 0.],\n",
       "       [0., 0., 0., 0., 0.]])"
      ]
     },
     "execution_count": 124,
     "metadata": {},
     "output_type": "execute_result"
    }
   ],
   "source": [
    "Padding(np.arange(3 * 3).reshape(3,3))"
   ]
  },
  {
   "cell_type": "code",
   "execution_count": 128,
   "id": "dc292a81",
   "metadata": {},
   "outputs": [],
   "source": [
    "x = np.ones(4 * 4).reshape(4,4)"
   ]
  }
 ],
 "metadata": {
  "kernelspec": {
   "display_name": "Python 3 (ipykernel)",
   "language": "python",
   "name": "python3"
  },
  "language_info": {
   "codemirror_mode": {
    "name": "ipython",
    "version": 3
   },
   "file_extension": ".py",
   "mimetype": "text/x-python",
   "name": "python",
   "nbconvert_exporter": "python",
   "pygments_lexer": "ipython3",
   "version": "3.9.13"
  }
 },
 "nbformat": 4,
 "nbformat_minor": 5
}
