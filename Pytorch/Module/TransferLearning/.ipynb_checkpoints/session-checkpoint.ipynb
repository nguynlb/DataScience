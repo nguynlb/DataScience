{
 "cells": [
  {
   "cell_type": "code",
   "execution_count": 2,
   "id": "ede51022",
   "metadata": {},
   "outputs": [
    {
     "ename": "SyntaxError",
     "evalue": "invalid syntax (40010206.py, line 5)",
     "output_type": "error",
     "traceback": [
      "\u001b[1;36m  Cell \u001b[1;32mIn[2], line 5\u001b[1;36m\u001b[0m\n\u001b[1;33m    assert int(torchvision.__version__.split(\".\")[1]) >= 13, \"Your torchvision's version is out up date.\"\u001b[0m\n\u001b[1;37m    ^\u001b[0m\n\u001b[1;31mSyntaxError\u001b[0m\u001b[1;31m:\u001b[0m invalid syntax\n"
     ]
    }
   ],
   "source": [
    "# try:\n",
    "#     import torch\n",
    "#     import torchvision\n",
    "#     assert int(torch.__version__.split(\".\")[0] == 2 or int(torch.__version__.split(\".\")[1]) >= 12 ,  \"Your torch's version is out up date.\"\n",
    "#     assert int(torchvision.__version__.split(\".\")[1]) >= 13, \"Your torchvision's version is out up date.\"\n",
    "#     print(f\"torch version: {torch.__version__}\")\n",
    "#     print(f\"torchvision version: {torchvision.__version__}\")\n",
    "# except:\n",
    "#     print(\"Start downloading the later version.\")\n",
    "# #     !pip3 install -U torch torchvision torchaudio --extra-index-url https://download.pytorch.org/whl/cu113\n",
    "# #     import torch\n",
    "# #     import torchvision\n",
    "# #     print(f\"torch version: {torch.__version__}\")\n",
    "# #     print(f\"torchvision version: {torchvision.__version__}\")"
   ]
  }
 ],
 "metadata": {
  "kernelspec": {
   "display_name": "Python 3 (ipykernel)",
   "language": "python",
   "name": "python3"
  },
  "language_info": {
   "codemirror_mode": {
    "name": "ipython",
    "version": 3
   },
   "file_extension": ".py",
   "mimetype": "text/x-python",
   "name": "python",
   "nbconvert_exporter": "python",
   "pygments_lexer": "ipython3",
   "version": "3.9.16"
  }
 },
 "nbformat": 4,
 "nbformat_minor": 5
}
