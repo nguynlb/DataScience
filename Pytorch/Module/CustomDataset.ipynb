{
 "cells": [
  {
   "cell_type": "markdown",
   "id": "f8b5d051",
   "metadata": {},
   "source": [
    "# Import "
   ]
  },
  {
   "cell_type": "code",
   "execution_count": 3,
   "id": "467e231a",
   "metadata": {},
   "outputs": [],
   "source": [
    "# Import torch\n",
    "import torch\n",
    "import torch.nn as nn\n",
    "from torchvision.transforms import ToTensor\n",
    "from torch.utils.data import DataLoader\n",
    "\n",
    "import numpy as np\n",
    "import matplotlib.pyplot as plt"
   ]
  },
  {
   "cell_type": "code",
   "execution_count": 5,
   "id": "f4d2f719",
   "metadata": {},
   "outputs": [],
   "source": [
    "# TODO: Setup device agnostic code\n",
    "from argparse import ArgumentParser\n",
    "\n",
    "parser = ArgumentParser(description=\"computer vision model argument\")\n",
    "parser.add_argument(\"--disable-cuda\",  type=bool, default=False, help=\"Choose cuda device to train model?\")\n",
    "parser.add_argument(\"--learning-rate\", \"-lr\", type=float, default=.01, help=\"Learning rate\")\n",
    "parser.add_argument(\"--epochs\", \"-e\", type=int, default=40, help=\"Epochs\")\n",
    "parser.add_argument(\"--MODEL-PATH\", type=str, default=\"../../Module/models\", help=\"Model save path\")\n",
    "parser.add_argument('--file', '-f', type=str)\n",
    "args = parser.parse_args()\n",
    "\n",
    "args.device = None\n",
    "if not args.disable_cuda and torch.cuda.is_available():\n",
    "    args.device = \"cuda\"\n",
    "else:\n",
    "    args.device = 'cpu'"
   ]
  },
  {
   "cell_type": "code",
   "execution_count": 9,
   "id": "f5b049bc",
   "metadata": {},
   "outputs": [
    {
     "name": "stdout",
     "output_type": "stream",
     "text": [
      "pizza_steak_sushi hasnt been install yet. Lets download...\n",
      "pizza_steak_sushi.zip is being downloaded...\n",
      "Unzipping pizza, steak, sushi data...\n",
      "Download Success\n"
     ]
    }
   ],
   "source": [
    "import zipfile\n",
    "import requests\n",
    "from pathlib import Path\n",
    "\n",
    "folder_data = Path(\"./data\", parents=True, exist_ok=True)\n",
    "image_name = \"pizza_steak_sushi\"\n",
    "image_path = folder_data / image_name\n",
    "\n",
    "url = \"https://github.com/mrdbourke/pytorch-deep-learning/raw/main/data/pizza_steak_sushi.zip\"\n",
    "\n",
    "\n",
    "if image_path.is_dir():\n",
    "    print(f\"{image_name} Dataset has already been installed.\")\n",
    "else:\n",
    "    print(f\"{image_name} hasnt been install yet. Lets download...\")\n",
    "    image_path.mkdir(parents=True, exist_ok=True)\n",
    "    \n",
    "    with open(image_path / \"pizza_steak_sushi.zip\", \"wb\") as f:\n",
    "        response = requests.get(url)\n",
    "        print(f\"{image_name}.zip is being downloaded...\")\n",
    "        f.write(response.content)\n",
    "        \n",
    "    with zipfile.ZipFile(image_path / \"pizza_steak_sushi.zip\") as zip_file:\n",
    "        print(\"Unzipping pizza, steak, sushi data...\")\n",
    "        zip_file.extractall(image_path)\n",
    "\n",
    "    print(\"Download Success\")"
   ]
  },
  {
   "cell_type": "code",
   "execution_count": null,
   "id": "5e05b772",
   "metadata": {},
   "outputs": [],
   "source": [
    "import os\n",
    "\n",
    "def walk_through_path(folder_path):\n",
    "    for root, file, dirname in os.walk(folder_path):\n",
    "        print(f\"There are {len(dir)}\")\n",
    "    "
   ]
  }
 ],
 "metadata": {
  "kernelspec": {
   "display_name": "Python 3 (ipykernel)",
   "language": "python",
   "name": "python3"
  },
  "language_info": {
   "codemirror_mode": {
    "name": "ipython",
    "version": 3
   },
   "file_extension": ".py",
   "mimetype": "text/x-python",
   "name": "python",
   "nbconvert_exporter": "python",
   "pygments_lexer": "ipython3",
   "version": "3.9.16"
  }
 },
 "nbformat": 4,
 "nbformat_minor": 5
}
