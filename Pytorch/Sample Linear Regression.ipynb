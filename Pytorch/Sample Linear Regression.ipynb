{
 "cells": [
  {
   "cell_type": "markdown",
   "id": "1de46ef8",
   "metadata": {},
   "source": [
    "<h2 style=\"text-align: center\">Sample Linear Regression</h2>"
   ]
  },
  {
   "cell_type": "code",
   "execution_count": 2,
   "id": "1828079e",
   "metadata": {},
   "outputs": [],
   "source": [
    "# import library\n",
    "import torch\n",
    "import torch.nn as nn\n",
    "import matplotlib.pyplot as plt"
   ]
  },
  {
   "cell_type": "code",
   "execution_count": 88,
   "id": "e3f4ca76",
   "metadata": {},
   "outputs": [],
   "source": [
    "torch.manual_seed(82)\n",
    "\n",
    "\n",
    "weight = .7\n",
    "bias = .3\n",
    "\n",
    "# bound\n",
    "start = 0\n",
    "end = 5\n",
    "n_samples = 100\n",
    "\n",
    "\n",
    "X = torch.linspace(start, end, n_samples).unsqueeze(dim=1)\n",
    "y = weight * x + bias + torch.randn(n_samples).unsqueeze(dim=1) * .3\n",
    "\n",
    "idx = torch.randperm(n_samples)\n",
    "X, y = X[idx], y[idx]"
   ]
  },
  {
   "cell_type": "code",
   "execution_count": 90,
   "id": "285e845a",
   "metadata": {},
   "outputs": [],
   "source": [
    "train_size = .7\n",
    "\n",
    "X_train, y_train = X[:int(train_size * n_samples)], y[:int(train_size * n_samples)]\n",
    "X_val, y_val = X[int(train_size * n_samples):], y[int(train_size * n_samples):]"
   ]
  },
  {
   "cell_type": "code",
   "execution_count": 91,
   "id": "221d70c9",
   "metadata": {},
   "outputs": [
    {
     "data": {
      "image/png": "[encoded data removed]",
      "text/plain": [
       "<Figure size 600x600 with 1 Axes>"
      ]
     },
     "metadata": {},
     "output_type": "display_data"
    }
   ],
   "source": [
    "def plot_data(X_train, y_train, X_val, y_val, plot_val=True):\n",
    "    plt.figure(figsize=(6,6))\n",
    "    plt.scatter(X_train, y_train, label=\"Data train\")\n",
    "    if plot_val:\n",
    "        plt.scatter(X_val, y_val, label=\"Data val\")\n",
    "    plt.xticks([])\n",
    "    plt.yticks([])\n",
    "    plt.legend()\n",
    "    plt.show()\n",
    "    \n",
    "plot_data(X_train, y_train, X_val, y_val, plot_val=True)"
   ]
  },
  {
   "cell_type": "code",
   "execution_count": 93,
   "id": "01fb0f46",
   "metadata": {},
   "outputs": [],
   "source": [
    "class LinearRegression(nn.Module):\n",
    "    def __init__(self):\n",
    "        super().__init__()\n",
    "        self.weight = nn.Parameter(torch.randn(1, \n",
    "                                              dtype=torch.float32,\n",
    "                                              requires_grad=True))\n",
    "        \n",
    "        self.bias = nn.Parameter(torch.randn(1, \n",
    "                                            dtype=torch.float32,\n",
    "                                            requires_grad=True))\n",
    "\n",
    "    def forward(self, x: torch.Tensor) -> torch.Tensor:\n",
    "        return self.weight * x + self.bias"
   ]
  },
  {
   "cell_type": "code",
   "execution_count": null,
   "id": "93a9f942",
   "metadata": {},
   "outputs": [],
   "source": []
  }
 ],
 "metadata": {
  "kernelspec": {
   "display_name": "Python 3 (ipykernel)",
   "language": "python",
   "name": "python3"
  },
  "language_info": {
   "codemirror_mode": {
    "name": "ipython",
    "version": 3
   },
   "file_extension": ".py",
   "mimetype": "text/x-python",
   "name": "python",
   "nbconvert_exporter": "python",
   "pygments_lexer": "ipython3",
   "version": "3.9.16"
  }
 },
 "nbformat": 4,
 "nbformat_minor": 5
}
