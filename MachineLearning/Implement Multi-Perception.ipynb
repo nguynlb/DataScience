{
 "cells": [
  {
   "cell_type": "markdown",
   "id": "4524d2dc",
   "metadata": {},
   "source": [
    "<h1 style=\"text-align: center\">Implement Multi-Perception</h1>"
   ]
  },
  {
   "cell_type": "markdown",
   "id": "1512b813",
   "metadata": {},
   "source": [
    "# Import lib"
   ]
  },
  {
   "cell_type": "code",
   "execution_count": 3,
   "id": "9d2427b8",
   "metadata": {},
   "outputs": [],
   "source": [
    "import unittest\n",
    "import numpy as np\n",
    "import matplotlib.pyplot as plt\n",
    "import torch\n",
    "import torch.nn as nn"
   ]
  },
  {
   "cell_type": "markdown",
   "id": "b9bd9887",
   "metadata": {},
   "source": [
    "## Tính toán đầu ra của mạng (tính xuôi)\n",
    "\n",
    "Lặp $L$ lần, quy ước $\\mathbf f_0 = \\mathbf x$, với $l = 1,2,\\ldots L$\n",
    "\n",
    "$$ \\begin{align*} \\mathbf a_l &= \\mathbf W_l \\mathbf f_{l-1}\\in\\mathbb R^{p_l}\\\\ \\mathbf f_l &= \\phi_l(\\mathbf a_l)\\in\\mathbb R^{p_l} \\end{align*} $$\n",
    "\n",
    "Tính logit, xác suất (softmax) và hàm lỗi cross-entropy\n",
    "\n",
    "$$ \\begin{align*} \\mathbf f &= \\mathbf f_L \\in\\mathbb R^{C}\\\\ \\bf\\mu &=\\mathcal S(\\mathbf f)\\in\\mathbb R^{C}\\\\ \\ell &= -\\mathbf y^T\\log(\\bf\\mu)\\in\\mathbb R \\end{align*} $$\n",
    "\n",
    "$\\mathbf y$ là **mã hoá one-hot** của nhãn $y\\in\\{1,2,\\ldots, C\\}$ .\n",
    "\n",
    "Mạng nơ-ron có $L-1$ lớp ẩn và một lớp đầu ra.\n",
    "\n",
    "## Lựa chọn hàm kích hoạt\n",
    "\n",
    "- Hàm tuyến tính: $\\phi_l(a) = a$, hay dùng ở lớp cuối cùng\n",
    "- Hàm sigmoid: $\\phi_l(a) = \\sigma(a) = \\frac 1 {1+e^{-a}}$, hay dùng ở các lớp trước lớp cuối cùng (lớp ẩn)\n",
    "- Hàm ReLU: $\\phi_l(a) = \\max(0, a)$\n",
    "- Hàm tanh: $\\phi_l(a) = 2\\sigma(a)-1$\n",
    "\n",
    "💡 Nếu chọn $\\phi_l(a) = a$ với mọi tầng của mạng thì sẽ có lại Hồi quy Logistics (trường hợp con của mạng nơ-ron)\n",
    "\n",
    "\n",
    "\n",
    "## Suy luận bằng mạng nơ-ron\n",
    "\n",
    "**Luật phân lớp**: chọn vị trí phần tử lớn nhất trong $\\mathbf f$ là phân lớp của $\\mathbf x$.\n",
    "\n",
    "## Kích thước của bộ trọng số\n",
    "\n",
    "- Đầu ra của tầng trước là đầu vào của tầng sau: ma trận $\\mathbf W_l\\in \\mathbb R^{p_l\\times p_{l-1}}$, trong đó $p_l$ là số đầu ra của lớp $l$ còn $p_{l-1}$ là số đầu ra của lớp $l-1$.\n",
    "- Quy ước $p_0 = d+1$ là số đầu vào của mạng.\n",
    "- Lớp cuối cùng: $p_L = C$ là số lớp của bài toán phân lớp."
   ]
  },
  {
   "cell_type": "code",
   "execution_count": 4,
   "id": "5004ce66",
   "metadata": {},
   "outputs": [],
   "source": [
    "class TestFullyConnected(unittest.TestCase):\n",
    "    \n",
    "    def test_fc_init(self):\n",
    "        fc = FC(n_in = 3, n_out = 5, activation = \"sigmoid\")\n",
    "        self.assertEqual(fc.n_in, 3)\n",
    "        self.assertEqual(fc.n_out, 5)\n",
    "        self.assertEqual(fc.activation, \"sigmoid\")\n",
    "        self.assertEqual(fc.W.shape, (3, 5))\n",
    "        self.assertEqual(fc.dW.shape, (3, 5))\n",
    "    \n",
    "    def test_fc_forward(self):\n",
    "        fc = FC(n_in = 3, n_out = 5, activation = \"sigmoid\")\n",
    "        x = np.zeros((10, 3), dtype=np.float32)\n",
    "        y = fc.forward(x)\n",
    "        error = np.sum(np.abs((y - np.ones_like(y) * 0.5)))\n",
    "        self.assertEqual(y.shape, (10, 5))\n",
    "        self.assertLess(error, 1e-6)\n",
    "\n",
    "    def test_fc_forward_identity(self):\n",
    "        fc = FC(n_in = 3, n_out = 5, activation = None)\n",
    "        x = np.zeros((10, 3), dtype=np.float32)\n",
    "        y = fc.forward(x)\n",
    "        error = np.sum(np.abs(y - np.zeros_like(y)))\n",
    "        self.assertEqual(y.shape, (10, 5))\n",
    "        self.assertLess(error, 1e-6)\n",
    "        \n",
    "    def test_fc_backward(self):\n",
    "        fc = FC(n_in = 3, n_out = 5, activation = \"sigmoid\")\n",
    "        x = np.zeros((10, 3), dtype=np.float32)\n",
    "        y = fc.forward(x)\n",
    "        dx = fc.backward(np.zeros_like(y))\n",
    "        self.assertEqual(dx.shape, x.shape)\n",
    "        self.assertEqual(fc.dW.shape, fc.W.shape)\n",
    "    \n",
    "    def test_fc_backward_identity(self):\n",
    "        fc = FC(n_in = 3, n_out = 5, activation = None)\n",
    "        x = np.zeros((10, 3), dtype=np.float32)\n",
    "        y = fc.forward(x)\n",
    "        dx = fc.backward(np.zeros_like(y))\n",
    "        self.assertEqual(dx.shape, x.shape)\n",
    "        self.assertEqual(fc.dW.shape, fc.W.shape)\n",
    "    "
   ]
  },
  {
   "cell_type": "markdown",
   "id": "5b29b6c3",
   "metadata": {},
   "source": [
    "## Đạo hàm của hàm lỗi (tính ngược)\n",
    "\n",
    "### B1. Tính đạo hàm $\\delta_{\\bf \\mu}$\n",
    "\n",
    "$$ \\delta_{\\bf\\mu} = -\\mathbf y^T / \\bf\\mu^T\\in\\mathbb R^{1\\times C} $$\n",
    "\n",
    "<aside> 💡 Lưu ý: vector hàng (dòng)\n",
    "\n",
    "</aside>\n",
    "\n",
    "### B2. Tính đạo hàm $\\mathbf J_{\\bf\\mu}(\\mathbf f)$\n",
    "\n",
    "$$ \\begin{align*} \\frac{\\partial \\mu_i}{\\partial f_j} &= \\frac{u'v-v'u}{v^2} =\\frac{\\mathbb I(i=j) e^{f_j}\\sum_{c=1}^C e^{f_c}-e^{f_j}e^{f_i}}{(\\sum_{c=1}^C e^{f_c})^2}\\\\ &= \\mathbb I(i=j) \\mu_j - \\mu_i\\mu_j=\\begin{cases}(1-\\mu_i)\\mu_i&i=j\\\\-\\mu_i\\mu_j&i\\neq j\\end{cases}\\\\&=\\begin{bmatrix}(1-\\mu_1)\\mu_1 &-\\mu_2\\mu_1 &\\cdots&-\\mu_K\\mu_1\\\\ -\\mu_1\\mu_2&(1-\\mu_2)\\mu_2 &\\cdots&-\\mu_K\\mu_2\\\\\\vdots&\\vdots&&\\vdots\\\\-\\mu_1\\mu_K &-\\mu_2\\mu_K &\\cdots&(1-\\mu_K)\\mu_K\\end{bmatrix}\\in\\mathbb R^{C\\times C} \\end{align*} $$\n",
    "\n",
    "### B3. Tính đạo hàm $\\delta_{\\mathbf f}$\n",
    "\n",
    "$$ \\delta_{\\mathbf f_L=}\\delta_{\\mathbf f} = \\delta_{\\bf\\mu}\\mathbf J_{\\bf\\mu}(\\mathbf f)\\in\\mathbb R^{1\\times C} $$\n",
    "\n",
    "Trong trường softmax và cross-entropy thì $\\delta_{\\mathbf f} = \\bf\\mu^T-\\mathbf y^T$.\n",
    "\n",
    "### B4. Tính đạo hàm $\\mathbf J_{\\mathbf f_l}(\\mathbf a_l)$\n",
    "\n",
    "Hàm tuyến tính $\\phi_l(a) = a$ thì $\\mathbf J_{\\mathbf f_l}(\\mathbf a_l)=\\mathbf I\\in\\mathbb R^{p_l\\times p_l}$\n",
    "\n",
    "Hàm sigmoid $\\phi_l(a) = \\sigma(a)$ thì $\\mathbf J_{\\mathbf f_l}(\\mathbf a_l)=\\mathrm{diag}(f_{l1}(1-f_{l1}),f_{l2}(1-f_{l2}),\\ldots,f_{lp_l}(1-f_{lp_l}))$\n",
    "\n",
    " 💡 Do hàm kích hoạt được tính trên từng phần tử của $\\mathbf a_l$ nên ma trận $\\mathbf J_{\\mathbf f_l}(\\mathbf a_l)$ là ma trận đường chéo\n",
    "\n",
    "### B5. Tính đạo hàm $\\mathbf J_{\\mathbf a_l}(\\mathbf f_{l-1})$\n",
    "\n",
    "$$ \\mathbf a_l = \\mathbf W_l \\mathbf f_{l-1} $$\n",
    "\n",
    "$$ \\mathbf J_{\\mathbf a_l}(\\mathbf f_{l-1}) = \\mathbf W_l $$\n",
    "\n",
    "### B6. Tính đạo hàm của $\\mathbf a_l$ đối với $\\mathbf W_l$.\n",
    "\n",
    "$$ \\frac {\\partial a_{li}}{\\partial\\mathbf W_l}=\\begin{bmatrix}0 &0 &\\cdots&0\\\\\\vdots&\\vdots&&\\vdots\\\\ -&\\mathbf f_{l-1}^T&-&-\\\\\\vdots&\\vdots&&\\vdots\\\\0&0&\\cdots&0\\end{bmatrix}\\in\\mathbb R^{p_l\\times p_{l-1}} $$\n",
    "\n",
    "Ma trận gồm toàn các dòng số 0, duy nhất dòng thứ $i$ là đầu vào $\\mathbf f_{l-1}^T$.\n",
    "\n",
    "### B7. Tính đạo hàm $\\delta_{\\mathbf a_l}, \\delta_{\\mathbf W_l}, \\delta_{\\mathbf f_{l-1}}$\n",
    "\n",
    "$$ \\begin{align*} \\delta_{\\mathbf a_l} &= \\delta_{\\mathbf f_l}\\mathbf J_{\\mathbf f_l}(\\mathbf a_l)\\in\\mathbb R^{1\\times p_l}\\\\ \\delta_{\\mathbf W_l} &= \\delta_{\\mathbf a_l}^T\\mathbf f_{l-1}^T \\in\\mathbb R^{p_l\\times p_{l-1}}\\\\ \\delta_{\\mathbf f_{l-1}}&=\\delta_{\\mathbf a_l}\\mathbf W_l\\in\\mathbb R^{1\\times p_{l-1}} \\end{align*} $$\n",
    "\n",
    "<aside> 💡 Công thức đầu tiên có ma trận đường chéo\n",
    "\n",
    "</aside>\n",
    "\n",
    "💡 Công thức thứ hai có được dựa vào đạo hàm thành phần $\\frac{\\partial \\ell}{\\partial\\mathbf W_l}=\\sum_{i=1}^{p_l}\\frac{\\partial\\ell}{\\partial a_{li}}\\frac {\\partial a_{li}}{\\partial\\mathbf W_l}$"
   ]
  },
  {
   "cell_type": "code",
   "execution_count": 24,
   "id": "04b92e93",
   "metadata": {},
   "outputs": [],
   "source": [
    "class FC:\n",
    "    def __init__(self, n_in, n_out, activation=None):\n",
    "        self.n_in = n_in\n",
    "        self.n_out = n_out\n",
    "        \n",
    "        self.activation = activation\n",
    "        self.W = np.random.randn(n_in, n_out)\n",
    "        self.dW = np.zeros_like(self.W, dtype = np.float32)\n",
    "#         self.a_ = None\n",
    "#         self.f = None\n",
    "#         self.f = None\n",
    "        \n",
    "        \n",
    "    @staticmethod\n",
    "    def stable_sigmoid(X):\n",
    "        return np.where(X >= 0,\n",
    "                        (1 + np.exp(-X))**-1,\n",
    "                        np.exp(X) / (1 + np.exp(X)))\n",
    "  \n",
    "    def __activation(self, a):\n",
    "        if self.activation in (None, \"linear\"):\n",
    "            f = a.copy()\n",
    "        elif self.activation == \"sigmoid\":\n",
    "            f = self.stable_sigmoid(a)\n",
    "        else:\n",
    "            raise NotImplementError(f\"{self.activation} has been implemented yet\")\n",
    "            \n",
    "        return f\n",
    "    \n",
    "    def __deactivation(self, output_grad, f):\n",
    "        if self.activation in (None, \"linear\"):\n",
    "            da = output_grad.copy()\n",
    "        elif self.activation == \"sigmoid\":\n",
    "            da = f * (1 - f) * output_grad\n",
    "        else:\n",
    "            raise NotImplementError(f\"{self.activation} has been implemented yet\")\n",
    "            \n",
    "        return da\n",
    "        \n",
    "    def forward(self, x):\n",
    "        # x: N_samples x n_in\n",
    "        # W: n_in x n_out\n",
    "        self.x = x.copy()\n",
    "        self.a = x @ self.W\n",
    "        self.f = self.__activation(self.a)\n",
    "        return self.f\n",
    "    \n",
    "    def backward(self, output_grad):\n",
    "        # output_grad: n_samples x n_out\n",
    "        da = self.__deactivation(output_grad, self.f)\n",
    "        \"\"\"\"\"\"\n",
    "        # self.x: n_samples x n_in\n",
    "#         self.dW = self.x.T @ self.da # expecting: n_in x n_out\n",
    "        self.dW = np.einsum(\"ij,ik->jk\", self.x, da)\n",
    "        self.dx = da @ self.W.T # n_samples x n_in\n",
    "        \n",
    "        return self.dx"
   ]
  },
  {
   "cell_type": "code",
   "execution_count": 25,
   "id": "4aec3d1a",
   "metadata": {
    "scrolled": true
   },
   "outputs": [],
   "source": [
    "fc = FC(n_in = 3, n_out = 5, activation='sigmoid')\n",
    "x = np.ones((4, 3))\n",
    "y = fc.forward(x)\n",
    "# fc.backward(np.ones_like(y))"
   ]
  },
  {
   "cell_type": "code",
   "execution_count": 26,
   "id": "652071fd",
   "metadata": {},
   "outputs": [
    {
     "name": "stderr",
     "output_type": "stream",
     "text": [
      "test_fc_backward (__main__.TestFullyConnected) ... ok\n",
      "test_fc_backward_identity (__main__.TestFullyConnected) ... ok\n",
      "test_fc_forward (__main__.TestFullyConnected) ... ok\n",
      "test_fc_forward_identity (__main__.TestFullyConnected) ... ok\n",
      "test_fc_init (__main__.TestFullyConnected) ... ok\n",
      "\n",
      "----------------------------------------------------------------------\n",
      "Ran 5 tests in 0.026s\n",
      "\n",
      "OK\n"
     ]
    },
    {
     "data": {
      "text/plain": [
       "<unittest.main.TestProgram at 0x1bf20abe490>"
      ]
     },
     "execution_count": 26,
     "metadata": {},
     "output_type": "execute_result"
    }
   ],
   "source": [
    "unittest.main(argv=[\"\"], verbosity = 2, exit = False)"
   ]
  },
  {
   "cell_type": "code",
   "execution_count": 8,
   "id": "a3f8df3e",
   "metadata": {},
   "outputs": [
    {
     "data": {
      "text/plain": [
       "array([[  0,   0,   0,   0],\n",
       "       [  0,  -2,   0,   0],\n",
       "       [  0,   0,  -6,   0],\n",
       "       [  0,   0,   0, -12]])"
      ]
     },
     "execution_count": 8,
     "metadata": {},
     "output_type": "execute_result"
    }
   ],
   "source": [
    "a = np.array([[1,2], [3, 4]])\n",
    "np.diag((a * (1 - a)).ravel())"
   ]
  },
  {
   "cell_type": "code",
   "execution_count": null,
   "id": "08c27aab",
   "metadata": {},
   "outputs": [],
   "source": []
  }
 ],
 "metadata": {
  "kernelspec": {
   "display_name": "Python 3 (ipykernel)",
   "language": "python",
   "name": "python3"
  },
  "language_info": {
   "codemirror_mode": {
    "name": "ipython",
    "version": 3
   },
   "file_extension": ".py",
   "mimetype": "text/x-python",
   "name": "python",
   "nbconvert_exporter": "python",
   "pygments_lexer": "ipython3",
   "version": "3.9.16"
  }
 },
 "nbformat": 4,
 "nbformat_minor": 5
}
