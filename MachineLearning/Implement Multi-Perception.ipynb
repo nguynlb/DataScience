{
 "cells": [
  {
   "cell_type": "markdown",
   "id": "4524d2dc",
   "metadata": {},
   "source": [
    "<h1 style=\"text-align: center\">Implement Multi-Perception</h1>"
   ]
  },
  {
   "cell_type": "markdown",
   "id": "1512b813",
   "metadata": {},
   "source": [
    "# Import lib"
   ]
  },
  {
   "cell_type": "code",
   "execution_count": 13,
   "id": "9d2427b8",
   "metadata": {},
   "outputs": [],
   "source": [
    "import unittest\n",
    "import numpy as np\n",
    "import matplotlib.pyplot as plt\n",
    "import torch\n",
    "import torch.nn as nn"
   ]
  },
  {
   "cell_type": "markdown",
   "id": "b9bd9887",
   "metadata": {},
   "source": [
    "## Write Test Case"
   ]
  },
  {
   "cell_type": "code",
   "execution_count": 10,
   "id": "5004ce66",
   "metadata": {},
   "outputs": [],
   "source": [
    "class TestFullyConnected(unittest.TestCase):\n",
    "    \n",
    "    def test_fc_init(self):\n",
    "        fc = FC(n_in = 3, n_out = 5, activation = \"sigmoid\")\n",
    "        self.assertEqual(fc.n_in, 3)\n",
    "        self.assertEqual(fc.n_out, 5)\n",
    "        self.assertEqual(fc.activation, \"sigmoid\")\n",
    "        self.assertEqual(fc.W.shape, (3, 5))\n",
    "        self.assertEqual(fc.dW.shape, (3, 5))\n",
    "    \n",
    "    def test_fc_forward(self):\n",
    "        fc = FC(n_in = 3, n_out = 5, activation = \"sigmoid\")\n",
    "        x = np.zeros((10, 3), dtype=np.float32)\n",
    "        y = fc.forward(x)\n",
    "        error = np.sum(np.abs((y - np.ones_like(y) * 0.5)))\n",
    "        self.assertEqual(y.shape, (10, 5))\n",
    "        self.assertLess(error, 1e-6)\n",
    "\n",
    "    def test_fc_forward_identity(self):\n",
    "        fc = FC(n_in = 3, n_out = 5, activation = None)\n",
    "        x = np.zeros((10, 3), dtype=np.float32)\n",
    "        y = fc.forward(x)\n",
    "        error = np.sum(np.abs(y - np.zeros_like(y)))\n",
    "        self.assertEqual(y.shape, (10, 5))\n",
    "        self.assertLess(error, 1e-6)\n",
    "        \n",
    "    def test_fc_backward(self):\n",
    "        fc = FC(n_in = 3, n_out = 5, activation = \"sigmoid\")\n",
    "        x = np.zeros((10, 3), dtype=np.float32)\n",
    "        y = fc.forward(x)\n",
    "        dx = fc.backward(np.zeros_like(y))\n",
    "        self.assertEqual(dx.shape, x.shape)\n",
    "        self.assertEqual(fc.dW.shape, fc.W.shape)\n",
    "    \n",
    "    def test_fc_backward_identity(self):\n",
    "        fc = FC(n_in = 3, n_out = 5, activation = None)\n",
    "        x = np.zeros((10, 3), dtype=np.float32)\n",
    "        y = fc.forward(x)\n",
    "        dx = fc.backward(np.zeros_like(y))\n",
    "        self.assertEqual(dx.shape, x.shape)\n",
    "        self.assertEqual(fc.dW.shape, fc.W.shape)\n",
    "    "
   ]
  },
  {
   "cell_type": "code",
   "execution_count": 11,
   "id": "409a2875",
   "metadata": {},
   "outputs": [],
   "source": [
    "class TestMultiPerceptron(unittest.TestCase):\n",
    "    def test_mlp_init(self):\n",
    "        mlp = MLP(n_ins = 3, hiddens = [5, 2])\n",
    "        layer_0 = mlp.layers[0]\n",
    "        layer_1 = mlp.layers[1]\n",
    "        self.assertEqual(layer_0.W.shape, (3, 5))\n",
    "        self.assertEqual(layer_1.W.shape, (5, 2))\n",
    "        self.assertEqual(layer_1.activation, None)\n",
    "        self.assertEqual(layer_0.activation, \"sigmoid\")\n",
    "        \n",
    "    def test_mlp_init(self):\n",
    "        mlp = MLP(n_ins = 3, hiddens = [5, 2])\n",
    "        layer = FC(n_in = 2, n_out = 1)\n",
    "        mlp.add(layer)\n",
    "        \n",
    "        \n",
    "    def test_mlp_forward(self):\n",
    "        mlp = MLP(n_ins = 3, hiddens = [5, 2])\n",
    "        x = np.zeros((10, 3))\n",
    "        y = mlp.forward(x)\n",
    "        self.assertEqual(y.shape, (10, 2))\n",
    "    \n",
    "    def test_mlp_backward(self):\n",
    "        mlp = MLP(n_ins = 3, hiddens = [5, 2])\n",
    "        x = np.ones((10, 3))\n",
    "        mlp.forward(x)\n",
    "        dy = np.ones((10, 2))\n",
    "        dx = mlp.backward(dy)\n",
    "        self.assertEqual(x.shape, (10, 3))"
   ]
  },
  {
   "cell_type": "markdown",
   "id": "c8e96e5b",
   "metadata": {},
   "source": [
    "## Implement\n",
    "### Fully Connected"
   ]
  },
  {
   "cell_type": "code",
   "execution_count": 204,
   "id": "04b92e93",
   "metadata": {},
   "outputs": [],
   "source": [
    "class FC:\n",
    "    def __init__(self, n_in, n_out, activation=None):\n",
    "        self.n_in = n_in\n",
    "        self.n_out = n_out\n",
    "        \n",
    "        self.activation = activation\n",
    "        self.W = np.random.randn(self.n_in, self.n_out)\n",
    "        self.dW = np.zeros_like(self.W)\n",
    "        self.a = None\n",
    "        self.f = None\n",
    "        self.x = None\n",
    "        \n",
    "        \n",
    "    @staticmethod\n",
    "    def stable_sigmoid(X):\n",
    "        return np.where(X >= 0,\n",
    "                        1 / (1 + np.exp(-X)),\n",
    "                        np.exp(X) / (1 + np.exp(X)))\n",
    "  \n",
    "    def __activation(self, a):\n",
    "        if self.activation in (None, \"linear\"):\n",
    "            f = a.copy()\n",
    "        elif self.activation == \"sigmoid\":\n",
    "            f = self.stable_sigmoid(a)\n",
    "        else:\n",
    "            raise NotImplementError(f\"{self.activation} has been implemented yet\")\n",
    "            \n",
    "        return f\n",
    "    \n",
    "    def __deactivation(self, output_grad, f):\n",
    "        if self.activation in (None, \"linear\"):\n",
    "            da = output_grad.copy()\n",
    "        elif self.activation == \"sigmoid\":\n",
    "            da = f * (1 - f) * output_grad\n",
    "        else:\n",
    "            raise NotImplementError(f\"{self.activation} has been implemented yet\")\n",
    "            \n",
    "        return da\n",
    "        \n",
    "    def forward(self, x):\n",
    "        # x: N_samples x n_in\n",
    "        # W: n_in x n_out\n",
    "        self.x = x.copy()\n",
    "        self.a = x @ self.W\n",
    "        self.f = self.__activation(self.a)\n",
    "        return self.f\n",
    "    \n",
    "    def backward(self, output_grad):\n",
    "        # output_grad: n_samples x n_out\n",
    "        da = self.__deactivation(output_grad, self.f)\n",
    "        \"\"\"\"\"\"\n",
    "        # self.x: n_samples x n_in\n",
    "#         self.dW = self.x.T @ self.da # expecting: n_in x n_out\n",
    "        self.dW = np.einsum(\"ij,ik->jk\", self.x, da)\n",
    "        self.dx = da @ self.W.T # n_samples x n_in\n",
    "        \n",
    "        return self.dx\n",
    "    \n",
    "    def get_params(self):\n",
    "        return np.array([self.dW])\n",
    "    \n",
    "    def training(self, learning_rate):\n",
    "        self.W -= learning_rate * self.dW"
   ]
  },
  {
   "cell_type": "markdown",
   "id": "8dadd939",
   "metadata": {},
   "source": [
    "## Multi - Perceptron"
   ]
  },
  {
   "cell_type": "code",
   "execution_count": 205,
   "id": "99eb97f9",
   "metadata": {},
   "outputs": [],
   "source": [
    "class MLP:\n",
    "    def __init__(self, n_ins, hiddens, layers = None, learning_rate= .01, max_iterations = 1000):\n",
    "        self.n_ins = n_ins\n",
    "        self.hiddens = hiddens\n",
    "        self.learning_rate = learning_rate\n",
    "        self.max_iterations = max_iterations \n",
    "            \n",
    "        self.layers = [\n",
    "            FC(n_in = self.n_ins if idx == 0 else self.hiddens[idx - 1],\n",
    "               n_out = self.hiddens[idx],\n",
    "               activation = \"sigmoid\" if idx + 1 != len(self.hiddens) else None) \\\n",
    "            for idx in range(len(self.hiddens))\n",
    "        ]\n",
    "        \n",
    "        \n",
    "    def forward(self, x):\n",
    "        x_copy = x.copy()\n",
    "        for layer in self.layers:\n",
    "            x_copy = layer.forward(x_copy) \n",
    "        return x_copy\n",
    "\n",
    "    def backward(self, output_grad):\n",
    "        ograd_cp = output_grad.copy()\n",
    "        for layer in self.layers[::-1]:\n",
    "            ograd_cp = layer.backward(ograd_cp)\n",
    "            layer.training(self.learning_rate)\n",
    "        \n",
    "        return ograd_cp\n",
    "    \n",
    "    def add(self, layer):\n",
    "        assert(layer.n_in == self.layers[-1].n_out)\n",
    "        if isinstance(layer, FC):\n",
    "            self.layers.append(layer)\n",
    "        else:\n",
    "            raise NotImplementError(\"Not implement yet\")\n",
    "        \n",
    "        \n",
    "    def fit(self, X, y):\n",
    "        # Specify SSE \n",
    "        n_samples = X.shape[0]\n",
    "        losses = []\n",
    "        for ite in range(self.max_iterations):\n",
    "            y_hat = self.forward(X)\n",
    "            e = y_hat - y\n",
    "            loss = (e.T @ e)[0, 0]\n",
    "            losses.append(loss)\n",
    "            if ite % 100 == 0:\n",
    "                print(f\"Iteration: {ite}, Loss accuracy {loss}\")\n",
    "\n",
    "            \n",
    "            self.backward(e)\n",
    "        \n",
    "        return loss\n",
    "            "
   ]
  },
  {
   "cell_type": "code",
   "execution_count": 206,
   "id": "fa2a8ed9",
   "metadata": {},
   "outputs": [],
   "source": [
    "mlp = MLP(n_ins = 2, hiddens = [20,  1])"
   ]
  },
  {
   "cell_type": "code",
   "execution_count": 207,
   "id": "e5e5fbcb",
   "metadata": {},
   "outputs": [],
   "source": [
    "from sklearn.datasets import make_blobs"
   ]
  },
  {
   "cell_type": "code",
   "execution_count": 208,
   "id": "e6ae4262",
   "metadata": {},
   "outputs": [],
   "source": [
    "n_samples = 50\n",
    "\n",
    "X, _ = make_blobs(n_samples = n_samples, n_features = 1)\n",
    "y = (X ** 2 + 3 * X ).reshape(-1, 1)\n",
    "X = np.c_[X, [1] * n_samples]\n",
    "idx = np.random.permutation(n_samples)\n",
    "\n",
    "X, y = X[idx], y[idx]\n",
    "X_training , y_training = X[:int(0.8 * n_samples)], y[:int(0.8 * n_samples)]\n",
    "X_test, y_test = X[int(0.8 * n_samples):], y[int(0.8 * n_samples):]\n"
   ]
  },
  {
   "cell_type": "code",
   "execution_count": 209,
   "id": "ee2043dd",
   "metadata": {},
   "outputs": [
    {
     "name": "stdout",
     "output_type": "stream",
     "text": [
      "Iteration: 0, Loss accuracy 50184.12731099811\n",
      "Iteration: 100, Loss accuracy 4422.721203560966\n",
      "Iteration: 200, Loss accuracy 4543.956677563802\n",
      "Iteration: 300, Loss accuracy 4239.0064021138105\n",
      "Iteration: 400, Loss accuracy 4447.06895972842\n",
      "Iteration: 500, Loss accuracy 4501.622481556783\n",
      "Iteration: 600, Loss accuracy 4239.041683769878\n",
      "Iteration: 700, Loss accuracy 4434.285404971257\n",
      "Iteration: 800, Loss accuracy 4606.736679490606\n",
      "Iteration: 900, Loss accuracy 4279.713752792479\n"
     ]
    },
    {
     "data": {
      "text/plain": [
       "4465.753933943337"
      ]
     },
     "execution_count": 209,
     "metadata": {},
     "output_type": "execute_result"
    }
   ],
   "source": [
    "mlp.fit(X_training, y_training)"
   ]
  },
  {
   "cell_type": "code",
   "execution_count": 210,
   "id": "6c56cf7c",
   "metadata": {},
   "outputs": [
    {
     "data": {
      "text/plain": [
       "<matplotlib.collections.PathCollection at 0x2389df54ee0>"
      ]
     },
     "execution_count": 210,
     "metadata": {},
     "output_type": "execute_result"
    },
    {
     "data": {
      "image/png": "[encoded data removed]",
      "text/plain": [
       "<Figure size 640x480 with 1 Axes>"
      ]
     },
     "metadata": {},
     "output_type": "display_data"
    }
   ],
   "source": [
    "plt.scatter(X[:, 0], y, c=\"r\")\n",
    "plt.scatter(X[:, 0], mlp.forward(X) , c=\"b\")"
   ]
  },
  {
   "cell_type": "code",
   "execution_count": 19,
   "id": "652071fd",
   "metadata": {},
   "outputs": [
    {
     "name": "stderr",
     "output_type": "stream",
     "text": [
      "test_fc_backward (__main__.TestFullyConnected) ... ok\n",
      "test_fc_backward_identity (__main__.TestFullyConnected) ... ok\n",
      "test_fc_forward (__main__.TestFullyConnected) ... ok\n",
      "test_fc_forward_identity (__main__.TestFullyConnected) ... ok\n",
      "test_fc_init (__main__.TestFullyConnected) ... ok\n",
      "test_mlp_backward (__main__.TestMultiPerceptron) ... ok\n",
      "test_mlp_forward (__main__.TestMultiPerceptron) ... ok\n",
      "test_mlp_init (__main__.TestMultiPerceptron) ... ok\n",
      "\n",
      "----------------------------------------------------------------------\n",
      "Ran 8 tests in 0.029s\n",
      "\n",
      "OK\n"
     ]
    },
    {
     "data": {
      "text/plain": [
       "<unittest.main.TestProgram at 0x238f66d63a0>"
      ]
     },
     "execution_count": 19,
     "metadata": {},
     "output_type": "execute_result"
    }
   ],
   "source": [
    "unittest.main(argv=[\"\"], verbosity = 2, exit = False)"
   ]
  },
  {
   "cell_type": "markdown",
   "id": "78333cfa",
   "metadata": {},
   "source": [
    "## Cơ sở toán học"
   ]
  },
  {
   "cell_type": "markdown",
   "id": "63c41500",
   "metadata": {},
   "source": [
    "### Tính toán đầu ra của mạng (tính xuôi)\n",
    "\n",
    "Lặp $L$ lần, quy ước $\\mathbf f_0 = \\mathbf x$, với $l = 1,2,\\ldots L$\n",
    "\n",
    "$$ \\begin{align*} \\mathbf a_l &= \\mathbf W_l \\mathbf f_{l-1}\\in\\mathbb R^{p_l}\\\\ \\mathbf f_l &= \\phi_l(\\mathbf a_l)\\in\\mathbb R^{p_l} \\end{align*} $$\n",
    "\n",
    "Tính logit, xác suất (softmax) và hàm lỗi cross-entropy\n",
    "\n",
    "$$ \\begin{align*} \\mathbf f &= \\mathbf f_L \\in\\mathbb R^{C}\\\\ \\bf\\mu &=\\mathcal S(\\mathbf f)\\in\\mathbb R^{C}\\\\ \\ell &= -\\mathbf y^T\\log(\\bf\\mu)\\in\\mathbb R \\end{align*} $$\n",
    "\n",
    "$\\mathbf y$ là **mã hoá one-hot** của nhãn $y\\in\\{1,2,\\ldots, C\\}$ .\n",
    "\n",
    "Mạng nơ-ron có $L-1$ lớp ẩn và một lớp đầu ra.\n",
    "\n",
    "### Lựa chọn hàm kích hoạt\n",
    "\n",
    "- Hàm tuyến tính: $\\phi_l(a) = a$, hay dùng ở lớp cuối cùng\n",
    "- Hàm sigmoid: $\\phi_l(a) = \\sigma(a) = \\frac 1 {1+e^{-a}}$, hay dùng ở các lớp trước lớp cuối cùng (lớp ẩn)\n",
    "- Hàm ReLU: $\\phi_l(a) = \\max(0, a)$\n",
    "- Hàm tanh: $\\phi_l(a) = 2\\sigma(a)-1$\n",
    "\n",
    "💡 Nếu chọn $\\phi_l(a) = a$ với mọi tầng của mạng thì sẽ có lại Hồi quy Logistics (trường hợp con của mạng nơ-ron)\n",
    "\n",
    "\n",
    "\n",
    "### Suy luận bằng mạng nơ-ron\n",
    "\n",
    "**Luật phân lớp**: chọn vị trí phần tử lớn nhất trong $\\mathbf f$ là phân lớp của $\\mathbf x$.\n",
    "\n",
    "### Kích thước của bộ trọng số\n",
    "\n",
    "- Đầu ra của tầng trước là đầu vào của tầng sau: ma trận $\\mathbf W_l\\in \\mathbb R^{p_l\\times p_{l-1}}$, trong đó $p_l$ là số đầu ra của lớp $l$ còn $p_{l-1}$ là số đầu ra của lớp $l-1$.\n",
    "- Quy ước $p_0 = d+1$ là số đầu vào của mạng.\n",
    "- Lớp cuối cùng: $p_L = C$ là số lớp của bài toán phân lớp."
   ]
  },
  {
   "cell_type": "markdown",
   "id": "5b29b6c3",
   "metadata": {},
   "source": [
    "### Đạo hàm của hàm lỗi (tính ngược)\n",
    "\n",
    "#### B1. Tính đạo hàm $\\delta_{\\bf \\mu}$\n",
    "\n",
    "$$ \\delta_{\\bf\\mu} = -\\mathbf y^T / \\bf\\mu^T\\in\\mathbb R^{1\\times C} $$\n",
    "\n",
    "<aside> 💡 Lưu ý: vector hàng (dòng)\n",
    "\n",
    "</aside>\n",
    "\n",
    "#### B2. Tính đạo hàm $\\mathbf J_{\\bf\\mu}(\\mathbf f)$\n",
    "\n",
    "$$ \\begin{align*} \\frac{\\partial \\mu_i}{\\partial f_j} &= \\frac{u'v-v'u}{v^2} =\\frac{\\mathbb I(i=j) e^{f_j}\\sum_{c=1}^C e^{f_c}-e^{f_j}e^{f_i}}{(\\sum_{c=1}^C e^{f_c})^2}\\\\ &= \\mathbb I(i=j) \\mu_j - \\mu_i\\mu_j=\\begin{cases}(1-\\mu_i)\\mu_i&i=j\\\\-\\mu_i\\mu_j&i\\neq j\\end{cases}\\\\&=\\begin{bmatrix}(1-\\mu_1)\\mu_1 &-\\mu_2\\mu_1 &\\cdots&-\\mu_K\\mu_1\\\\ -\\mu_1\\mu_2&(1-\\mu_2)\\mu_2 &\\cdots&-\\mu_K\\mu_2\\\\\\vdots&\\vdots&&\\vdots\\\\-\\mu_1\\mu_K &-\\mu_2\\mu_K &\\cdots&(1-\\mu_K)\\mu_K\\end{bmatrix}\\in\\mathbb R^{C\\times C} \\end{align*} $$\n",
    "\n",
    "#### B3. Tính đạo hàm $\\delta_{\\mathbf f}$\n",
    "\n",
    "$$ \\delta_{\\mathbf f_L=}\\delta_{\\mathbf f} = \\delta_{\\bf\\mu}\\mathbf J_{\\bf\\mu}(\\mathbf f)\\in\\mathbb R^{1\\times C} $$\n",
    "\n",
    "Trong trường softmax và cross-entropy thì $\\delta_{\\mathbf f} = \\bf\\mu^T-\\mathbf y^T$.\n",
    "\n",
    "#### B4. Tính đạo hàm $\\mathbf J_{\\mathbf f_l}(\\mathbf a_l)$\n",
    "\n",
    "Hàm tuyến tính $\\phi_l(a) = a$ thì $\\mathbf J_{\\mathbf f_l}(\\mathbf a_l)=\\mathbf I\\in\\mathbb R^{p_l\\times p_l}$\n",
    "\n",
    "Hàm sigmoid $\\phi_l(a) = \\sigma(a)$ thì $\\mathbf J_{\\mathbf f_l}(\\mathbf a_l)=\\mathrm{diag}(f_{l1}(1-f_{l1}),f_{l2}(1-f_{l2}),\\ldots,f_{lp_l}(1-f_{lp_l}))$\n",
    "\n",
    " 💡 Do hàm kích hoạt được tính trên từng phần tử của $\\mathbf a_l$ nên ma trận $\\mathbf J_{\\mathbf f_l}(\\mathbf a_l)$ là ma trận đường chéo\n",
    "\n",
    "#### B5. Tính đạo hàm $\\mathbf J_{\\mathbf a_l}(\\mathbf f_{l-1})$\n",
    "\n",
    "$$ \\mathbf a_l = \\mathbf W_l \\mathbf f_{l-1} $$\n",
    "\n",
    "$$ \\mathbf J_{\\mathbf a_l}(\\mathbf f_{l-1}) = \\mathbf W_l $$\n",
    "\n",
    "#### B6. Tính đạo hàm của $\\mathbf a_l$ đối với $\\mathbf W_l$.\n",
    "\n",
    "$$ \\frac {\\partial a_{li}}{\\partial\\mathbf W_l}=\\begin{bmatrix}0 &0 &\\cdots&0\\\\\\vdots&\\vdots&&\\vdots\\\\ -&\\mathbf f_{l-1}^T&-&-\\\\\\vdots&\\vdots&&\\vdots\\\\0&0&\\cdots&0\\end{bmatrix}\\in\\mathbb R^{p_l\\times p_{l-1}} $$\n",
    "\n",
    "Ma trận gồm toàn các dòng số 0, duy nhất dòng thứ $i$ là đầu vào $\\mathbf f_{l-1}^T$.\n",
    "\n",
    "#### B7. Tính đạo hàm $\\delta_{\\mathbf a_l}, \\delta_{\\mathbf W_l}, \\delta_{\\mathbf f_{l-1}}$\n",
    "\n",
    "$$ \\begin{align*} \\delta_{\\mathbf a_l} &= \\delta_{\\mathbf f_l}\\mathbf J_{\\mathbf f_l}(\\mathbf a_l)\\in\\mathbb R^{1\\times p_l}\\\\ \\delta_{\\mathbf W_l} &= \\delta_{\\mathbf a_l}^T\\mathbf f_{l-1}^T \\in\\mathbb R^{p_l\\times p_{l-1}}\\\\ \\delta_{\\mathbf f_{l-1}}&=\\delta_{\\mathbf a_l}\\mathbf W_l\\in\\mathbb R^{1\\times p_{l-1}} \\end{align*} $$\n",
    "\n",
    "<aside> 💡 Công thức đầu tiên có ma trận đường chéo\n",
    "\n",
    "</aside>\n",
    "\n",
    "💡 Công thức thứ hai có được dựa vào đạo hàm thành phần $\\frac{\\partial \\ell}{\\partial\\mathbf W_l}=\\sum_{i=1}^{p_l}\\frac{\\partial\\ell}{\\partial a_{li}}\\frac {\\partial a_{li}}{\\partial\\mathbf W_l}$"
   ]
  }
 ],
 "metadata": {
  "kernelspec": {
   "display_name": "Python 3 (ipykernel)",
   "language": "python",
   "name": "python3"
  },
  "language_info": {
   "codemirror_mode": {
    "name": "ipython",
    "version": 3
   },
   "file_extension": ".py",
   "mimetype": "text/x-python",
   "name": "python",
   "nbconvert_exporter": "python",
   "pygments_lexer": "ipython3",
   "version": "3.9.16"
  }
 },
 "nbformat": 4,
 "nbformat_minor": 5
}
