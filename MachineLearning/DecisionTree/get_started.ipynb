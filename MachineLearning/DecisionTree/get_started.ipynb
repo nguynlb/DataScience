{
 "cells": [
  {
   "cell_type": "markdown",
   "id": "feb2ab97",
   "metadata": {},
   "source": [
    "<h1 style=\"text-align:center\">Decision Tree</h1>"
   ]
  },
  {
   "cell_type": "markdown",
   "id": "5d5d727b",
   "metadata": {},
   "source": [
    "[Tutorial](https://machinelearningcoban.com/tabml_book/ch_model/decision_tree.html?fbclid=IwAR1RTwuA9zgihGVN9Mam8E76Ha9OM7P49NhT-SDjcXB2qbDJAVazKO79j8U)"
   ]
  },
  {
   "cell_type": "code",
   "execution_count": 1,
   "id": "cdd7c816",
   "metadata": {},
   "outputs": [
    {
     "data": {
      "text/html": [
       "<div>\n",
       "<style scoped>\n",
       "    .dataframe tbody tr th:only-of-type {\n",
       "        vertical-align: middle;\n",
       "    }\n",
       "\n",
       "    .dataframe tbody tr th {\n",
       "        vertical-align: top;\n",
       "    }\n",
       "\n",
       "    .dataframe thead th {\n",
       "        text-align: right;\n",
       "    }\n",
       "</style>\n",
       "<table border=\"1\" class=\"dataframe\">\n",
       "  <thead>\n",
       "    <tr style=\"text-align: right;\">\n",
       "      <th></th>\n",
       "      <th>PassengerId</th>\n",
       "      <th>Survived</th>\n",
       "      <th>Pclass</th>\n",
       "      <th>Name</th>\n",
       "      <th>Sex</th>\n",
       "      <th>Age</th>\n",
       "      <th>SibSp</th>\n",
       "      <th>Parch</th>\n",
       "      <th>Ticket</th>\n",
       "      <th>Fare</th>\n",
       "      <th>Cabin</th>\n",
       "      <th>Embarked</th>\n",
       "    </tr>\n",
       "  </thead>\n",
       "  <tbody>\n",
       "    <tr>\n",
       "      <th>0</th>\n",
       "      <td>1</td>\n",
       "      <td>0</td>\n",
       "      <td>3</td>\n",
       "      <td>Braund, Mr. Owen Harris</td>\n",
       "      <td>male</td>\n",
       "      <td>22.0</td>\n",
       "      <td>1</td>\n",
       "      <td>0</td>\n",
       "      <td>A/5 21171</td>\n",
       "      <td>7.2500</td>\n",
       "      <td>NaN</td>\n",
       "      <td>S</td>\n",
       "    </tr>\n",
       "    <tr>\n",
       "      <th>1</th>\n",
       "      <td>2</td>\n",
       "      <td>1</td>\n",
       "      <td>1</td>\n",
       "      <td>Cumings, Mrs. John Bradley (Florence Briggs Th...</td>\n",
       "      <td>female</td>\n",
       "      <td>38.0</td>\n",
       "      <td>1</td>\n",
       "      <td>0</td>\n",
       "      <td>PC 17599</td>\n",
       "      <td>71.2833</td>\n",
       "      <td>C85</td>\n",
       "      <td>C</td>\n",
       "    </tr>\n",
       "    <tr>\n",
       "      <th>2</th>\n",
       "      <td>3</td>\n",
       "      <td>1</td>\n",
       "      <td>3</td>\n",
       "      <td>Heikkinen, Miss. Laina</td>\n",
       "      <td>female</td>\n",
       "      <td>26.0</td>\n",
       "      <td>0</td>\n",
       "      <td>0</td>\n",
       "      <td>STON/O2. 3101282</td>\n",
       "      <td>7.9250</td>\n",
       "      <td>NaN</td>\n",
       "      <td>S</td>\n",
       "    </tr>\n",
       "    <tr>\n",
       "      <th>3</th>\n",
       "      <td>4</td>\n",
       "      <td>1</td>\n",
       "      <td>1</td>\n",
       "      <td>Futrelle, Mrs. Jacques Heath (Lily May Peel)</td>\n",
       "      <td>female</td>\n",
       "      <td>35.0</td>\n",
       "      <td>1</td>\n",
       "      <td>0</td>\n",
       "      <td>113803</td>\n",
       "      <td>53.1000</td>\n",
       "      <td>C123</td>\n",
       "      <td>S</td>\n",
       "    </tr>\n",
       "    <tr>\n",
       "      <th>4</th>\n",
       "      <td>5</td>\n",
       "      <td>0</td>\n",
       "      <td>3</td>\n",
       "      <td>Allen, Mr. William Henry</td>\n",
       "      <td>male</td>\n",
       "      <td>35.0</td>\n",
       "      <td>0</td>\n",
       "      <td>0</td>\n",
       "      <td>373450</td>\n",
       "      <td>8.0500</td>\n",
       "      <td>NaN</td>\n",
       "      <td>S</td>\n",
       "    </tr>\n",
       "    <tr>\n",
       "      <th>...</th>\n",
       "      <td>...</td>\n",
       "      <td>...</td>\n",
       "      <td>...</td>\n",
       "      <td>...</td>\n",
       "      <td>...</td>\n",
       "      <td>...</td>\n",
       "      <td>...</td>\n",
       "      <td>...</td>\n",
       "      <td>...</td>\n",
       "      <td>...</td>\n",
       "      <td>...</td>\n",
       "      <td>...</td>\n",
       "    </tr>\n",
       "    <tr>\n",
       "      <th>886</th>\n",
       "      <td>887</td>\n",
       "      <td>0</td>\n",
       "      <td>2</td>\n",
       "      <td>Montvila, Rev. Juozas</td>\n",
       "      <td>male</td>\n",
       "      <td>27.0</td>\n",
       "      <td>0</td>\n",
       "      <td>0</td>\n",
       "      <td>211536</td>\n",
       "      <td>13.0000</td>\n",
       "      <td>NaN</td>\n",
       "      <td>S</td>\n",
       "    </tr>\n",
       "    <tr>\n",
       "      <th>887</th>\n",
       "      <td>888</td>\n",
       "      <td>1</td>\n",
       "      <td>1</td>\n",
       "      <td>Graham, Miss. Margaret Edith</td>\n",
       "      <td>female</td>\n",
       "      <td>19.0</td>\n",
       "      <td>0</td>\n",
       "      <td>0</td>\n",
       "      <td>112053</td>\n",
       "      <td>30.0000</td>\n",
       "      <td>B42</td>\n",
       "      <td>S</td>\n",
       "    </tr>\n",
       "    <tr>\n",
       "      <th>888</th>\n",
       "      <td>889</td>\n",
       "      <td>0</td>\n",
       "      <td>3</td>\n",
       "      <td>Johnston, Miss. Catherine Helen \"Carrie\"</td>\n",
       "      <td>female</td>\n",
       "      <td>NaN</td>\n",
       "      <td>1</td>\n",
       "      <td>2</td>\n",
       "      <td>W./C. 6607</td>\n",
       "      <td>23.4500</td>\n",
       "      <td>NaN</td>\n",
       "      <td>S</td>\n",
       "    </tr>\n",
       "    <tr>\n",
       "      <th>889</th>\n",
       "      <td>890</td>\n",
       "      <td>1</td>\n",
       "      <td>1</td>\n",
       "      <td>Behr, Mr. Karl Howell</td>\n",
       "      <td>male</td>\n",
       "      <td>26.0</td>\n",
       "      <td>0</td>\n",
       "      <td>0</td>\n",
       "      <td>111369</td>\n",
       "      <td>30.0000</td>\n",
       "      <td>C148</td>\n",
       "      <td>C</td>\n",
       "    </tr>\n",
       "    <tr>\n",
       "      <th>890</th>\n",
       "      <td>891</td>\n",
       "      <td>0</td>\n",
       "      <td>3</td>\n",
       "      <td>Dooley, Mr. Patrick</td>\n",
       "      <td>male</td>\n",
       "      <td>32.0</td>\n",
       "      <td>0</td>\n",
       "      <td>0</td>\n",
       "      <td>370376</td>\n",
       "      <td>7.7500</td>\n",
       "      <td>NaN</td>\n",
       "      <td>Q</td>\n",
       "    </tr>\n",
       "  </tbody>\n",
       "</table>\n",
       "<p>891 rows × 12 columns</p>\n",
       "</div>"
      ],
      "text/plain": [
       "     PassengerId  Survived  Pclass  \\\n",
       "0              1         0       3   \n",
       "1              2         1       1   \n",
       "2              3         1       3   \n",
       "3              4         1       1   \n",
       "4              5         0       3   \n",
       "..           ...       ...     ...   \n",
       "886          887         0       2   \n",
       "887          888         1       1   \n",
       "888          889         0       3   \n",
       "889          890         1       1   \n",
       "890          891         0       3   \n",
       "\n",
       "                                                  Name     Sex   Age  SibSp  \\\n",
       "0                              Braund, Mr. Owen Harris    male  22.0      1   \n",
       "1    Cumings, Mrs. John Bradley (Florence Briggs Th...  female  38.0      1   \n",
       "2                               Heikkinen, Miss. Laina  female  26.0      0   \n",
       "3         Futrelle, Mrs. Jacques Heath (Lily May Peel)  female  35.0      1   \n",
       "4                             Allen, Mr. William Henry    male  35.0      0   \n",
       "..                                                 ...     ...   ...    ...   \n",
       "886                              Montvila, Rev. Juozas    male  27.0      0   \n",
       "887                       Graham, Miss. Margaret Edith  female  19.0      0   \n",
       "888           Johnston, Miss. Catherine Helen \"Carrie\"  female   NaN      1   \n",
       "889                              Behr, Mr. Karl Howell    male  26.0      0   \n",
       "890                                Dooley, Mr. Patrick    male  32.0      0   \n",
       "\n",
       "     Parch            Ticket     Fare Cabin Embarked  \n",
       "0        0         A/5 21171   7.2500   NaN        S  \n",
       "1        0          PC 17599  71.2833   C85        C  \n",
       "2        0  STON/O2. 3101282   7.9250   NaN        S  \n",
       "3        0            113803  53.1000  C123        S  \n",
       "4        0            373450   8.0500   NaN        S  \n",
       "..     ...               ...      ...   ...      ...  \n",
       "886      0            211536  13.0000   NaN        S  \n",
       "887      0            112053  30.0000   B42        S  \n",
       "888      2        W./C. 6607  23.4500   NaN        S  \n",
       "889      0            111369  30.0000  C148        C  \n",
       "890      0            370376   7.7500   NaN        Q  \n",
       "\n",
       "[891 rows x 12 columns]"
      ]
     },
     "execution_count": 1,
     "metadata": {},
     "output_type": "execute_result"
    }
   ],
   "source": [
    "import pandas as pd\n",
    "link = \"https://media.githubusercontent.com/media/tiepvupsu/tabml_data/master/titanic/\"\n",
    "df = pd.read_csv(link + \"train.csv\")\n",
    "df"
   ]
  },
  {
   "cell_type": "code",
   "execution_count": 2,
   "id": "e37bab7e",
   "metadata": {},
   "outputs": [],
   "source": [
    "title_mapping = {\"Mr\" : 1, \"Mrs\": 2, \"Miss\": 3, \"Rev\": 4, \"Master\": 5}\n",
    "sex_mapping = {\"male\" : 1, \"female\": 2}\n"
   ]
  },
  {
   "cell_type": "code",
   "execution_count": 3,
   "id": "236ccb11",
   "metadata": {},
   "outputs": [],
   "source": [
    "import numpy as np\n",
    "import pandas as pd\n",
    "import matplotlib.pyplot as plt\n",
    "from sklearn.datasets import make_blobs, load_iris"
   ]
  },
  {
   "cell_type": "code",
   "execution_count": 16,
   "id": "686c57ac",
   "metadata": {},
   "outputs": [],
   "source": [
    "data = load_iris().data\n",
    "labels = load_iris().target\n",
    "n_samples = len(labels)\n",
    "\n",
    "data_set = np.c_[data, labels]\n",
    "# labels\n",
    "\n",
    "data_set = data_set[np.random.permutation(n_samples)]\n",
    "data_train_set = data_set[: int(0.77 * n_samples)]\n",
    "data_test_set = data_set[int(0.77 * n_samples):]"
   ]
  },
  {
   "cell_type": "code",
   "execution_count": 18,
   "id": "234ac28b",
   "metadata": {},
   "outputs": [],
   "source": [
    "class Node:\n",
    "    def __init__(self, feature_index = None, threshold = None, left = None, right = None, label = None):\n",
    "        \"\"\"\n",
    "        Node:\n",
    "        Attribute\n",
    "        Threshold\n",
    "        left\n",
    "        right\n",
    "        label\n",
    "        \"\"\"\n",
    "        self.feature_index = feature_index\n",
    "        self.threshold = threshold\n",
    "        self.left = left\n",
    "        self.right = right\n",
    "        \n",
    "        # Leaf Node\n",
    "        self.label = label"
   ]
  },
  {
   "cell_type": "code",
   "execution_count": 29,
   "id": "2d8f25ea",
   "metadata": {},
   "outputs": [],
   "source": [
    "class DecisionTree:\n",
    "    def __init__(self, max_depth = 5, min_group = 2):\n",
    "        self.root = None\n",
    "        \n",
    "        self.max_depth = max_depth\n",
    "#       self.min_group = min_group\n",
    "        \n",
    "    def should_stop(self, datasets, depth):\n",
    "        return (not np.any(datasets)) or depth >= self.max_depth\n",
    "        \n",
    "    def build_tree(self, datasets, depth):\n",
    "        if self.should_stop(datasets, depth): return None\n",
    "        \n",
    "        n_class = len(np.unique(datasets[:, -1]))\n",
    "        node_root = Node()\n",
    "        if n_class == 1: \n",
    "            node_root.label = datasets[0, -1]\n",
    "            return node_root\n",
    "            \n",
    "        node_info = {}\n",
    "        max_info_gain = - float(\"inf\")\n",
    "        _, n_features = datasets.shape\n",
    "        n_features -= 1\n",
    "        for feature_index in range(n_features):\n",
    "            data_idx = datasets[:, feature_index]\n",
    "            for threshold in data_idx:\n",
    "                cur_data_left, cur_data_right = self.split_data(datasets, feature_index, threshold)\n",
    "                if len(cur_data_left) > 0 and len(cur_data_right) > 0:\n",
    "                    cur_info_gain = self.information_gain(datasets, cur_data_left, cur_data_right)\n",
    "                    if cur_info_gain > max_info_gain:\n",
    "                        max_info_gain = cur_info_gain\n",
    "                        node_info[\"data_left\"] = cur_data_left\n",
    "                        node_info[\"data_right\"] = cur_data_right\n",
    "                        node_info[\"feature_index\"] = feature_index\n",
    "                        node_info[\"threshold\"] = threshold\n",
    "\n",
    "        node_left = self.build_tree(node_info[\"data_left\"], depth + 1)\n",
    "        node_right = self.build_tree(node_info[\"data_right\"], depth + 1)\n",
    "        node_root.left = node_left\n",
    "        node_root.right = node_right\n",
    "        node_root.feature_index = node_info[\"feature_index\"]\n",
    "        node_root.threshold = node_info[\"threshold\"], \n",
    "        return node_root\n",
    "    \n",
    "    def split_data(self, dataset, feature_index, threshold):\n",
    "        data_left = np.array([row for row in dataset if row[feature_index] <= threshold])\n",
    "        data_right = np.array([row for row in dataset if row[feature_index] > threshold])\n",
    "        return data_left, data_right\n",
    "    \n",
    "    def information_gain(self, datasets, data_left, data_right ,mode = \"gini\"):\n",
    "        count_ = len(datasets)\n",
    "        count_left = len(data_left)\n",
    "        count_right = len(data_right)\n",
    "        weight = np.array([count_left, count_right]) / count_\n",
    "        \n",
    "        if mode == 'gini':\n",
    "            root_info = self.gini(datasets)\n",
    "            child_info = np.array([self.gini(data_left), self.gini(data_right)])\n",
    "        else:\n",
    "            root_info = self.entropy(datasets)\n",
    "            child_info = np.array([self.entropy(data_left), self.entropy(data_right)])\n",
    "            \n",
    "        return root_info - weight.T @ child_info\n",
    "            \n",
    "    def entropy(self, datasets):\n",
    "        _, counts = np.unique(datasets[:, -1], return_counts = True)\n",
    "        total = counts.sum()\n",
    "        prob = counts / total\n",
    "        return - np.sum(prob * np.log2(prob), axis = 0)\n",
    "    \n",
    "    def gini(self, datasets):\n",
    "        _, counts = np.unique(datasets[:, -1], return_counts = True)\n",
    "        total = counts.sum()\n",
    "        prob = counts / total\n",
    "        return 1 - np.sum(prob ** 2, axis = 0)\n",
    "        \n",
    "    \n",
    "    def fit(self, datasets):\n",
    "        self.root = self.build_tree(datasets, 0)\n",
    "        return self.root\n",
    "    \n",
    "    def predict(self, X):\n",
    "        node_res = self.root\n",
    "        while node_res.label is None:\n",
    "#             print(f\"Feature index: {node_res.feature_index}, threshold: {node_res.threshold}\")\n",
    "            if X[node_res.feature_index] <= node_res.threshold:\n",
    "                node_res = node_res.left\n",
    "            else:\n",
    "                node_res = node_res.right\n",
    "                \n",
    "        return node_res.label\n"
   ]
  },
  {
   "cell_type": "code",
   "execution_count": 30,
   "id": "f5cb5016",
   "metadata": {},
   "outputs": [],
   "source": [
    "dct = DecisionTree()"
   ]
  },
  {
   "cell_type": "code",
   "execution_count": 31,
   "id": "925051a4",
   "metadata": {},
   "outputs": [
    {
     "data": {
      "text/plain": [
       "<__main__.Node at 0x10575ece430>"
      ]
     },
     "execution_count": 31,
     "metadata": {},
     "output_type": "execute_result"
    }
   ],
   "source": [
    "dct.fit(data_train_set)"
   ]
  },
  {
   "cell_type": "code",
   "execution_count": 32,
   "id": "0b7b94b9",
   "metadata": {},
   "outputs": [
    {
     "data": {
      "text/plain": [
       "(1.9,)"
      ]
     },
     "execution_count": 32,
     "metadata": {},
     "output_type": "execute_result"
    }
   ],
   "source": [
    "dct.root.threshold"
   ]
  },
  {
   "cell_type": "code",
   "execution_count": 33,
   "id": "43a2b71b",
   "metadata": {},
   "outputs": [
    {
     "data": {
      "text/plain": [
       "array([5.1, 3.5, 1.4, 0.2])"
      ]
     },
     "execution_count": 33,
     "metadata": {},
     "output_type": "execute_result"
    }
   ],
   "source": [
    "data[0]"
   ]
  },
  {
   "cell_type": "code",
   "execution_count": 34,
   "id": "1ae423a0",
   "metadata": {},
   "outputs": [
    {
     "data": {
      "text/plain": [
       "1.0"
      ]
     },
     "execution_count": 34,
     "metadata": {},
     "output_type": "execute_result"
    }
   ],
   "source": [
    "dct.predict(data[50])"
   ]
  },
  {
   "cell_type": "code",
   "execution_count": 35,
   "id": "565b741e",
   "metadata": {},
   "outputs": [],
   "source": [
    "node_res = dct.root"
   ]
  },
  {
   "cell_type": "code",
   "execution_count": 36,
   "id": "62b371d5",
   "metadata": {},
   "outputs": [],
   "source": [
    "node_res.label"
   ]
  },
  {
   "cell_type": "code",
   "execution_count": 37,
   "id": "f6b24358",
   "metadata": {},
   "outputs": [
    {
     "name": "stdout",
     "output_type": "stream",
     "text": [
      "Total accuracy: 0.9714285714285714\n"
     ]
    }
   ],
   "source": [
    "n_test_samples = len(data_test_set)\n",
    "acc = 0\n",
    "for data_i in data_test_set:\n",
    "    res = dct.predict(data_i)\n",
    "    acc += res == data_i[-1]\n",
    "#     print(f\"Accuracy :{acc / n_test_samples}\")\n",
    "    \n",
    "print(f\"Total accuracy: {acc / n_test_samples}\")\n",
    "    \n"
   ]
  },
  {
   "cell_type": "code",
   "execution_count": null,
   "id": "4a7acbc9",
   "metadata": {},
   "outputs": [],
   "source": [
    "acc_ = 0\n",
    "for data_i in data_test_set:\n",
    "    res = dct.predict(data_i)\n",
    "    acc += res == data_i[-1]\n",
    "#     print(f\"Accuracy :{acc / n_test_samples}\")\n",
    "    \n",
    "print(f\"Total accuracy: {acc / n_test_samples}\")\n",
    "    \n"
   ]
  }
 ],
 "metadata": {
  "kernelspec": {
   "display_name": "Python 3 (ipykernel)",
   "language": "python",
   "name": "python3"
  },
  "language_info": {
   "codemirror_mode": {
    "name": "ipython",
    "version": 3
   },
   "file_extension": ".py",
   "mimetype": "text/x-python",
   "name": "python",
   "nbconvert_exporter": "python",
   "pygments_lexer": "ipython3",
   "version": "3.9.13"
  }
 },
 "nbformat": 4,
 "nbformat_minor": 5
}
