{
 "cells": [
  {
   "cell_type": "code",
   "execution_count": 1,
   "id": "567b4e47",
   "metadata": {},
   "outputs": [
    {
     "name": "stdout",
     "output_type": "stream",
     "text": [
      "Collecting arff\n",
      "  Downloading arff-0.9.tar.gz (4.7 kB)\n",
      "  Preparing metadata (setup.py): started\n",
      "  Preparing metadata (setup.py): finished with status 'done'\n",
      "Building wheels for collected packages: arff\n",
      "  Building wheel for arff (setup.py): started\n",
      "  Building wheel for arff (setup.py): finished with status 'done'\n",
      "  Created wheel for arff: filename=arff-0.9-py3-none-any.whl size=4965 sha256=9440ab1d908957d8fcaf9eaef94223d7d23c85ff9bcce119ebe06c56cb5ec233\n",
      "  Stored in directory: c:\\users\\admin\\appdata\\local\\pip\\cache\\wheels\\5e\\d6\\66\\a25682c020fb563800fea1a06de58e4684243efd68cb83db83\n",
      "Successfully built arff\n",
      "Installing collected packages: arff\n",
      "Successfully installed arff-0.9\n"
     ]
    }
   ],
   "source": [
    "!pip install arff"
   ]
  },
  {
   "cell_type": "code",
   "execution_count": 11,
   "id": "7617f836",
   "metadata": {},
   "outputs": [],
   "source": [
    "import arff\n",
    "import pandas as pd\n",
    "import matplotlib.pyplot as plt\n",
    "import seaborn as sns\n",
    "from scipy.io.arff import loadarff \n"
   ]
  },
  {
   "cell_type": "code",
   "execution_count": 13,
   "id": "f7b6880b",
   "metadata": {},
   "outputs": [
    {
     "data": {
      "text/html": [
       "<div>\n",
       "<style scoped>\n",
       "    .dataframe tbody tr th:only-of-type {\n",
       "        vertical-align: middle;\n",
       "    }\n",
       "\n",
       "    .dataframe tbody tr th {\n",
       "        vertical-align: top;\n",
       "    }\n",
       "\n",
       "    .dataframe thead th {\n",
       "        text-align: right;\n",
       "    }\n",
       "</style>\n",
       "<table border=\"1\" class=\"dataframe\">\n",
       "  <thead>\n",
       "    <tr style=\"text-align: right;\">\n",
       "      <th></th>\n",
       "      <th>age</th>\n",
       "      <th>workclass</th>\n",
       "      <th>fnlwgt</th>\n",
       "      <th>education</th>\n",
       "      <th>education-num</th>\n",
       "      <th>marital-status</th>\n",
       "      <th>occupation</th>\n",
       "      <th>relationship</th>\n",
       "      <th>race</th>\n",
       "      <th>sex</th>\n",
       "      <th>capital-gain</th>\n",
       "      <th>capital-loss</th>\n",
       "      <th>hours-per-week</th>\n",
       "      <th>native-country</th>\n",
       "      <th>class</th>\n",
       "    </tr>\n",
       "  </thead>\n",
       "  <tbody>\n",
       "    <tr>\n",
       "      <th>0</th>\n",
       "      <td>25.0</td>\n",
       "      <td>b'Private'</td>\n",
       "      <td>226802.0</td>\n",
       "      <td>b'11th'</td>\n",
       "      <td>7.0</td>\n",
       "      <td>b'Never-married'</td>\n",
       "      <td>b'Machine-op-inspct'</td>\n",
       "      <td>b'Own-child'</td>\n",
       "      <td>b'Black'</td>\n",
       "      <td>b'Male'</td>\n",
       "      <td>0.0</td>\n",
       "      <td>0.0</td>\n",
       "      <td>40.0</td>\n",
       "      <td>b'United-States'</td>\n",
       "      <td>b'&lt;=50K'</td>\n",
       "    </tr>\n",
       "    <tr>\n",
       "      <th>1</th>\n",
       "      <td>38.0</td>\n",
       "      <td>b'Private'</td>\n",
       "      <td>89814.0</td>\n",
       "      <td>b'HS-grad'</td>\n",
       "      <td>9.0</td>\n",
       "      <td>b'Married-civ-spouse'</td>\n",
       "      <td>b'Farming-fishing'</td>\n",
       "      <td>b'Husband'</td>\n",
       "      <td>b'White'</td>\n",
       "      <td>b'Male'</td>\n",
       "      <td>0.0</td>\n",
       "      <td>0.0</td>\n",
       "      <td>50.0</td>\n",
       "      <td>b'United-States'</td>\n",
       "      <td>b'&lt;=50K'</td>\n",
       "    </tr>\n",
       "    <tr>\n",
       "      <th>2</th>\n",
       "      <td>28.0</td>\n",
       "      <td>b'Local-gov'</td>\n",
       "      <td>336951.0</td>\n",
       "      <td>b'Assoc-acdm'</td>\n",
       "      <td>12.0</td>\n",
       "      <td>b'Married-civ-spouse'</td>\n",
       "      <td>b'Protective-serv'</td>\n",
       "      <td>b'Husband'</td>\n",
       "      <td>b'White'</td>\n",
       "      <td>b'Male'</td>\n",
       "      <td>0.0</td>\n",
       "      <td>0.0</td>\n",
       "      <td>40.0</td>\n",
       "      <td>b'United-States'</td>\n",
       "      <td>b'&gt;50K'</td>\n",
       "    </tr>\n",
       "    <tr>\n",
       "      <th>3</th>\n",
       "      <td>44.0</td>\n",
       "      <td>b'Private'</td>\n",
       "      <td>160323.0</td>\n",
       "      <td>b'Some-college'</td>\n",
       "      <td>10.0</td>\n",
       "      <td>b'Married-civ-spouse'</td>\n",
       "      <td>b'Machine-op-inspct'</td>\n",
       "      <td>b'Husband'</td>\n",
       "      <td>b'Black'</td>\n",
       "      <td>b'Male'</td>\n",
       "      <td>7688.0</td>\n",
       "      <td>0.0</td>\n",
       "      <td>40.0</td>\n",
       "      <td>b'United-States'</td>\n",
       "      <td>b'&gt;50K'</td>\n",
       "    </tr>\n",
       "    <tr>\n",
       "      <th>4</th>\n",
       "      <td>18.0</td>\n",
       "      <td>b'?'</td>\n",
       "      <td>103497.0</td>\n",
       "      <td>b'Some-college'</td>\n",
       "      <td>10.0</td>\n",
       "      <td>b'Never-married'</td>\n",
       "      <td>b'?'</td>\n",
       "      <td>b'Own-child'</td>\n",
       "      <td>b'White'</td>\n",
       "      <td>b'Female'</td>\n",
       "      <td>0.0</td>\n",
       "      <td>0.0</td>\n",
       "      <td>30.0</td>\n",
       "      <td>b'United-States'</td>\n",
       "      <td>b'&lt;=50K'</td>\n",
       "    </tr>\n",
       "    <tr>\n",
       "      <th>...</th>\n",
       "      <td>...</td>\n",
       "      <td>...</td>\n",
       "      <td>...</td>\n",
       "      <td>...</td>\n",
       "      <td>...</td>\n",
       "      <td>...</td>\n",
       "      <td>...</td>\n",
       "      <td>...</td>\n",
       "      <td>...</td>\n",
       "      <td>...</td>\n",
       "      <td>...</td>\n",
       "      <td>...</td>\n",
       "      <td>...</td>\n",
       "      <td>...</td>\n",
       "      <td>...</td>\n",
       "    </tr>\n",
       "    <tr>\n",
       "      <th>48837</th>\n",
       "      <td>27.0</td>\n",
       "      <td>b'Private'</td>\n",
       "      <td>257302.0</td>\n",
       "      <td>b'Assoc-acdm'</td>\n",
       "      <td>12.0</td>\n",
       "      <td>b'Married-civ-spouse'</td>\n",
       "      <td>b'Tech-support'</td>\n",
       "      <td>b'Wife'</td>\n",
       "      <td>b'White'</td>\n",
       "      <td>b'Female'</td>\n",
       "      <td>0.0</td>\n",
       "      <td>0.0</td>\n",
       "      <td>38.0</td>\n",
       "      <td>b'United-States'</td>\n",
       "      <td>b'&lt;=50K'</td>\n",
       "    </tr>\n",
       "    <tr>\n",
       "      <th>48838</th>\n",
       "      <td>40.0</td>\n",
       "      <td>b'Private'</td>\n",
       "      <td>154374.0</td>\n",
       "      <td>b'HS-grad'</td>\n",
       "      <td>9.0</td>\n",
       "      <td>b'Married-civ-spouse'</td>\n",
       "      <td>b'Machine-op-inspct'</td>\n",
       "      <td>b'Husband'</td>\n",
       "      <td>b'White'</td>\n",
       "      <td>b'Male'</td>\n",
       "      <td>0.0</td>\n",
       "      <td>0.0</td>\n",
       "      <td>40.0</td>\n",
       "      <td>b'United-States'</td>\n",
       "      <td>b'&gt;50K'</td>\n",
       "    </tr>\n",
       "    <tr>\n",
       "      <th>48839</th>\n",
       "      <td>58.0</td>\n",
       "      <td>b'Private'</td>\n",
       "      <td>151910.0</td>\n",
       "      <td>b'HS-grad'</td>\n",
       "      <td>9.0</td>\n",
       "      <td>b'Widowed'</td>\n",
       "      <td>b'Adm-clerical'</td>\n",
       "      <td>b'Unmarried'</td>\n",
       "      <td>b'White'</td>\n",
       "      <td>b'Female'</td>\n",
       "      <td>0.0</td>\n",
       "      <td>0.0</td>\n",
       "      <td>40.0</td>\n",
       "      <td>b'United-States'</td>\n",
       "      <td>b'&lt;=50K'</td>\n",
       "    </tr>\n",
       "    <tr>\n",
       "      <th>48840</th>\n",
       "      <td>22.0</td>\n",
       "      <td>b'Private'</td>\n",
       "      <td>201490.0</td>\n",
       "      <td>b'HS-grad'</td>\n",
       "      <td>9.0</td>\n",
       "      <td>b'Never-married'</td>\n",
       "      <td>b'Adm-clerical'</td>\n",
       "      <td>b'Own-child'</td>\n",
       "      <td>b'White'</td>\n",
       "      <td>b'Male'</td>\n",
       "      <td>0.0</td>\n",
       "      <td>0.0</td>\n",
       "      <td>20.0</td>\n",
       "      <td>b'United-States'</td>\n",
       "      <td>b'&lt;=50K'</td>\n",
       "    </tr>\n",
       "    <tr>\n",
       "      <th>48841</th>\n",
       "      <td>52.0</td>\n",
       "      <td>b'Self-emp-inc'</td>\n",
       "      <td>287927.0</td>\n",
       "      <td>b'HS-grad'</td>\n",
       "      <td>9.0</td>\n",
       "      <td>b'Married-civ-spouse'</td>\n",
       "      <td>b'Exec-managerial'</td>\n",
       "      <td>b'Wife'</td>\n",
       "      <td>b'White'</td>\n",
       "      <td>b'Female'</td>\n",
       "      <td>15024.0</td>\n",
       "      <td>0.0</td>\n",
       "      <td>40.0</td>\n",
       "      <td>b'United-States'</td>\n",
       "      <td>b'&gt;50K'</td>\n",
       "    </tr>\n",
       "  </tbody>\n",
       "</table>\n",
       "<p>48842 rows × 15 columns</p>\n",
       "</div>"
      ],
      "text/plain": [
       "        age        workclass    fnlwgt        education  education-num   \n",
       "0      25.0       b'Private'  226802.0          b'11th'            7.0  \\\n",
       "1      38.0       b'Private'   89814.0       b'HS-grad'            9.0   \n",
       "2      28.0     b'Local-gov'  336951.0    b'Assoc-acdm'           12.0   \n",
       "3      44.0       b'Private'  160323.0  b'Some-college'           10.0   \n",
       "4      18.0             b'?'  103497.0  b'Some-college'           10.0   \n",
       "...     ...              ...       ...              ...            ...   \n",
       "48837  27.0       b'Private'  257302.0    b'Assoc-acdm'           12.0   \n",
       "48838  40.0       b'Private'  154374.0       b'HS-grad'            9.0   \n",
       "48839  58.0       b'Private'  151910.0       b'HS-grad'            9.0   \n",
       "48840  22.0       b'Private'  201490.0       b'HS-grad'            9.0   \n",
       "48841  52.0  b'Self-emp-inc'  287927.0       b'HS-grad'            9.0   \n",
       "\n",
       "              marital-status            occupation  relationship      race   \n",
       "0           b'Never-married'  b'Machine-op-inspct'  b'Own-child'  b'Black'  \\\n",
       "1      b'Married-civ-spouse'    b'Farming-fishing'    b'Husband'  b'White'   \n",
       "2      b'Married-civ-spouse'    b'Protective-serv'    b'Husband'  b'White'   \n",
       "3      b'Married-civ-spouse'  b'Machine-op-inspct'    b'Husband'  b'Black'   \n",
       "4           b'Never-married'                  b'?'  b'Own-child'  b'White'   \n",
       "...                      ...                   ...           ...       ...   \n",
       "48837  b'Married-civ-spouse'       b'Tech-support'       b'Wife'  b'White'   \n",
       "48838  b'Married-civ-spouse'  b'Machine-op-inspct'    b'Husband'  b'White'   \n",
       "48839             b'Widowed'       b'Adm-clerical'  b'Unmarried'  b'White'   \n",
       "48840       b'Never-married'       b'Adm-clerical'  b'Own-child'  b'White'   \n",
       "48841  b'Married-civ-spouse'    b'Exec-managerial'       b'Wife'  b'White'   \n",
       "\n",
       "             sex  capital-gain  capital-loss  hours-per-week   \n",
       "0        b'Male'           0.0           0.0            40.0  \\\n",
       "1        b'Male'           0.0           0.0            50.0   \n",
       "2        b'Male'           0.0           0.0            40.0   \n",
       "3        b'Male'        7688.0           0.0            40.0   \n",
       "4      b'Female'           0.0           0.0            30.0   \n",
       "...          ...           ...           ...             ...   \n",
       "48837  b'Female'           0.0           0.0            38.0   \n",
       "48838    b'Male'           0.0           0.0            40.0   \n",
       "48839  b'Female'           0.0           0.0            40.0   \n",
       "48840    b'Male'           0.0           0.0            20.0   \n",
       "48841  b'Female'       15024.0           0.0            40.0   \n",
       "\n",
       "         native-country     class  \n",
       "0      b'United-States'  b'<=50K'  \n",
       "1      b'United-States'  b'<=50K'  \n",
       "2      b'United-States'   b'>50K'  \n",
       "3      b'United-States'   b'>50K'  \n",
       "4      b'United-States'  b'<=50K'  \n",
       "...                 ...       ...  \n",
       "48837  b'United-States'  b'<=50K'  \n",
       "48838  b'United-States'   b'>50K'  \n",
       "48839  b'United-States'  b'<=50K'  \n",
       "48840  b'United-States'  b'<=50K'  \n",
       "48841  b'United-States'   b'>50K'  \n",
       "\n",
       "[48842 rows x 15 columns]"
      ]
     },
     "execution_count": 13,
     "metadata": {},
     "output_type": "execute_result"
    }
   ],
   "source": [
    "# data = arff.load(open(\"\", \"r\"))[\"data\"]\n",
    "# X = [i[:-1] for i in data]\n",
    "\n",
    "# data = arff.load(open('./phpMawTba.arff', 'r'))['data']\n",
    "# X = [i[:4] for i in data]\n",
    "# y = [i[-1] for i in data]\n",
    "\n",
    "raw_data = loadarff('phpMawTba.arff')\n",
    "df_data = pd.DataFrame(raw_data[0])\n",
    "df_data"
   ]
  },
  {
   "cell_type": "code",
   "execution_count": 17,
   "id": "9e0849e8",
   "metadata": {},
   "outputs": [],
   "source": [
    "from scipy.io.arff import loadarff"
   ]
  },
  {
   "cell_type": "code",
   "execution_count": 27,
   "id": "785907d3",
   "metadata": {},
   "outputs": [],
   "source": [
    "df = pd.DataFrame(loadarff(\"phpMawTba.arff\")[0])"
   ]
  },
  {
   "cell_type": "code",
   "execution_count": 31,
   "id": "06a44102",
   "metadata": {},
   "outputs": [
    {
     "data": {
      "image/png": "[encoded data removed]",
      "text/plain": [
       "<Figure size 1000x1000 with 6 Axes>"
      ]
     },
     "metadata": {},
     "output_type": "display_data"
    }
   ],
   "source": [
    "df.hist(figsize=(10, 10));"
   ]
  },
  {
   "cell_type": "code",
   "execution_count": 37,
   "id": "434cd0f7",
   "metadata": {},
   "outputs": [
    {
     "data": {
      "text/plain": [
       "0        b'<=50K'\n",
       "1        b'<=50K'\n",
       "2         b'>50K'\n",
       "3         b'>50K'\n",
       "4        b'<=50K'\n",
       "           ...   \n",
       "48837    b'<=50K'\n",
       "48838     b'>50K'\n",
       "48839    b'<=50K'\n",
       "48840    b'<=50K'\n",
       "48841     b'>50K'\n",
       "Name: class, Length: 48842, dtype: object"
      ]
     },
     "execution_count": 37,
     "metadata": {},
     "output_type": "execute_result"
    }
   ],
   "source": [
    "target_name = \"class\"\n",
    "target = df[target_name]\n",
    "target"
   ]
  },
  {
   "cell_type": "code",
   "execution_count": 48,
   "id": "a0f8622b",
   "metadata": {},
   "outputs": [
    {
     "data": {
      "text/plain": [
       "Index(['age', 'capital-gain', 'capital-loss', 'hours-per-week'], dtype='object')"
      ]
     },
     "execution_count": 48,
     "metadata": {},
     "output_type": "execute_result"
    }
   ],
   "source": [
    "numeric_column = [\"age\", \"capital-gain\", \"capital-loss\",\"hours-per-week\"]\n",
    "\n",
    "feature = df.drop(columns=[target_name])[numeric_column]\n",
    "feature.columns"
   ]
  },
  {
   "cell_type": "code",
   "execution_count": 44,
   "id": "4706092a",
   "metadata": {},
   "outputs": [],
   "source": [
    "from sklearn.neighbors import KNeighborsClassifier"
   ]
  },
  {
   "cell_type": "code",
   "execution_count": 52,
   "id": "d354de75",
   "metadata": {},
   "outputs": [
    {
     "data": {
      "text/html": [
       "<style>#sk-container-id-1 {color: black;}#sk-container-id-1 pre{padding: 0;}#sk-container-id-1 div.sk-toggleable {background-color: white;}#sk-container-id-1 label.sk-toggleable__label {cursor: pointer;display: block;width: 100%;margin-bottom: 0;padding: 0.3em;box-sizing: border-box;text-align: center;}#sk-container-id-1 label.sk-toggleable__label-arrow:before {content: \"▸\";float: left;margin-right: 0.25em;color: #696969;}#sk-container-id-1 label.sk-toggleable__label-arrow:hover:before {color: black;}#sk-container-id-1 div.sk-estimator:hover label.sk-toggleable__label-arrow:before {color: black;}#sk-container-id-1 div.sk-toggleable__content {max-height: 0;max-width: 0;overflow: hidden;text-align: left;background-color: #f0f8ff;}#sk-container-id-1 div.sk-toggleable__content pre {margin: 0.2em;color: black;border-radius: 0.25em;background-color: #f0f8ff;}#sk-container-id-1 input.sk-toggleable__control:checked~div.sk-toggleable__content {max-height: 200px;max-width: 100%;overflow: auto;}#sk-container-id-1 input.sk-toggleable__control:checked~label.sk-toggleable__label-arrow:before {content: \"▾\";}#sk-container-id-1 div.sk-estimator input.sk-toggleable__control:checked~label.sk-toggleable__label {background-color: #d4ebff;}#sk-container-id-1 div.sk-label input.sk-toggleable__control:checked~label.sk-toggleable__label {background-color: #d4ebff;}#sk-container-id-1 input.sk-hidden--visually {border: 0;clip: rect(1px 1px 1px 1px);clip: rect(1px, 1px, 1px, 1px);height: 1px;margin: -1px;overflow: hidden;padding: 0;position: absolute;width: 1px;}#sk-container-id-1 div.sk-estimator {font-family: monospace;background-color: #f0f8ff;border: 1px dotted black;border-radius: 0.25em;box-sizing: border-box;margin-bottom: 0.5em;}#sk-container-id-1 div.sk-estimator:hover {background-color: #d4ebff;}#sk-container-id-1 div.sk-parallel-item::after {content: \"\";width: 100%;border-bottom: 1px solid gray;flex-grow: 1;}#sk-container-id-1 div.sk-label:hover label.sk-toggleable__label {background-color: #d4ebff;}#sk-container-id-1 div.sk-serial::before {content: \"\";position: absolute;border-left: 1px solid gray;box-sizing: border-box;top: 0;bottom: 0;left: 50%;z-index: 0;}#sk-container-id-1 div.sk-serial {display: flex;flex-direction: column;align-items: center;background-color: white;padding-right: 0.2em;padding-left: 0.2em;position: relative;}#sk-container-id-1 div.sk-item {position: relative;z-index: 1;}#sk-container-id-1 div.sk-parallel {display: flex;align-items: stretch;justify-content: center;background-color: white;position: relative;}#sk-container-id-1 div.sk-item::before, #sk-container-id-1 div.sk-parallel-item::before {content: \"\";position: absolute;border-left: 1px solid gray;box-sizing: border-box;top: 0;bottom: 0;left: 50%;z-index: -1;}#sk-container-id-1 div.sk-parallel-item {display: flex;flex-direction: column;z-index: 1;position: relative;background-color: white;}#sk-container-id-1 div.sk-parallel-item:first-child::after {align-self: flex-end;width: 50%;}#sk-container-id-1 div.sk-parallel-item:last-child::after {align-self: flex-start;width: 50%;}#sk-container-id-1 div.sk-parallel-item:only-child::after {width: 0;}#sk-container-id-1 div.sk-dashed-wrapped {border: 1px dashed gray;margin: 0 0.4em 0.5em 0.4em;box-sizing: border-box;padding-bottom: 0.4em;background-color: white;}#sk-container-id-1 div.sk-label label {font-family: monospace;font-weight: bold;display: inline-block;line-height: 1.2em;}#sk-container-id-1 div.sk-label-container {text-align: center;}#sk-container-id-1 div.sk-container {/* jupyter's `normalize.less` sets `[hidden] { display: none; }` but bootstrap.min.css set `[hidden] { display: none !important; }` so we also need the `!important` here to be able to override the default hidden behavior on the sphinx rendered scikit-learn.org. See: https://github.com/scikit-learn/scikit-learn/issues/21755 */display: inline-block !important;position: relative;}#sk-container-id-1 div.sk-text-repr-fallback {display: none;}</style><div id=\"sk-container-id-1\" class=\"sk-top-container\"><div class=\"sk-text-repr-fallback\"><pre>KNeighborsClassifier()</pre><b>In a Jupyter environment, please rerun this cell to show the HTML representation or trust the notebook. <br />On GitHub, the HTML representation is unable to render, please try loading this page with nbviewer.org.</b></div><div class=\"sk-container\" hidden><div class=\"sk-item\"><div class=\"sk-estimator sk-toggleable\"><input class=\"sk-toggleable__control sk-hidden--visually\" id=\"sk-estimator-id-1\" type=\"checkbox\" checked><label for=\"sk-estimator-id-1\" class=\"sk-toggleable__label sk-toggleable__label-arrow\">KNeighborsClassifier</label><div class=\"sk-toggleable__content\"><pre>KNeighborsClassifier()</pre></div></div></div></div></div>"
      ],
      "text/plain": [
       "KNeighborsClassifier()"
      ]
     },
     "execution_count": 52,
     "metadata": {},
     "output_type": "execute_result"
    }
   ],
   "source": [
    "model = KNeighborsClassifier()\n",
    "# model.fit(feature, target)\n",
    "target = target.apply(lambda x: x.decode(\"utf-8\"))\n",
    "\n",
    "model.fit(feature, target)"
   ]
  },
  {
   "cell_type": "code",
   "execution_count": 56,
   "id": "6055de15",
   "metadata": {},
   "outputs": [],
   "source": [
    "predicted_data = model.predict(feature)"
   ]
  },
  {
   "cell_type": "code",
   "execution_count": 57,
   "id": "5444f8db",
   "metadata": {},
   "outputs": [
    {
     "data": {
      "text/plain": [
       "0.8141558494738135"
      ]
     },
     "execution_count": 57,
     "metadata": {},
     "output_type": "execute_result"
    }
   ],
   "source": [
    "(predicted_data == target).mean()"
   ]
  },
  {
   "cell_type": "code",
   "execution_count": 61,
   "id": "0280da63",
   "metadata": {},
   "outputs": [],
   "source": [
    "from sklearn.model_selection import train_test_split"
   ]
  },
  {
   "cell_type": "code",
   "execution_count": 70,
   "id": "92e1ce4f",
   "metadata": {},
   "outputs": [],
   "source": [
    "feature_training, feature_test, target_training, target_test = train_test_split(feature, target, test_size=0.3, random_state=82)"
   ]
  },
  {
   "cell_type": "code",
   "execution_count": 72,
   "id": "4f870878",
   "metadata": {},
   "outputs": [],
   "source": [
    "_ = model.fit(feature_training, target_training)"
   ]
  },
  {
   "cell_type": "code",
   "execution_count": 74,
   "id": "b5041916",
   "metadata": {},
   "outputs": [
    {
     "name": "stdout",
     "output_type": "stream",
     "text": [
      "Accuracy: 0.8194448506829682\n"
     ]
    }
   ],
   "source": [
    "accuracy_training = (model.predict(feature_training) == target_training).mean()\n",
    "print(f\"Accuracy: {accuracy_training}\")"
   ]
  },
  {
   "cell_type": "code",
   "execution_count": 76,
   "id": "115f573f",
   "metadata": {},
   "outputs": [
    {
     "data": {
      "text/plain": [
       "0.8093223230737733"
      ]
     },
     "execution_count": 76,
     "metadata": {},
     "output_type": "execute_result"
    }
   ],
   "source": [
    "model.score(feature_test, target_test)"
   ]
  },
  {
   "cell_type": "code",
   "execution_count": 78,
   "id": "88ee2114",
   "metadata": {},
   "outputs": [],
   "source": [
    "model = KNeighborsClassifier(n_neighbors=50)\n",
    "_ = model.fit(feature_training, target_training)"
   ]
  },
  {
   "cell_type": "code",
   "execution_count": 80,
   "id": "c5800f35",
   "metadata": {},
   "outputs": [
    {
     "data": {
      "text/plain": [
       "array(['<=50K', '<=50K', '<=50K', '<=50K', '<=50K'], dtype=object)"
      ]
     },
     "execution_count": 80,
     "metadata": {},
     "output_type": "execute_result"
    }
   ],
   "source": [
    "predicted_result = model.predict(feature_training[:5])\n",
    "predicted_result"
   ]
  },
  {
   "cell_type": "code",
   "execution_count": 81,
   "id": "1efc48c1",
   "metadata": {},
   "outputs": [
    {
     "data": {
      "text/plain": [
       "25937     True\n",
       "38148     True\n",
       "47757     True\n",
       "15841    False\n",
       "26555     True\n",
       "Name: class, dtype: bool"
      ]
     },
     "execution_count": 81,
     "metadata": {},
     "output_type": "execute_result"
    }
   ],
   "source": [
    "predicted_result == target_training[:5]"
   ]
  },
  {
   "cell_type": "code",
   "execution_count": 82,
   "id": "03ff87c2",
   "metadata": {},
   "outputs": [
    {
     "data": {
      "text/plain": [
       "0.8276931176694259"
      ]
     },
     "execution_count": 82,
     "metadata": {},
     "output_type": "execute_result"
    }
   ],
   "source": [
    "predicted_result = model.predict(feature_training)\n",
    "(predicted_result == target_training).mean()"
   ]
  },
  {
   "cell_type": "code",
   "execution_count": 83,
   "id": "47700ad4",
   "metadata": {},
   "outputs": [
    {
     "data": {
      "text/plain": [
       "0.8250187674878864"
      ]
     },
     "execution_count": 83,
     "metadata": {},
     "output_type": "execute_result"
    }
   ],
   "source": [
    "model.score(feature_test, target_test)"
   ]
  },
  {
   "cell_type": "code",
   "execution_count": 9,
   "id": "37cc3bcd",
   "metadata": {},
   "outputs": [],
   "source": [
    "from scipy.io.arff import loadarff\n",
    "import pandas as pd\n",
    "import numpy as np\n",
    "import matplotlib.pyplot as plt\n",
    "import seaborn as sns"
   ]
  },
  {
   "cell_type": "code",
   "execution_count": 68,
   "id": "c1abe0ec",
   "metadata": {},
   "outputs": [
    {
     "data": {
      "text/html": [
       "<div>\n",
       "<style scoped>\n",
       "    .dataframe tbody tr th:only-of-type {\n",
       "        vertical-align: middle;\n",
       "    }\n",
       "\n",
       "    .dataframe tbody tr th {\n",
       "        vertical-align: top;\n",
       "    }\n",
       "\n",
       "    .dataframe thead th {\n",
       "        text-align: right;\n",
       "    }\n",
       "</style>\n",
       "<table border=\"1\" class=\"dataframe\">\n",
       "  <thead>\n",
       "    <tr style=\"text-align: right;\">\n",
       "      <th></th>\n",
       "      <th>age</th>\n",
       "      <th>workclass</th>\n",
       "      <th>fnlwgt</th>\n",
       "      <th>education</th>\n",
       "      <th>education-num</th>\n",
       "      <th>marital-status</th>\n",
       "      <th>occupation</th>\n",
       "      <th>relationship</th>\n",
       "      <th>race</th>\n",
       "      <th>sex</th>\n",
       "      <th>capital-gain</th>\n",
       "      <th>capital-loss</th>\n",
       "      <th>hours-per-week</th>\n",
       "      <th>native-country</th>\n",
       "      <th>class</th>\n",
       "    </tr>\n",
       "  </thead>\n",
       "  <tbody>\n",
       "    <tr>\n",
       "      <th>0</th>\n",
       "      <td>25.0</td>\n",
       "      <td>b'Private'</td>\n",
       "      <td>226802.0</td>\n",
       "      <td>b'11th'</td>\n",
       "      <td>7.0</td>\n",
       "      <td>b'Never-married'</td>\n",
       "      <td>b'Machine-op-inspct'</td>\n",
       "      <td>b'Own-child'</td>\n",
       "      <td>b'Black'</td>\n",
       "      <td>b'Male'</td>\n",
       "      <td>0.0</td>\n",
       "      <td>0.0</td>\n",
       "      <td>40.0</td>\n",
       "      <td>b'United-States'</td>\n",
       "      <td>b'&lt;=50K'</td>\n",
       "    </tr>\n",
       "    <tr>\n",
       "      <th>1</th>\n",
       "      <td>38.0</td>\n",
       "      <td>b'Private'</td>\n",
       "      <td>89814.0</td>\n",
       "      <td>b'HS-grad'</td>\n",
       "      <td>9.0</td>\n",
       "      <td>b'Married-civ-spouse'</td>\n",
       "      <td>b'Farming-fishing'</td>\n",
       "      <td>b'Husband'</td>\n",
       "      <td>b'White'</td>\n",
       "      <td>b'Male'</td>\n",
       "      <td>0.0</td>\n",
       "      <td>0.0</td>\n",
       "      <td>50.0</td>\n",
       "      <td>b'United-States'</td>\n",
       "      <td>b'&lt;=50K'</td>\n",
       "    </tr>\n",
       "    <tr>\n",
       "      <th>2</th>\n",
       "      <td>28.0</td>\n",
       "      <td>b'Local-gov'</td>\n",
       "      <td>336951.0</td>\n",
       "      <td>b'Assoc-acdm'</td>\n",
       "      <td>12.0</td>\n",
       "      <td>b'Married-civ-spouse'</td>\n",
       "      <td>b'Protective-serv'</td>\n",
       "      <td>b'Husband'</td>\n",
       "      <td>b'White'</td>\n",
       "      <td>b'Male'</td>\n",
       "      <td>0.0</td>\n",
       "      <td>0.0</td>\n",
       "      <td>40.0</td>\n",
       "      <td>b'United-States'</td>\n",
       "      <td>b'&gt;50K'</td>\n",
       "    </tr>\n",
       "    <tr>\n",
       "      <th>3</th>\n",
       "      <td>44.0</td>\n",
       "      <td>b'Private'</td>\n",
       "      <td>160323.0</td>\n",
       "      <td>b'Some-college'</td>\n",
       "      <td>10.0</td>\n",
       "      <td>b'Married-civ-spouse'</td>\n",
       "      <td>b'Machine-op-inspct'</td>\n",
       "      <td>b'Husband'</td>\n",
       "      <td>b'Black'</td>\n",
       "      <td>b'Male'</td>\n",
       "      <td>7688.0</td>\n",
       "      <td>0.0</td>\n",
       "      <td>40.0</td>\n",
       "      <td>b'United-States'</td>\n",
       "      <td>b'&gt;50K'</td>\n",
       "    </tr>\n",
       "    <tr>\n",
       "      <th>4</th>\n",
       "      <td>18.0</td>\n",
       "      <td>b'?'</td>\n",
       "      <td>103497.0</td>\n",
       "      <td>b'Some-college'</td>\n",
       "      <td>10.0</td>\n",
       "      <td>b'Never-married'</td>\n",
       "      <td>b'?'</td>\n",
       "      <td>b'Own-child'</td>\n",
       "      <td>b'White'</td>\n",
       "      <td>b'Female'</td>\n",
       "      <td>0.0</td>\n",
       "      <td>0.0</td>\n",
       "      <td>30.0</td>\n",
       "      <td>b'United-States'</td>\n",
       "      <td>b'&lt;=50K'</td>\n",
       "    </tr>\n",
       "  </tbody>\n",
       "</table>\n",
       "</div>"
      ],
      "text/plain": [
       "    age     workclass    fnlwgt        education  education-num  \\\n",
       "0  25.0    b'Private'  226802.0          b'11th'            7.0   \n",
       "1  38.0    b'Private'   89814.0       b'HS-grad'            9.0   \n",
       "2  28.0  b'Local-gov'  336951.0    b'Assoc-acdm'           12.0   \n",
       "3  44.0    b'Private'  160323.0  b'Some-college'           10.0   \n",
       "4  18.0          b'?'  103497.0  b'Some-college'           10.0   \n",
       "\n",
       "          marital-status            occupation  relationship      race  \\\n",
       "0       b'Never-married'  b'Machine-op-inspct'  b'Own-child'  b'Black'   \n",
       "1  b'Married-civ-spouse'    b'Farming-fishing'    b'Husband'  b'White'   \n",
       "2  b'Married-civ-spouse'    b'Protective-serv'    b'Husband'  b'White'   \n",
       "3  b'Married-civ-spouse'  b'Machine-op-inspct'    b'Husband'  b'Black'   \n",
       "4       b'Never-married'                  b'?'  b'Own-child'  b'White'   \n",
       "\n",
       "         sex  capital-gain  capital-loss  hours-per-week    native-country  \\\n",
       "0    b'Male'           0.0           0.0            40.0  b'United-States'   \n",
       "1    b'Male'           0.0           0.0            50.0  b'United-States'   \n",
       "2    b'Male'           0.0           0.0            40.0  b'United-States'   \n",
       "3    b'Male'        7688.0           0.0            40.0  b'United-States'   \n",
       "4  b'Female'           0.0           0.0            30.0  b'United-States'   \n",
       "\n",
       "      class  \n",
       "0  b'<=50K'  \n",
       "1  b'<=50K'  \n",
       "2   b'>50K'  \n",
       "3   b'>50K'  \n",
       "4  b'<=50K'  "
      ]
     },
     "execution_count": 68,
     "metadata": {},
     "output_type": "execute_result"
    }
   ],
   "source": [
    "df = pd.DataFrame(loadarff(\"phpMawTba.arff\")[0])\n",
    "df.head()"
   ]
  },
  {
   "cell_type": "code",
   "execution_count": 69,
   "id": "caf0fb6c",
   "metadata": {},
   "outputs": [
    {
     "data": {
      "text/html": [
       "<div>\n",
       "<style scoped>\n",
       "    .dataframe tbody tr th:only-of-type {\n",
       "        vertical-align: middle;\n",
       "    }\n",
       "\n",
       "    .dataframe tbody tr th {\n",
       "        vertical-align: top;\n",
       "    }\n",
       "\n",
       "    .dataframe thead th {\n",
       "        text-align: right;\n",
       "    }\n",
       "</style>\n",
       "<table border=\"1\" class=\"dataframe\">\n",
       "  <thead>\n",
       "    <tr style=\"text-align: right;\">\n",
       "      <th></th>\n",
       "      <th>age</th>\n",
       "      <th>workclass</th>\n",
       "      <th>fnlwgt</th>\n",
       "      <th>education</th>\n",
       "      <th>education-num</th>\n",
       "      <th>marital-status</th>\n",
       "      <th>occupation</th>\n",
       "      <th>relationship</th>\n",
       "      <th>race</th>\n",
       "      <th>sex</th>\n",
       "      <th>capital-gain</th>\n",
       "      <th>capital-loss</th>\n",
       "      <th>hours-per-week</th>\n",
       "      <th>native-country</th>\n",
       "      <th>class</th>\n",
       "    </tr>\n",
       "  </thead>\n",
       "  <tbody>\n",
       "    <tr>\n",
       "      <th>0</th>\n",
       "      <td>25.0</td>\n",
       "      <td>Private</td>\n",
       "      <td>226802.0</td>\n",
       "      <td>11th</td>\n",
       "      <td>7.0</td>\n",
       "      <td>Never-married</td>\n",
       "      <td>Machine-op-inspct</td>\n",
       "      <td>b'Own-child'</td>\n",
       "      <td>Black</td>\n",
       "      <td>Male</td>\n",
       "      <td>0.0</td>\n",
       "      <td>0.0</td>\n",
       "      <td>40.0</td>\n",
       "      <td>United-States</td>\n",
       "      <td>&lt;=50K</td>\n",
       "    </tr>\n",
       "    <tr>\n",
       "      <th>1</th>\n",
       "      <td>38.0</td>\n",
       "      <td>Private</td>\n",
       "      <td>89814.0</td>\n",
       "      <td>HS-grad</td>\n",
       "      <td>9.0</td>\n",
       "      <td>Married-civ-spouse</td>\n",
       "      <td>Farming-fishing</td>\n",
       "      <td>b'Husband'</td>\n",
       "      <td>White</td>\n",
       "      <td>Male</td>\n",
       "      <td>0.0</td>\n",
       "      <td>0.0</td>\n",
       "      <td>50.0</td>\n",
       "      <td>United-States</td>\n",
       "      <td>&lt;=50K</td>\n",
       "    </tr>\n",
       "    <tr>\n",
       "      <th>2</th>\n",
       "      <td>28.0</td>\n",
       "      <td>Local-gov</td>\n",
       "      <td>336951.0</td>\n",
       "      <td>Assoc-acdm</td>\n",
       "      <td>12.0</td>\n",
       "      <td>Married-civ-spouse</td>\n",
       "      <td>Protective-serv</td>\n",
       "      <td>b'Husband'</td>\n",
       "      <td>White</td>\n",
       "      <td>Male</td>\n",
       "      <td>0.0</td>\n",
       "      <td>0.0</td>\n",
       "      <td>40.0</td>\n",
       "      <td>United-States</td>\n",
       "      <td>&gt;50K</td>\n",
       "    </tr>\n",
       "    <tr>\n",
       "      <th>3</th>\n",
       "      <td>44.0</td>\n",
       "      <td>Private</td>\n",
       "      <td>160323.0</td>\n",
       "      <td>Some-college</td>\n",
       "      <td>10.0</td>\n",
       "      <td>Married-civ-spouse</td>\n",
       "      <td>Machine-op-inspct</td>\n",
       "      <td>b'Husband'</td>\n",
       "      <td>Black</td>\n",
       "      <td>Male</td>\n",
       "      <td>7688.0</td>\n",
       "      <td>0.0</td>\n",
       "      <td>40.0</td>\n",
       "      <td>United-States</td>\n",
       "      <td>&gt;50K</td>\n",
       "    </tr>\n",
       "    <tr>\n",
       "      <th>4</th>\n",
       "      <td>18.0</td>\n",
       "      <td>?</td>\n",
       "      <td>103497.0</td>\n",
       "      <td>Some-college</td>\n",
       "      <td>10.0</td>\n",
       "      <td>Never-married</td>\n",
       "      <td>?</td>\n",
       "      <td>b'Own-child'</td>\n",
       "      <td>White</td>\n",
       "      <td>Female</td>\n",
       "      <td>0.0</td>\n",
       "      <td>0.0</td>\n",
       "      <td>30.0</td>\n",
       "      <td>United-States</td>\n",
       "      <td>&lt;=50K</td>\n",
       "    </tr>\n",
       "  </tbody>\n",
       "</table>\n",
       "</div>"
      ],
      "text/plain": [
       "    age  workclass    fnlwgt     education  education-num      marital-status  \\\n",
       "0  25.0    Private  226802.0          11th            7.0       Never-married   \n",
       "1  38.0    Private   89814.0       HS-grad            9.0  Married-civ-spouse   \n",
       "2  28.0  Local-gov  336951.0    Assoc-acdm           12.0  Married-civ-spouse   \n",
       "3  44.0    Private  160323.0  Some-college           10.0  Married-civ-spouse   \n",
       "4  18.0          ?  103497.0  Some-college           10.0       Never-married   \n",
       "\n",
       "          occupation  relationship   race     sex  capital-gain  capital-loss  \\\n",
       "0  Machine-op-inspct  b'Own-child'  Black    Male           0.0           0.0   \n",
       "1    Farming-fishing    b'Husband'  White    Male           0.0           0.0   \n",
       "2    Protective-serv    b'Husband'  White    Male           0.0           0.0   \n",
       "3  Machine-op-inspct    b'Husband'  Black    Male        7688.0           0.0   \n",
       "4                  ?  b'Own-child'  White  Female           0.0           0.0   \n",
       "\n",
       "   hours-per-week native-country  class  \n",
       "0            40.0  United-States  <=50K  \n",
       "1            50.0  United-States  <=50K  \n",
       "2            40.0  United-States   >50K  \n",
       "3            40.0  United-States   >50K  \n",
       "4            30.0  United-States  <=50K  "
      ]
     },
     "execution_count": 69,
     "metadata": {},
     "output_type": "execute_result"
    }
   ],
   "source": [
    "decode_feature = [\"workclass\", \"education\", \"marital-status\", \"occupation\", \"race\", \"sex\", \"native-country\", \"class\"]\n",
    "\n",
    "for label in decode_feature:\n",
    "    df[label] = df[label].apply(lambda x: x.decode(\"utf-8\"))\n",
    "    \n",
    "df.head()"
   ]
  },
  {
   "cell_type": "code",
   "execution_count": 70,
   "id": "91717f34",
   "metadata": {
    "scrolled": true
   },
   "outputs": [
    {
     "data": {
      "text/plain": [
       "age               float64\n",
       "workclass          object\n",
       "fnlwgt            float64\n",
       "education          object\n",
       "education-num     float64\n",
       "marital-status     object\n",
       "occupation         object\n",
       "relationship       object\n",
       "race               object\n",
       "sex                object\n",
       "capital-gain      float64\n",
       "capital-loss      float64\n",
       "hours-per-week    float64\n",
       "native-country     object\n",
       "class              object\n",
       "dtype: object"
      ]
     },
     "execution_count": 70,
     "metadata": {},
     "output_type": "execute_result"
    }
   ],
   "source": [
    "df.dtypes"
   ]
  },
  {
   "cell_type": "code",
   "execution_count": 71,
   "id": "00f60f9d",
   "metadata": {},
   "outputs": [],
   "source": [
    "df[\"capital-gain\"] = df[\"capital-gain\"] / df[\"capital-gain\"].mean()"
   ]
  },
  {
   "cell_type": "code",
   "execution_count": 72,
   "id": "e1a5f3d8",
   "metadata": {},
   "outputs": [],
   "source": [
    "df[\"fnlwgt\"] = df[\"fnlwgt\"] / df[\"fnlwgt\"].mean()"
   ]
  },
  {
   "cell_type": "code",
   "execution_count": 73,
   "id": "922a5a9f",
   "metadata": {},
   "outputs": [
    {
     "data": {
      "text/html": [
       "<div>\n",
       "<style scoped>\n",
       "    .dataframe tbody tr th:only-of-type {\n",
       "        vertical-align: middle;\n",
       "    }\n",
       "\n",
       "    .dataframe tbody tr th {\n",
       "        vertical-align: top;\n",
       "    }\n",
       "\n",
       "    .dataframe thead th {\n",
       "        text-align: right;\n",
       "    }\n",
       "</style>\n",
       "<table border=\"1\" class=\"dataframe\">\n",
       "  <thead>\n",
       "    <tr style=\"text-align: right;\">\n",
       "      <th></th>\n",
       "      <th>age</th>\n",
       "      <th>workclass</th>\n",
       "      <th>fnlwgt</th>\n",
       "      <th>education</th>\n",
       "      <th>education-num</th>\n",
       "      <th>marital-status</th>\n",
       "      <th>occupation</th>\n",
       "      <th>relationship</th>\n",
       "      <th>race</th>\n",
       "      <th>sex</th>\n",
       "      <th>capital-gain</th>\n",
       "      <th>capital-loss</th>\n",
       "      <th>hours-per-week</th>\n",
       "      <th>native-country</th>\n",
       "      <th>class</th>\n",
       "    </tr>\n",
       "  </thead>\n",
       "  <tbody>\n",
       "    <tr>\n",
       "      <th>0</th>\n",
       "      <td>25.0</td>\n",
       "      <td>Private</td>\n",
       "      <td>1.195809</td>\n",
       "      <td>11th</td>\n",
       "      <td>7.0</td>\n",
       "      <td>Never-married</td>\n",
       "      <td>Machine-op-inspct</td>\n",
       "      <td>b'Own-child'</td>\n",
       "      <td>Black</td>\n",
       "      <td>Male</td>\n",
       "      <td>0.000000</td>\n",
       "      <td>0.0</td>\n",
       "      <td>40.0</td>\n",
       "      <td>United-States</td>\n",
       "      <td>&lt;=50K</td>\n",
       "    </tr>\n",
       "    <tr>\n",
       "      <th>1</th>\n",
       "      <td>38.0</td>\n",
       "      <td>Private</td>\n",
       "      <td>0.473542</td>\n",
       "      <td>HS-grad</td>\n",
       "      <td>9.0</td>\n",
       "      <td>Married-civ-spouse</td>\n",
       "      <td>Farming-fishing</td>\n",
       "      <td>b'Husband'</td>\n",
       "      <td>White</td>\n",
       "      <td>Male</td>\n",
       "      <td>0.000000</td>\n",
       "      <td>0.0</td>\n",
       "      <td>50.0</td>\n",
       "      <td>United-States</td>\n",
       "      <td>&lt;=50K</td>\n",
       "    </tr>\n",
       "    <tr>\n",
       "      <th>2</th>\n",
       "      <td>28.0</td>\n",
       "      <td>Local-gov</td>\n",
       "      <td>1.776567</td>\n",
       "      <td>Assoc-acdm</td>\n",
       "      <td>12.0</td>\n",
       "      <td>Married-civ-spouse</td>\n",
       "      <td>Protective-serv</td>\n",
       "      <td>b'Husband'</td>\n",
       "      <td>White</td>\n",
       "      <td>Male</td>\n",
       "      <td>0.000000</td>\n",
       "      <td>0.0</td>\n",
       "      <td>40.0</td>\n",
       "      <td>United-States</td>\n",
       "      <td>&gt;50K</td>\n",
       "    </tr>\n",
       "    <tr>\n",
       "      <th>3</th>\n",
       "      <td>44.0</td>\n",
       "      <td>Private</td>\n",
       "      <td>0.845300</td>\n",
       "      <td>Some-college</td>\n",
       "      <td>10.0</td>\n",
       "      <td>Married-civ-spouse</td>\n",
       "      <td>Machine-op-inspct</td>\n",
       "      <td>b'Husband'</td>\n",
       "      <td>Black</td>\n",
       "      <td>Male</td>\n",
       "      <td>7.124669</td>\n",
       "      <td>0.0</td>\n",
       "      <td>40.0</td>\n",
       "      <td>United-States</td>\n",
       "      <td>&gt;50K</td>\n",
       "    </tr>\n",
       "    <tr>\n",
       "      <th>4</th>\n",
       "      <td>18.0</td>\n",
       "      <td>?</td>\n",
       "      <td>0.545686</td>\n",
       "      <td>Some-college</td>\n",
       "      <td>10.0</td>\n",
       "      <td>Never-married</td>\n",
       "      <td>?</td>\n",
       "      <td>b'Own-child'</td>\n",
       "      <td>White</td>\n",
       "      <td>Female</td>\n",
       "      <td>0.000000</td>\n",
       "      <td>0.0</td>\n",
       "      <td>30.0</td>\n",
       "      <td>United-States</td>\n",
       "      <td>&lt;=50K</td>\n",
       "    </tr>\n",
       "  </tbody>\n",
       "</table>\n",
       "</div>"
      ],
      "text/plain": [
       "    age  workclass    fnlwgt     education  education-num      marital-status  \\\n",
       "0  25.0    Private  1.195809          11th            7.0       Never-married   \n",
       "1  38.0    Private  0.473542       HS-grad            9.0  Married-civ-spouse   \n",
       "2  28.0  Local-gov  1.776567    Assoc-acdm           12.0  Married-civ-spouse   \n",
       "3  44.0    Private  0.845300  Some-college           10.0  Married-civ-spouse   \n",
       "4  18.0          ?  0.545686  Some-college           10.0       Never-married   \n",
       "\n",
       "          occupation  relationship   race     sex  capital-gain  capital-loss  \\\n",
       "0  Machine-op-inspct  b'Own-child'  Black    Male      0.000000           0.0   \n",
       "1    Farming-fishing    b'Husband'  White    Male      0.000000           0.0   \n",
       "2    Protective-serv    b'Husband'  White    Male      0.000000           0.0   \n",
       "3  Machine-op-inspct    b'Husband'  Black    Male      7.124669           0.0   \n",
       "4                  ?  b'Own-child'  White  Female      0.000000           0.0   \n",
       "\n",
       "   hours-per-week native-country  class  \n",
       "0            40.0  United-States  <=50K  \n",
       "1            50.0  United-States  <=50K  \n",
       "2            40.0  United-States   >50K  \n",
       "3            40.0  United-States   >50K  \n",
       "4            30.0  United-States  <=50K  "
      ]
     },
     "execution_count": 73,
     "metadata": {},
     "output_type": "execute_result"
    }
   ],
   "source": [
    "df.head()"
   ]
  },
  {
   "cell_type": "code",
   "execution_count": 74,
   "id": "7f02bd1c",
   "metadata": {},
   "outputs": [],
   "source": [
    "from sklearn.model_selection import train_test_split\n",
    "from sklearn.linear_model import LogisticRegression\n",
    "\n",
    "def prepare_data(df):\n",
    "    numerical_features = [\"age\", \"fnlwgt\", \"capital-gain\", \"capital-loss\", \"hours-per-week\"]\n",
    "    \n",
    "    data = df[numerical_features]\n",
    "    target = df[\"class\"]\n",
    "    \n",
    "    return data, target\n",
    "\n",
    "\n",
    "\n",
    "data, label = prepare_data(df)\n",
    "X_train, X_val, y_train, y_val = train_test_split(data, label, test_size=.2, random_state=82)"
   ]
  },
  {
   "cell_type": "code",
   "execution_count": 75,
   "id": "c2c94bc0",
   "metadata": {},
   "outputs": [
    {
     "data": {
      "text/html": [
       "<style>#sk-container-id-3 {color: black;}#sk-container-id-3 pre{padding: 0;}#sk-container-id-3 div.sk-toggleable {background-color: white;}#sk-container-id-3 label.sk-toggleable__label {cursor: pointer;display: block;width: 100%;margin-bottom: 0;padding: 0.3em;box-sizing: border-box;text-align: center;}#sk-container-id-3 label.sk-toggleable__label-arrow:before {content: \"▸\";float: left;margin-right: 0.25em;color: #696969;}#sk-container-id-3 label.sk-toggleable__label-arrow:hover:before {color: black;}#sk-container-id-3 div.sk-estimator:hover label.sk-toggleable__label-arrow:before {color: black;}#sk-container-id-3 div.sk-toggleable__content {max-height: 0;max-width: 0;overflow: hidden;text-align: left;background-color: #f0f8ff;}#sk-container-id-3 div.sk-toggleable__content pre {margin: 0.2em;color: black;border-radius: 0.25em;background-color: #f0f8ff;}#sk-container-id-3 input.sk-toggleable__control:checked~div.sk-toggleable__content {max-height: 200px;max-width: 100%;overflow: auto;}#sk-container-id-3 input.sk-toggleable__control:checked~label.sk-toggleable__label-arrow:before {content: \"▾\";}#sk-container-id-3 div.sk-estimator input.sk-toggleable__control:checked~label.sk-toggleable__label {background-color: #d4ebff;}#sk-container-id-3 div.sk-label input.sk-toggleable__control:checked~label.sk-toggleable__label {background-color: #d4ebff;}#sk-container-id-3 input.sk-hidden--visually {border: 0;clip: rect(1px 1px 1px 1px);clip: rect(1px, 1px, 1px, 1px);height: 1px;margin: -1px;overflow: hidden;padding: 0;position: absolute;width: 1px;}#sk-container-id-3 div.sk-estimator {font-family: monospace;background-color: #f0f8ff;border: 1px dotted black;border-radius: 0.25em;box-sizing: border-box;margin-bottom: 0.5em;}#sk-container-id-3 div.sk-estimator:hover {background-color: #d4ebff;}#sk-container-id-3 div.sk-parallel-item::after {content: \"\";width: 100%;border-bottom: 1px solid gray;flex-grow: 1;}#sk-container-id-3 div.sk-label:hover label.sk-toggleable__label {background-color: #d4ebff;}#sk-container-id-3 div.sk-serial::before {content: \"\";position: absolute;border-left: 1px solid gray;box-sizing: border-box;top: 0;bottom: 0;left: 50%;z-index: 0;}#sk-container-id-3 div.sk-serial {display: flex;flex-direction: column;align-items: center;background-color: white;padding-right: 0.2em;padding-left: 0.2em;position: relative;}#sk-container-id-3 div.sk-item {position: relative;z-index: 1;}#sk-container-id-3 div.sk-parallel {display: flex;align-items: stretch;justify-content: center;background-color: white;position: relative;}#sk-container-id-3 div.sk-item::before, #sk-container-id-3 div.sk-parallel-item::before {content: \"\";position: absolute;border-left: 1px solid gray;box-sizing: border-box;top: 0;bottom: 0;left: 50%;z-index: -1;}#sk-container-id-3 div.sk-parallel-item {display: flex;flex-direction: column;z-index: 1;position: relative;background-color: white;}#sk-container-id-3 div.sk-parallel-item:first-child::after {align-self: flex-end;width: 50%;}#sk-container-id-3 div.sk-parallel-item:last-child::after {align-self: flex-start;width: 50%;}#sk-container-id-3 div.sk-parallel-item:only-child::after {width: 0;}#sk-container-id-3 div.sk-dashed-wrapped {border: 1px dashed gray;margin: 0 0.4em 0.5em 0.4em;box-sizing: border-box;padding-bottom: 0.4em;background-color: white;}#sk-container-id-3 div.sk-label label {font-family: monospace;font-weight: bold;display: inline-block;line-height: 1.2em;}#sk-container-id-3 div.sk-label-container {text-align: center;}#sk-container-id-3 div.sk-container {/* jupyter's `normalize.less` sets `[hidden] { display: none; }` but bootstrap.min.css set `[hidden] { display: none !important; }` so we also need the `!important` here to be able to override the default hidden behavior on the sphinx rendered scikit-learn.org. See: https://github.com/scikit-learn/scikit-learn/issues/21755 */display: inline-block !important;position: relative;}#sk-container-id-3 div.sk-text-repr-fallback {display: none;}</style><div id=\"sk-container-id-3\" class=\"sk-top-container\"><div class=\"sk-text-repr-fallback\"><pre>LogisticRegression()</pre><b>In a Jupyter environment, please rerun this cell to show the HTML representation or trust the notebook. <br />On GitHub, the HTML representation is unable to render, please try loading this page with nbviewer.org.</b></div><div class=\"sk-container\" hidden><div class=\"sk-item\"><div class=\"sk-estimator sk-toggleable\"><input class=\"sk-toggleable__control sk-hidden--visually\" id=\"sk-estimator-id-3\" type=\"checkbox\" checked><label for=\"sk-estimator-id-3\" class=\"sk-toggleable__label sk-toggleable__label-arrow\">LogisticRegression</label><div class=\"sk-toggleable__content\"><pre>LogisticRegression()</pre></div></div></div></div></div>"
      ],
      "text/plain": [
       "LogisticRegression()"
      ]
     },
     "execution_count": 75,
     "metadata": {},
     "output_type": "execute_result"
    }
   ],
   "source": [
    "model = LogisticRegression()\n",
    "model.fit(X_train, y_train)"
   ]
  },
  {
   "cell_type": "code",
   "execution_count": 76,
   "id": "acafa1a6",
   "metadata": {},
   "outputs": [
    {
     "data": {
      "text/plain": [
       "array(['<=50K', '<=50K', '<=50K', '<=50K', '>50K', '<=50K', '<=50K',\n",
       "       '<=50K', '<=50K', '<=50K'], dtype=object)"
      ]
     },
     "execution_count": 76,
     "metadata": {},
     "output_type": "execute_result"
    }
   ],
   "source": [
    "val_predictions = model.predict(X_train[:10])\n",
    "val_predictions"
   ]
  },
  {
   "cell_type": "code",
   "execution_count": 77,
   "id": "b73e3cf7",
   "metadata": {},
   "outputs": [
    {
     "data": {
      "text/plain": [
       "0.8006039976454329"
      ]
     },
     "execution_count": 77,
     "metadata": {},
     "output_type": "execute_result"
    }
   ],
   "source": [
    "val_predictions = model.predict(X_train)\n",
    "(val_predictions == y_train).mean()"
   ]
  },
  {
   "cell_type": "code",
   "execution_count": 78,
   "id": "b946e9e2",
   "metadata": {},
   "outputs": [
    {
     "data": {
      "text/plain": [
       "0.7970109530146381"
      ]
     },
     "execution_count": 78,
     "metadata": {},
     "output_type": "execute_result"
    }
   ],
   "source": [
    "model.score(X_val, y_val)"
   ]
  },
  {
   "cell_type": "code",
   "execution_count": 1,
   "id": "90f73e50",
   "metadata": {},
   "outputs": [],
   "source": [
    "from scipy.io.arff import loadarff\n",
    "import numpy as np\n",
    "import pandas as pd\n",
    "import matplotlib.pyplot as plt\n",
    "import seaborn as sns"
   ]
  },
  {
   "cell_type": "code",
   "execution_count": 2,
   "id": "73bc8cb4",
   "metadata": {},
   "outputs": [
    {
     "data": {
      "text/html": [
       "<div>\n",
       "<style scoped>\n",
       "    .dataframe tbody tr th:only-of-type {\n",
       "        vertical-align: middle;\n",
       "    }\n",
       "\n",
       "    .dataframe tbody tr th {\n",
       "        vertical-align: top;\n",
       "    }\n",
       "\n",
       "    .dataframe thead th {\n",
       "        text-align: right;\n",
       "    }\n",
       "</style>\n",
       "<table border=\"1\" class=\"dataframe\">\n",
       "  <thead>\n",
       "    <tr style=\"text-align: right;\">\n",
       "      <th></th>\n",
       "      <th>age</th>\n",
       "      <th>workclass</th>\n",
       "      <th>fnlwgt</th>\n",
       "      <th>education</th>\n",
       "      <th>education-num</th>\n",
       "      <th>marital-status</th>\n",
       "      <th>occupation</th>\n",
       "      <th>relationship</th>\n",
       "      <th>race</th>\n",
       "      <th>sex</th>\n",
       "      <th>capital-gain</th>\n",
       "      <th>capital-loss</th>\n",
       "      <th>hours-per-week</th>\n",
       "      <th>native-country</th>\n",
       "      <th>class</th>\n",
       "    </tr>\n",
       "  </thead>\n",
       "  <tbody>\n",
       "    <tr>\n",
       "      <th>0</th>\n",
       "      <td>25.0</td>\n",
       "      <td>b'Private'</td>\n",
       "      <td>226802.0</td>\n",
       "      <td>b'11th'</td>\n",
       "      <td>7.0</td>\n",
       "      <td>b'Never-married'</td>\n",
       "      <td>b'Machine-op-inspct'</td>\n",
       "      <td>b'Own-child'</td>\n",
       "      <td>b'Black'</td>\n",
       "      <td>b'Male'</td>\n",
       "      <td>0.0</td>\n",
       "      <td>0.0</td>\n",
       "      <td>40.0</td>\n",
       "      <td>b'United-States'</td>\n",
       "      <td>b'&lt;=50K'</td>\n",
       "    </tr>\n",
       "    <tr>\n",
       "      <th>1</th>\n",
       "      <td>38.0</td>\n",
       "      <td>b'Private'</td>\n",
       "      <td>89814.0</td>\n",
       "      <td>b'HS-grad'</td>\n",
       "      <td>9.0</td>\n",
       "      <td>b'Married-civ-spouse'</td>\n",
       "      <td>b'Farming-fishing'</td>\n",
       "      <td>b'Husband'</td>\n",
       "      <td>b'White'</td>\n",
       "      <td>b'Male'</td>\n",
       "      <td>0.0</td>\n",
       "      <td>0.0</td>\n",
       "      <td>50.0</td>\n",
       "      <td>b'United-States'</td>\n",
       "      <td>b'&lt;=50K'</td>\n",
       "    </tr>\n",
       "    <tr>\n",
       "      <th>2</th>\n",
       "      <td>28.0</td>\n",
       "      <td>b'Local-gov'</td>\n",
       "      <td>336951.0</td>\n",
       "      <td>b'Assoc-acdm'</td>\n",
       "      <td>12.0</td>\n",
       "      <td>b'Married-civ-spouse'</td>\n",
       "      <td>b'Protective-serv'</td>\n",
       "      <td>b'Husband'</td>\n",
       "      <td>b'White'</td>\n",
       "      <td>b'Male'</td>\n",
       "      <td>0.0</td>\n",
       "      <td>0.0</td>\n",
       "      <td>40.0</td>\n",
       "      <td>b'United-States'</td>\n",
       "      <td>b'&gt;50K'</td>\n",
       "    </tr>\n",
       "    <tr>\n",
       "      <th>3</th>\n",
       "      <td>44.0</td>\n",
       "      <td>b'Private'</td>\n",
       "      <td>160323.0</td>\n",
       "      <td>b'Some-college'</td>\n",
       "      <td>10.0</td>\n",
       "      <td>b'Married-civ-spouse'</td>\n",
       "      <td>b'Machine-op-inspct'</td>\n",
       "      <td>b'Husband'</td>\n",
       "      <td>b'Black'</td>\n",
       "      <td>b'Male'</td>\n",
       "      <td>7688.0</td>\n",
       "      <td>0.0</td>\n",
       "      <td>40.0</td>\n",
       "      <td>b'United-States'</td>\n",
       "      <td>b'&gt;50K'</td>\n",
       "    </tr>\n",
       "    <tr>\n",
       "      <th>4</th>\n",
       "      <td>18.0</td>\n",
       "      <td>b'?'</td>\n",
       "      <td>103497.0</td>\n",
       "      <td>b'Some-college'</td>\n",
       "      <td>10.0</td>\n",
       "      <td>b'Never-married'</td>\n",
       "      <td>b'?'</td>\n",
       "      <td>b'Own-child'</td>\n",
       "      <td>b'White'</td>\n",
       "      <td>b'Female'</td>\n",
       "      <td>0.0</td>\n",
       "      <td>0.0</td>\n",
       "      <td>30.0</td>\n",
       "      <td>b'United-States'</td>\n",
       "      <td>b'&lt;=50K'</td>\n",
       "    </tr>\n",
       "  </tbody>\n",
       "</table>\n",
       "</div>"
      ],
      "text/plain": [
       "    age     workclass    fnlwgt        education  education-num  \\\n",
       "0  25.0    b'Private'  226802.0          b'11th'            7.0   \n",
       "1  38.0    b'Private'   89814.0       b'HS-grad'            9.0   \n",
       "2  28.0  b'Local-gov'  336951.0    b'Assoc-acdm'           12.0   \n",
       "3  44.0    b'Private'  160323.0  b'Some-college'           10.0   \n",
       "4  18.0          b'?'  103497.0  b'Some-college'           10.0   \n",
       "\n",
       "          marital-status            occupation  relationship      race  \\\n",
       "0       b'Never-married'  b'Machine-op-inspct'  b'Own-child'  b'Black'   \n",
       "1  b'Married-civ-spouse'    b'Farming-fishing'    b'Husband'  b'White'   \n",
       "2  b'Married-civ-spouse'    b'Protective-serv'    b'Husband'  b'White'   \n",
       "3  b'Married-civ-spouse'  b'Machine-op-inspct'    b'Husband'  b'Black'   \n",
       "4       b'Never-married'                  b'?'  b'Own-child'  b'White'   \n",
       "\n",
       "         sex  capital-gain  capital-loss  hours-per-week    native-country  \\\n",
       "0    b'Male'           0.0           0.0            40.0  b'United-States'   \n",
       "1    b'Male'           0.0           0.0            50.0  b'United-States'   \n",
       "2    b'Male'           0.0           0.0            40.0  b'United-States'   \n",
       "3    b'Male'        7688.0           0.0            40.0  b'United-States'   \n",
       "4  b'Female'           0.0           0.0            30.0  b'United-States'   \n",
       "\n",
       "      class  \n",
       "0  b'<=50K'  \n",
       "1  b'<=50K'  \n",
       "2   b'>50K'  \n",
       "3   b'>50K'  \n",
       "4  b'<=50K'  "
      ]
     },
     "execution_count": 2,
     "metadata": {},
     "output_type": "execute_result"
    }
   ],
   "source": [
    "df = pd.DataFrame(loadarff(\"phpMawTba.arff\")[0])\n",
    "df.head()"
   ]
  },
  {
   "cell_type": "code",
   "execution_count": 3,
   "id": "4bf73ff3",
   "metadata": {},
   "outputs": [],
   "source": [
    "numerical_features = [\"age\", \"fnlwgt\", \"capital-gain\", \"capital-loss\"]\n",
    "target = \"class\"\n",
    "\n",
    "df[target] = df[target].apply(lambda x: x.decode(\"utf-8\"))\n",
    "features = df[numerical_features]\n",
    "label = df[target]"
   ]
  },
  {
   "cell_type": "code",
   "execution_count": 4,
   "id": "7d6f4936",
   "metadata": {},
   "outputs": [
    {
     "data": {
      "text/html": [
       "<style>#sk-container-id-1 {color: black;}#sk-container-id-1 pre{padding: 0;}#sk-container-id-1 div.sk-toggleable {background-color: white;}#sk-container-id-1 label.sk-toggleable__label {cursor: pointer;display: block;width: 100%;margin-bottom: 0;padding: 0.3em;box-sizing: border-box;text-align: center;}#sk-container-id-1 label.sk-toggleable__label-arrow:before {content: \"▸\";float: left;margin-right: 0.25em;color: #696969;}#sk-container-id-1 label.sk-toggleable__label-arrow:hover:before {color: black;}#sk-container-id-1 div.sk-estimator:hover label.sk-toggleable__label-arrow:before {color: black;}#sk-container-id-1 div.sk-toggleable__content {max-height: 0;max-width: 0;overflow: hidden;text-align: left;background-color: #f0f8ff;}#sk-container-id-1 div.sk-toggleable__content pre {margin: 0.2em;color: black;border-radius: 0.25em;background-color: #f0f8ff;}#sk-container-id-1 input.sk-toggleable__control:checked~div.sk-toggleable__content {max-height: 200px;max-width: 100%;overflow: auto;}#sk-container-id-1 input.sk-toggleable__control:checked~label.sk-toggleable__label-arrow:before {content: \"▾\";}#sk-container-id-1 div.sk-estimator input.sk-toggleable__control:checked~label.sk-toggleable__label {background-color: #d4ebff;}#sk-container-id-1 div.sk-label input.sk-toggleable__control:checked~label.sk-toggleable__label {background-color: #d4ebff;}#sk-container-id-1 input.sk-hidden--visually {border: 0;clip: rect(1px 1px 1px 1px);clip: rect(1px, 1px, 1px, 1px);height: 1px;margin: -1px;overflow: hidden;padding: 0;position: absolute;width: 1px;}#sk-container-id-1 div.sk-estimator {font-family: monospace;background-color: #f0f8ff;border: 1px dotted black;border-radius: 0.25em;box-sizing: border-box;margin-bottom: 0.5em;}#sk-container-id-1 div.sk-estimator:hover {background-color: #d4ebff;}#sk-container-id-1 div.sk-parallel-item::after {content: \"\";width: 100%;border-bottom: 1px solid gray;flex-grow: 1;}#sk-container-id-1 div.sk-label:hover label.sk-toggleable__label {background-color: #d4ebff;}#sk-container-id-1 div.sk-serial::before {content: \"\";position: absolute;border-left: 1px solid gray;box-sizing: border-box;top: 0;bottom: 0;left: 50%;z-index: 0;}#sk-container-id-1 div.sk-serial {display: flex;flex-direction: column;align-items: center;background-color: white;padding-right: 0.2em;padding-left: 0.2em;position: relative;}#sk-container-id-1 div.sk-item {position: relative;z-index: 1;}#sk-container-id-1 div.sk-parallel {display: flex;align-items: stretch;justify-content: center;background-color: white;position: relative;}#sk-container-id-1 div.sk-item::before, #sk-container-id-1 div.sk-parallel-item::before {content: \"\";position: absolute;border-left: 1px solid gray;box-sizing: border-box;top: 0;bottom: 0;left: 50%;z-index: -1;}#sk-container-id-1 div.sk-parallel-item {display: flex;flex-direction: column;z-index: 1;position: relative;background-color: white;}#sk-container-id-1 div.sk-parallel-item:first-child::after {align-self: flex-end;width: 50%;}#sk-container-id-1 div.sk-parallel-item:last-child::after {align-self: flex-start;width: 50%;}#sk-container-id-1 div.sk-parallel-item:only-child::after {width: 0;}#sk-container-id-1 div.sk-dashed-wrapped {border: 1px dashed gray;margin: 0 0.4em 0.5em 0.4em;box-sizing: border-box;padding-bottom: 0.4em;background-color: white;}#sk-container-id-1 div.sk-label label {font-family: monospace;font-weight: bold;display: inline-block;line-height: 1.2em;}#sk-container-id-1 div.sk-label-container {text-align: center;}#sk-container-id-1 div.sk-container {/* jupyter's `normalize.less` sets `[hidden] { display: none; }` but bootstrap.min.css set `[hidden] { display: none !important; }` so we also need the `!important` here to be able to override the default hidden behavior on the sphinx rendered scikit-learn.org. See: https://github.com/scikit-learn/scikit-learn/issues/21755 */display: inline-block !important;position: relative;}#sk-container-id-1 div.sk-text-repr-fallback {display: none;}</style><div id=\"sk-container-id-1\" class=\"sk-top-container\"><div class=\"sk-text-repr-fallback\"><pre>StandardScaler()</pre><b>In a Jupyter environment, please rerun this cell to show the HTML representation or trust the notebook. <br />On GitHub, the HTML representation is unable to render, please try loading this page with nbviewer.org.</b></div><div class=\"sk-container\" hidden><div class=\"sk-item\"><div class=\"sk-estimator sk-toggleable\"><input class=\"sk-toggleable__control sk-hidden--visually\" id=\"sk-estimator-id-1\" type=\"checkbox\" checked><label for=\"sk-estimator-id-1\" class=\"sk-toggleable__label sk-toggleable__label-arrow\">StandardScaler</label><div class=\"sk-toggleable__content\"><pre>StandardScaler()</pre></div></div></div></div></div>"
      ],
      "text/plain": [
       "StandardScaler()"
      ]
     },
     "execution_count": 4,
     "metadata": {},
     "output_type": "execute_result"
    }
   ],
   "source": [
    "from sklearn.preprocessing import StandardScaler\n",
    "\n",
    "scale = StandardScaler().set_output(transform=\"pandas\")\n",
    "scale.fit(features, label)"
   ]
  },
  {
   "cell_type": "code",
   "execution_count": 5,
   "id": "e0a4767e",
   "metadata": {},
   "outputs": [],
   "source": [
    "data_scaler = scale.fit_transform(features, label)"
   ]
  },
  {
   "cell_type": "code",
   "execution_count": 6,
   "id": "5a3f0791",
   "metadata": {},
   "outputs": [
    {
     "data": {
      "text/html": [
       "<div>\n",
       "<style scoped>\n",
       "    .dataframe tbody tr th:only-of-type {\n",
       "        vertical-align: middle;\n",
       "    }\n",
       "\n",
       "    .dataframe tbody tr th {\n",
       "        vertical-align: top;\n",
       "    }\n",
       "\n",
       "    .dataframe thead th {\n",
       "        text-align: right;\n",
       "    }\n",
       "</style>\n",
       "<table border=\"1\" class=\"dataframe\">\n",
       "  <thead>\n",
       "    <tr style=\"text-align: right;\">\n",
       "      <th></th>\n",
       "      <th>age</th>\n",
       "      <th>fnlwgt</th>\n",
       "      <th>capital-gain</th>\n",
       "      <th>capital-loss</th>\n",
       "    </tr>\n",
       "  </thead>\n",
       "  <tbody>\n",
       "    <tr>\n",
       "      <th>0</th>\n",
       "      <td>-0.995129</td>\n",
       "      <td>0.351675</td>\n",
       "      <td>-0.144804</td>\n",
       "      <td>-0.217127</td>\n",
       "    </tr>\n",
       "    <tr>\n",
       "      <th>1</th>\n",
       "      <td>-0.046942</td>\n",
       "      <td>-0.945524</td>\n",
       "      <td>-0.144804</td>\n",
       "      <td>-0.217127</td>\n",
       "    </tr>\n",
       "    <tr>\n",
       "      <th>2</th>\n",
       "      <td>-0.776316</td>\n",
       "      <td>1.394723</td>\n",
       "      <td>-0.144804</td>\n",
       "      <td>-0.217127</td>\n",
       "    </tr>\n",
       "    <tr>\n",
       "      <th>3</th>\n",
       "      <td>0.390683</td>\n",
       "      <td>-0.277844</td>\n",
       "      <td>0.886874</td>\n",
       "      <td>-0.217127</td>\n",
       "    </tr>\n",
       "    <tr>\n",
       "      <th>4</th>\n",
       "      <td>-1.505691</td>\n",
       "      <td>-0.815954</td>\n",
       "      <td>-0.144804</td>\n",
       "      <td>-0.217127</td>\n",
       "    </tr>\n",
       "    <tr>\n",
       "      <th>...</th>\n",
       "      <td>...</td>\n",
       "      <td>...</td>\n",
       "      <td>...</td>\n",
       "      <td>...</td>\n",
       "    </tr>\n",
       "    <tr>\n",
       "      <th>48837</th>\n",
       "      <td>-0.849254</td>\n",
       "      <td>0.640492</td>\n",
       "      <td>-0.144804</td>\n",
       "      <td>-0.217127</td>\n",
       "    </tr>\n",
       "    <tr>\n",
       "      <th>48838</th>\n",
       "      <td>0.098933</td>\n",
       "      <td>-0.334178</td>\n",
       "      <td>-0.144804</td>\n",
       "      <td>-0.217127</td>\n",
       "    </tr>\n",
       "    <tr>\n",
       "      <th>48839</th>\n",
       "      <td>1.411808</td>\n",
       "      <td>-0.357510</td>\n",
       "      <td>-0.144804</td>\n",
       "      <td>-0.217127</td>\n",
       "    </tr>\n",
       "    <tr>\n",
       "      <th>48840</th>\n",
       "      <td>-1.213941</td>\n",
       "      <td>0.111984</td>\n",
       "      <td>-0.144804</td>\n",
       "      <td>-0.217127</td>\n",
       "    </tr>\n",
       "    <tr>\n",
       "      <th>48841</th>\n",
       "      <td>0.974183</td>\n",
       "      <td>0.930494</td>\n",
       "      <td>1.871315</td>\n",
       "      <td>-0.217127</td>\n",
       "    </tr>\n",
       "  </tbody>\n",
       "</table>\n",
       "<p>48842 rows × 4 columns</p>\n",
       "</div>"
      ],
      "text/plain": [
       "            age    fnlwgt  capital-gain  capital-loss\n",
       "0     -0.995129  0.351675     -0.144804     -0.217127\n",
       "1     -0.046942 -0.945524     -0.144804     -0.217127\n",
       "2     -0.776316  1.394723     -0.144804     -0.217127\n",
       "3      0.390683 -0.277844      0.886874     -0.217127\n",
       "4     -1.505691 -0.815954     -0.144804     -0.217127\n",
       "...         ...       ...           ...           ...\n",
       "48837 -0.849254  0.640492     -0.144804     -0.217127\n",
       "48838  0.098933 -0.334178     -0.144804     -0.217127\n",
       "48839  1.411808 -0.357510     -0.144804     -0.217127\n",
       "48840 -1.213941  0.111984     -0.144804     -0.217127\n",
       "48841  0.974183  0.930494      1.871315     -0.217127\n",
       "\n",
       "[48842 rows x 4 columns]"
      ]
     },
     "execution_count": 6,
     "metadata": {},
     "output_type": "execute_result"
    }
   ],
   "source": [
    "data_scaler"
   ]
  },
  {
   "cell_type": "code",
   "execution_count": 7,
   "id": "d0ebc821",
   "metadata": {},
   "outputs": [
    {
     "data": {
      "text/plain": [
       "Text(0.5, 0.98, 'Joint distribution after transform')"
      ]
     },
     "execution_count": 7,
     "metadata": {},
     "output_type": "execute_result"
    },
    {
     "data": {
      "image/png": "[encoded data removed]",
      "text/plain": [
       "<Figure size 600x600 with 3 Axes>"
      ]
     },
     "metadata": {},
     "output_type": "display_data"
    },
    {
     "data": {
      "image/png": "[encoded data removed]",
      "text/plain": [
       "<Figure size 600x600 with 3 Axes>"
      ]
     },
     "metadata": {},
     "output_type": "display_data"
    }
   ],
   "source": [
    "sns.jointplot(data=features[:300],\n",
    "             x=\"age\",\n",
    "             y=\"fnlwgt\",\n",
    "             hue=label)\n",
    "plt.suptitle(\"Joint distribution before transform\")\n",
    "\n",
    "\n",
    "sns.jointplot(data=data_scaler[:300],\n",
    "             x=\"age\",\n",
    "             y=\"fnlwgt\",\n",
    "             hue=label)\n",
    "plt.suptitle(\"Joint distribution after transform\")\n"
   ]
  },
  {
   "cell_type": "code",
   "execution_count": 8,
   "id": "808881a1",
   "metadata": {},
   "outputs": [
    {
     "data": {
      "text/html": [
       "<style>#sk-container-id-2 {color: black;}#sk-container-id-2 pre{padding: 0;}#sk-container-id-2 div.sk-toggleable {background-color: white;}#sk-container-id-2 label.sk-toggleable__label {cursor: pointer;display: block;width: 100%;margin-bottom: 0;padding: 0.3em;box-sizing: border-box;text-align: center;}#sk-container-id-2 label.sk-toggleable__label-arrow:before {content: \"▸\";float: left;margin-right: 0.25em;color: #696969;}#sk-container-id-2 label.sk-toggleable__label-arrow:hover:before {color: black;}#sk-container-id-2 div.sk-estimator:hover label.sk-toggleable__label-arrow:before {color: black;}#sk-container-id-2 div.sk-toggleable__content {max-height: 0;max-width: 0;overflow: hidden;text-align: left;background-color: #f0f8ff;}#sk-container-id-2 div.sk-toggleable__content pre {margin: 0.2em;color: black;border-radius: 0.25em;background-color: #f0f8ff;}#sk-container-id-2 input.sk-toggleable__control:checked~div.sk-toggleable__content {max-height: 200px;max-width: 100%;overflow: auto;}#sk-container-id-2 input.sk-toggleable__control:checked~label.sk-toggleable__label-arrow:before {content: \"▾\";}#sk-container-id-2 div.sk-estimator input.sk-toggleable__control:checked~label.sk-toggleable__label {background-color: #d4ebff;}#sk-container-id-2 div.sk-label input.sk-toggleable__control:checked~label.sk-toggleable__label {background-color: #d4ebff;}#sk-container-id-2 input.sk-hidden--visually {border: 0;clip: rect(1px 1px 1px 1px);clip: rect(1px, 1px, 1px, 1px);height: 1px;margin: -1px;overflow: hidden;padding: 0;position: absolute;width: 1px;}#sk-container-id-2 div.sk-estimator {font-family: monospace;background-color: #f0f8ff;border: 1px dotted black;border-radius: 0.25em;box-sizing: border-box;margin-bottom: 0.5em;}#sk-container-id-2 div.sk-estimator:hover {background-color: #d4ebff;}#sk-container-id-2 div.sk-parallel-item::after {content: \"\";width: 100%;border-bottom: 1px solid gray;flex-grow: 1;}#sk-container-id-2 div.sk-label:hover label.sk-toggleable__label {background-color: #d4ebff;}#sk-container-id-2 div.sk-serial::before {content: \"\";position: absolute;border-left: 1px solid gray;box-sizing: border-box;top: 0;bottom: 0;left: 50%;z-index: 0;}#sk-container-id-2 div.sk-serial {display: flex;flex-direction: column;align-items: center;background-color: white;padding-right: 0.2em;padding-left: 0.2em;position: relative;}#sk-container-id-2 div.sk-item {position: relative;z-index: 1;}#sk-container-id-2 div.sk-parallel {display: flex;align-items: stretch;justify-content: center;background-color: white;position: relative;}#sk-container-id-2 div.sk-item::before, #sk-container-id-2 div.sk-parallel-item::before {content: \"\";position: absolute;border-left: 1px solid gray;box-sizing: border-box;top: 0;bottom: 0;left: 50%;z-index: -1;}#sk-container-id-2 div.sk-parallel-item {display: flex;flex-direction: column;z-index: 1;position: relative;background-color: white;}#sk-container-id-2 div.sk-parallel-item:first-child::after {align-self: flex-end;width: 50%;}#sk-container-id-2 div.sk-parallel-item:last-child::after {align-self: flex-start;width: 50%;}#sk-container-id-2 div.sk-parallel-item:only-child::after {width: 0;}#sk-container-id-2 div.sk-dashed-wrapped {border: 1px dashed gray;margin: 0 0.4em 0.5em 0.4em;box-sizing: border-box;padding-bottom: 0.4em;background-color: white;}#sk-container-id-2 div.sk-label label {font-family: monospace;font-weight: bold;display: inline-block;line-height: 1.2em;}#sk-container-id-2 div.sk-label-container {text-align: center;}#sk-container-id-2 div.sk-container {/* jupyter's `normalize.less` sets `[hidden] { display: none; }` but bootstrap.min.css set `[hidden] { display: none !important; }` so we also need the `!important` here to be able to override the default hidden behavior on the sphinx rendered scikit-learn.org. See: https://github.com/scikit-learn/scikit-learn/issues/21755 */display: inline-block !important;position: relative;}#sk-container-id-2 div.sk-text-repr-fallback {display: none;}</style><div id=\"sk-container-id-2\" class=\"sk-top-container\"><div class=\"sk-text-repr-fallback\"><pre>Pipeline(steps=[(&#x27;standardscaler&#x27;, StandardScaler()),\n",
       "                (&#x27;logisticregression&#x27;, LogisticRegression())])</pre><b>In a Jupyter environment, please rerun this cell to show the HTML representation or trust the notebook. <br />On GitHub, the HTML representation is unable to render, please try loading this page with nbviewer.org.</b></div><div class=\"sk-container\" hidden><div class=\"sk-item sk-dashed-wrapped\"><div class=\"sk-label-container\"><div class=\"sk-label sk-toggleable\"><input class=\"sk-toggleable__control sk-hidden--visually\" id=\"sk-estimator-id-2\" type=\"checkbox\" ><label for=\"sk-estimator-id-2\" class=\"sk-toggleable__label sk-toggleable__label-arrow\">Pipeline</label><div class=\"sk-toggleable__content\"><pre>Pipeline(steps=[(&#x27;standardscaler&#x27;, StandardScaler()),\n",
       "                (&#x27;logisticregression&#x27;, LogisticRegression())])</pre></div></div></div><div class=\"sk-serial\"><div class=\"sk-item\"><div class=\"sk-estimator sk-toggleable\"><input class=\"sk-toggleable__control sk-hidden--visually\" id=\"sk-estimator-id-3\" type=\"checkbox\" ><label for=\"sk-estimator-id-3\" class=\"sk-toggleable__label sk-toggleable__label-arrow\">StandardScaler</label><div class=\"sk-toggleable__content\"><pre>StandardScaler()</pre></div></div></div><div class=\"sk-item\"><div class=\"sk-estimator sk-toggleable\"><input class=\"sk-toggleable__control sk-hidden--visually\" id=\"sk-estimator-id-4\" type=\"checkbox\" ><label for=\"sk-estimator-id-4\" class=\"sk-toggleable__label sk-toggleable__label-arrow\">LogisticRegression</label><div class=\"sk-toggleable__content\"><pre>LogisticRegression()</pre></div></div></div></div></div></div></div>"
      ],
      "text/plain": [
       "Pipeline(steps=[('standardscaler', StandardScaler()),\n",
       "                ('logisticregression', LogisticRegression())])"
      ]
     },
     "execution_count": 8,
     "metadata": {},
     "output_type": "execute_result"
    }
   ],
   "source": [
    "from sklearn.pipeline import make_pipeline\n",
    "from sklearn.linear_model import LogisticRegression\n",
    "from sklearn.model_selection import train_test_split\n",
    "random_state = 82\n",
    "\n",
    "X_train, X_test, y_train, y_test = train_test_split(features, label, random_state=random_state)\n",
    "model = make_pipeline(StandardScaler(), LogisticRegression())\n",
    "model.fit(X_train, y_train)"
   ]
  },
  {
   "cell_type": "code",
   "execution_count": 9,
   "id": "86ad18ca",
   "metadata": {},
   "outputs": [
    {
     "data": {
      "text/plain": [
       "{'standardscaler': StandardScaler(),\n",
       " 'logisticregression': LogisticRegression()}"
      ]
     },
     "execution_count": 9,
     "metadata": {},
     "output_type": "execute_result"
    }
   ],
   "source": [
    "model.named_steps"
   ]
  },
  {
   "cell_type": "code",
   "execution_count": 10,
   "id": "9a2b4ef2",
   "metadata": {},
   "outputs": [
    {
     "name": "stdout",
     "output_type": "stream",
     "text": [
      "Model before transform: \n",
      "Score: 79.77%, \n",
      "Total training time: 0.21300458908081055 \n",
      "Total iteration: 63\n",
      "\n",
      "\n",
      "Model after transform: \n",
      "Score: 80.14%, \n",
      "Total training time: 0.07832455635070801 \n",
      "Total iteration: 12\n"
     ]
    }
   ],
   "source": [
    "import time\n",
    "\n",
    "# Before Transform Data - Non-Pipeline\n",
    "start = time.time()\n",
    "logistic = LogisticRegression().fit(X_train, y_train)\n",
    "total_time_before_transform = time.time() - start\n",
    "\n",
    "score = logistic.score(X_test, y_test)\n",
    "print(f\"Model before transform: \\n\" \n",
    "      f\"Score: {score*100:.2f}%, \\n\" \n",
    "      f\"Total training time: {total_time_before_transform} \\n\" \n",
    "      f\"Total iteration: {logistic.n_iter_[0]}\")\n",
    "\n",
    "print()\n",
    "print()\n",
    "\n",
    "# After Transform Data - Pipeline\n",
    "start = time.time()\n",
    "model.fit(X_train, y_train)\n",
    "total_time_after_transform = time.time() - start\n",
    "\n",
    "score = model.score(X_test, y_test)\n",
    "\n",
    "print(f\"Model after transform: \\n\" \n",
    "      f\"Score: {score*100:.2f}%, \\n\" \n",
    "      f\"Total training time: {total_time_after_transform} \\n\" \n",
    "      f\"Total iteration: {model[-1].n_iter_[0]}\")"
   ]
  },
  {
   "cell_type": "code",
   "execution_count": 28,
   "id": "f7416ffa",
   "metadata": {},
   "outputs": [
    {
     "name": "stdout",
     "output_type": "stream",
     "text": [
      "CPU times: total: 312 ms\n",
      "Wall time: 549 ms\n"
     ]
    },
    {
     "data": {
      "text/plain": [
       "{'fit_time': array([0.08391047, 0.08403969, 0.07982159, 0.07983017, 0.08035135]),\n",
       " 'score_time': array([0.02005219, 0.01207018, 0.01306581, 0.01309156, 0.01299119]),\n",
       " 'test_score': array([0.79834169, 0.80253864, 0.8030303 , 0.80047093, 0.80702293])}"
      ]
     },
     "execution_count": 28,
     "metadata": {},
     "output_type": "execute_result"
    }
   ],
   "source": [
    "%%time\n",
    "from sklearn.model_selection import cross_validate\n",
    "cv_model = cross_validate(model, features, label, cv = 5)\n",
    "cv_model"
   ]
  },
  {
   "cell_type": "code",
   "execution_count": 30,
   "id": "87e80f40",
   "metadata": {},
   "outputs": [
    {
     "name": "stdout",
     "output_type": "stream",
     "text": [
      "80.228 ± 0.290\n"
     ]
    }
   ],
   "source": [
    "score = cv_model[\"test_score\"]\n",
    "\n",
    "print(f\"{score.mean() * 100:2.3f} ± {score.std() * 100:2.3f}\")"
   ]
  },
  {
   "cell_type": "code",
   "execution_count": null,
   "id": "c00f5849",
   "metadata": {},
   "outputs": [],
   "source": []
  },
  {
   "cell_type": "code",
   "execution_count": null,
   "id": "18475d87",
   "metadata": {},
   "outputs": [],
   "source": []
  },
  {
   "cell_type": "code",
   "execution_count": null,
   "id": "5b804f2e",
   "metadata": {},
   "outputs": [],
   "source": []
  },
  {
   "cell_type": "code",
   "execution_count": null,
   "id": "2fc5b732",
   "metadata": {},
   "outputs": [],
   "source": []
  },
  {
   "cell_type": "code",
   "execution_count": null,
   "id": "219878f1",
   "metadata": {},
   "outputs": [],
   "source": []
  }
 ],
 "metadata": {
  "kernelspec": {
   "display_name": "Python 3 (ipykernel)",
   "language": "python",
   "name": "python3"
  },
  "language_info": {
   "codemirror_mode": {
    "name": "ipython",
    "version": 3
   },
   "file_extension": ".py",
   "mimetype": "text/x-python",
   "name": "python",
   "nbconvert_exporter": "python",
   "pygments_lexer": "ipython3",
   "version": "3.9.16"
  }
 },
 "nbformat": 4,
 "nbformat_minor": 5
}
